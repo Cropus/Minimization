{
  "nbformat": 4,
  "nbformat_minor": 0,
  "metadata": {
    "colab": {
      "name": "1dMinimization.ipynb",
      "provenance": [],
      "collapsed_sections": [
        "5KBZZZBttNeN",
        "SHNYnYCptRvo",
        "HgSTYyWitVq9",
        "-CPFmuGetZUN",
        "DYWYJdtBtcZY",
        "gROGPW9fYEp2",
        "viGpNghFWzQI",
        "qoqVxeZ90P-D",
        "0PXDF-TZ0gEt",
        "3mdJVd69bk1m",
        "Pl7m-gai0-bd",
        "-ELIipkL08Nj",
        "oWrPcsj806Dy",
        "jdl403No033g",
        "0HPMlpRy00x-",
        "urdXwvzcbv9F",
        "aOkzMshl1Pph",
        "JTiCv9241NDZ",
        "43dJbtt41K2j",
        "Y2hXLBos1Id-",
        "3UduitEH1GkH",
        "6wsUquO8bwJX",
        "wuqRWNO-1oru",
        "KossHmq81lZk",
        "S7ynB0KM1i_D",
        "qfrD03FI1giE",
        "sO5U2cnS1avb",
        "g1JEDozqbvvT",
        "quEYM8Ez10PO",
        "63ZylUAc1yHU",
        "ecMd0Bch1wTu",
        "Hk9nD3Vu1un8",
        "06DD-NrD1sXa",
        "hP0E76bfaRLN",
        "pYoejYQurpmw"
      ],
      "toc_visible": true,
      "include_colab_link": true
    },
    "kernelspec": {
      "name": "python3",
      "display_name": "Python 3"
    }
  },
  "cells": [
    {
      "cell_type": "markdown",
      "metadata": {
        "id": "view-in-github",
        "colab_type": "text"
      },
      "source": [
        "<a href=\"https://colab.research.google.com/github/Cropus/Minimization/blob/main/Minimization_1.ipynb\" target=\"_parent\"><img src=\"https://colab.research.google.com/assets/colab-badge.svg\" alt=\"Open In Colab\"/></a>"
      ]
    },
    {
      "cell_type": "markdown",
      "metadata": {
        "id": "FWPE_s81XEYI"
      },
      "source": [
        "# Задание\n",
        "\n",
        "Реализовать алгоритмы одномерной оптимизации функции без производной:\n",
        "\n",
        "\n",
        "\n",
        "1.   Метод дихотомии\n",
        "2.   Метод золотого сечения\n",
        "3.   Метод Фибоначчи\n",
        "4.   Метод парабол\n",
        "5.   Комбинированный метод Брента"
      ]
    },
    {
      "cell_type": "markdown",
      "metadata": {
        "id": "e744_AcCXx1-"
      },
      "source": [
        "# Реализация методов"
      ]
    },
    {
      "cell_type": "code",
      "metadata": {
        "id": "-4TMDi7-bZ4R"
      },
      "source": [
        "# Импорт\n",
        "import numpy as np\n",
        "import pandas as pd\n",
        "import matplotlib.pyplot as plt\n",
        "import math as m"
      ],
      "execution_count": null,
      "outputs": []
    },
    {
      "cell_type": "markdown",
      "metadata": {
        "id": "5KBZZZBttNeN"
      },
      "source": [
        "## Дихотомия"
      ]
    },
    {
      "cell_type": "code",
      "metadata": {
        "id": "6XGFzmdzch7Q"
      },
      "source": [
        "# 1. Метод дихотомии\n",
        "def dichotomy(f, a, b, precision):\n",
        "  ai, bi = a, b\n",
        "  prec = []\n",
        "\n",
        "  prev_int = abs(a - b)\n",
        "  col_names = ['Interval', 'Ratio', 'a', 'b', 'mid', 'f(a)', 'f(b)', 'calculations']\n",
        "  df = pd.DataFrame(columns = col_names)\n",
        "\n",
        "  while abs(ai - bi) > precision:\n",
        "    xMid = (ai+bi) / 2\n",
        "    x1 = xMid - (precision / 4)\n",
        "    x2 = xMid + (precision / 4)\n",
        "    fx1 = f(x1)\n",
        "    fx2 = f(x2)\n",
        "    \n",
        "    prec.append(m.log(abs(ai-bi)))\n",
        "    df.loc[len(df)] = [abs(ai - bi), abs(ai - bi)/prev_int, x1, x2, xMid, fx1, fx2, 2]\n",
        "    prev_int = abs(ai - bi)\n",
        "\n",
        "    if fx1 < fx2:\n",
        "      bi = x2\n",
        "    elif fx1 > fx2:\n",
        "      ai = x1\n",
        "    else:\n",
        "      ai = x1\n",
        "      bi = x2\n",
        "  \n",
        "  return df, (ai + bi)/2, f((ai + bi)/2), prec"
      ],
      "execution_count": null,
      "outputs": []
    },
    {
      "cell_type": "markdown",
      "metadata": {
        "id": "SHNYnYCptRvo"
      },
      "source": [
        "## Золотое сечение"
      ]
    },
    {
      "cell_type": "code",
      "metadata": {
        "id": "3TDaOYUWI_su"
      },
      "source": [
        "# 2. Метод золотого сечения\n",
        "phi = (1+m.sqrt(5))/2\n",
        "resphi = 2 - phi\n",
        "\n",
        "def goldenRatio(f, a, b, precision):\n",
        "  ai, bi = a, b\n",
        "  x1 = ai + resphi * (b - a)\n",
        "  x2 = bi - resphi * (b - a)\n",
        "  y1 = f(x1)\n",
        "  y2 = f(x2)\n",
        "  prec = []\n",
        "\n",
        "  prev_int = 1\n",
        "  col_names = ['Interval', 'Ratio', 'a', 'b', 'f(a)', 'f(b)', 'calculations']\n",
        "  df = pd.DataFrame(columns = col_names)\n",
        "  prev_int = abs(ai - bi)\n",
        "  df.loc[len(df)] = [prev_int, prev_int/prev_int, x1, x2, y1, y2, 2]\n",
        "  prec.append(m.log(abs(ai-bi)))\n",
        "\n",
        "  while abs(ai - bi) > precision:\n",
        "    if y1 < y2:\n",
        "      bi = x2\n",
        "      x2 = x1\n",
        "      y2 = y1\n",
        "      x1 = ai + resphi * (bi-ai)\n",
        "      y1 = f(x1)\n",
        "    else:\n",
        "      ai = x1\n",
        "      x1 = x2\n",
        "      y1 = y2\n",
        "      x2 = bi - resphi * (bi - ai)\n",
        "      y2 = f(x2)\n",
        "    \n",
        "    prec.append(m.log(abs(ai-bi)))\n",
        "    df.loc[len(df)] = [abs(ai - bi), abs(ai - bi)/prev_int, x1, x2, y1, y2, 1]\n",
        "    prev_int = abs(ai - bi)\n",
        "\n",
        "  return df, (ai + bi)/2, f((ai + bi)/2), prec"
      ],
      "execution_count": null,
      "outputs": []
    },
    {
      "cell_type": "markdown",
      "metadata": {
        "id": "HgSTYyWitVq9"
      },
      "source": [
        "## Фибоначчи"
      ]
    },
    {
      "cell_type": "code",
      "metadata": {
        "id": "ifmHuXraZDVf"
      },
      "source": [
        "# 3. Метод Фибоначчи\n",
        "\n",
        "def fibonacci_min(f, a, b, e):\n",
        "  prec = []\n",
        "  prev_int = 1\n",
        "  col_names = ['Interval', 'Ratio', 'a', 'b', 'f(a)', 'f(b)', 'calculations']\n",
        "  df = pd.DataFrame(columns = col_names)\n",
        "  \n",
        "  def fibonacci(n):\n",
        "      return (1 / m.sqrt(5)) * (((1 + m.sqrt(5)) / 2) ** n - ((1 - m.sqrt(5)) / 2) ** n)\n",
        "  \n",
        "  def find_dot(a, b, n, k, is_first):\n",
        "      if is_first:\n",
        "          return a + (fibonacci(n - k - 1) * (b - a)) / fibonacci(n - k + 1)\n",
        "      else:\n",
        "          return a + (fibonacci(n - k) * (b - a)) / fibonacci(n - k + 1)\n",
        "      \n",
        "  n = 0\n",
        "  while (b - a) / e >= fibonacci(n + 2):\n",
        "      n += 1\n",
        "      \n",
        "  x1 = find_dot(a, b, n, 1, True)\n",
        "  x2 = find_dot(a, b, n, 1, False)\n",
        "  \n",
        "\n",
        "  prec.append(m.log(abs(a-b)))\n",
        "  df.loc[len(df)] = [abs(a - b), abs(a - b)/prev_int, a, b, f(x1), f(x2), 2]\n",
        "\n",
        "  prev_int = abs(a - b)\n",
        "      \n",
        "  for k in range(2, n + 1):\n",
        "      \n",
        "      if f(x1) > f(x2):\n",
        "          a = x1\n",
        "          x1 = x2\n",
        "          x2 = find_dot(a, b, n, k, False)\n",
        "      else:\n",
        "          b = x2\n",
        "          x2 = x1\n",
        "          x1 = find_dot(a, b, n, k, True)\n",
        "\n",
        "      prec.append(m.log(abs(a-b)))\n",
        "      df.loc[len(df)] = [abs(a - b), abs(a - b)/prev_int, a, b, f(x1), f(x2), 1]\n",
        "      prev_int = abs(a - b)\n",
        "          \n",
        "      if k == n - 2:\n",
        "          break\n",
        "          \n",
        "  x_min = (x1 + x2) / 2\n",
        "  f_min = f(x_min)\n",
        "  \n",
        "  return df, x_min, f_min, prec"
      ],
      "execution_count": null,
      "outputs": []
    },
    {
      "cell_type": "markdown",
      "metadata": {
        "id": "-CPFmuGetZUN"
      },
      "source": [
        "## Метод парабол"
      ]
    },
    {
      "cell_type": "code",
      "metadata": {
        "id": "ZLxctf9WZDnw"
      },
      "source": [
        "# 4. Метод парабол\n",
        "def parabolic_minimum(x1, x2, x3, y1, y2, y3):\n",
        "      return x2 - 0.5 * ((x2 - x1) ** 2 * (y2 - y3) - (x2 - x3) ** 2 * (y2 - y1)) / (\n",
        "          (x2 - x1) * (y2 - y3) - (x2 - x3) * (y2 - y1))\n",
        "\n",
        "def parabolic(f, a, b, e):\n",
        "  history = list()\n",
        "  prev_int = 1\n",
        "  prec = []\n",
        "\n",
        "  col_names = ['abs(x3-x2)', 'Ratio', 'x1', 'x2', 'x3', 'f(x1)', 'f(x2)', 'f(x3)', 'calculations']\n",
        "  df = pd.DataFrame(columns = col_names)\n",
        "  \n",
        "  x1, x2, x3 = a, (a + b) / 2, b\n",
        "  y1, y2, y3 = f(x1), f(x2), f(x3)\n",
        "\n",
        "  prec.append(m.log(abs(x3-x2)))\n",
        "  df.loc[len(df)] = [abs(x3 - x2), abs(x3 - x2)/prev_int, x1, x2, x3, f(x1), f(x2), f(x3), 3]\n",
        "  prev_int = abs(x3 - x2)\n",
        "  \n",
        "\n",
        "  while (x3 - x1 >= e):\n",
        "\n",
        "      u = parabolic_minimum(x1, x2, x3, y1, y2, y3)\n",
        "      yu = f(u)\n",
        "\n",
        "      if u < x2:\n",
        "          if yu < y2:\n",
        "              x3, y3 = x2, y2\n",
        "              x2, y2 = u, yu\n",
        "\n",
        "          else:\n",
        "\n",
        "              x1, y1 = u, yu\n",
        "      else:\n",
        "\n",
        "          if yu < y2:\n",
        "              x1, y1 = x2, y2\n",
        "              x2, y2 = u, yu\n",
        "\n",
        "          else:\n",
        "              x3, y3 = u, yu\n",
        "\n",
        "      prec.append(m.log(abs(x3-x2)))\n",
        "      df.loc[len(df)] = [abs(x3 - x2), abs(a - b)/prev_int, x1, x2, x3, f(x1), f(x2), f(x3), 1]\n",
        "      prev_int = abs(x3 - x2)\n",
        "      \n",
        "  x_min = (x1 + x3) / 2\n",
        "  f_min = f(x_min)\n",
        "      \n",
        "  return df, x_min, f_min, prec"
      ],
      "execution_count": null,
      "outputs": []
    },
    {
      "cell_type": "markdown",
      "metadata": {
        "id": "DYWYJdtBtcZY"
      },
      "source": [
        "## Метод Брента"
      ]
    },
    {
      "cell_type": "code",
      "metadata": {
        "id": "MzpuxPMOZDFv"
      },
      "source": [
        "# 5. Комбинированный метод Брента\n",
        "def brent(f, a, b, precision):\n",
        "  ai, bi = a, b\n",
        "  prec = []\n",
        "\n",
        "  prev_int = 1\n",
        "  col_names = ['Interval', 'Ratio', 'a', 'b', 'x', 'w', 'v', 'u', 'f(x)', 'f(w)', 'f(v)', 'f(u)', 'calculations']\n",
        "  df = pd.DataFrame(columns = col_names)\n",
        "\n",
        "  k = (3 - m.sqrt(5))/2\n",
        "  x = w = v = (ai + bi) / 2\n",
        "  yx = yw = yv = f(x)\n",
        "  d = e = bi - ai\n",
        "\n",
        "  prec.append(m.log(abs(ai-bi)))\n",
        "  df.loc[len(df)] = [abs(ai - bi), abs(ai - bi)/prev_int, ai, bi, x, w, v, 0, yx, yw, yv, 0, 3]\n",
        "  prev_int = abs(ai-bi)\n",
        "  \n",
        "\n",
        "  while abs(ai - bi) > precision:\n",
        "    g, e = e, d\n",
        "    is_accepted = False\n",
        "\n",
        "    if (x != w != v and yx != yw != yv and ((w - x) * (yw - yv) - (w - v) * (yw - yx)) != 0):\n",
        "      cur_u = parabolic_minimum(x, w, v, yx, yw, yv)\n",
        "      if (ai+precision < cur_u and\n",
        "          bi-precision > cur_u and\n",
        "         abs(cur_u-x) < g/2):       \n",
        "        u = cur_u\n",
        "        d = abs(u-x)\n",
        "        is_accepted = True\n",
        "    if (not is_accepted):\n",
        "      if (x < (bi + ai)/2):\n",
        "        u = x + k*(bi-x)\n",
        "        d = bi - x\n",
        "      else:\n",
        "        u = x - k*(x-ai)\n",
        "        d = x - ai\n",
        "      if (abs(u-x) < precision):\n",
        "        u = x + m.copysign(1, u-x)*precision\n",
        "  \n",
        "    yu = f(u)\n",
        "    if (yu <= yx):\n",
        "      if (u >= x):\n",
        "        ai = x\n",
        "      else:\n",
        "        bi = x\n",
        "      v, w, x, yv, yw, yx = w, x, u, yw, yx, yu\n",
        "    else:\n",
        "      if (u >= x):\n",
        "        bi = u\n",
        "      else:\n",
        "        ai = u\n",
        "      if (yu <= yw or w == x):\n",
        "        v, w, yv, yw = w, u, yw, yu\n",
        "      elif (yu <= yv or v == x or v == w):\n",
        "        v, yv = u, yu\n",
        "\n",
        "    if (abs(ai-bi) == prev_int):\n",
        "      return df, x, yx, prec\n",
        "    \n",
        "    prec.append(m.log(abs(ai-bi)))\n",
        "    df.loc[len(df)] = [abs(ai - bi), abs(ai - bi)/prev_int, ai, bi, x, w, v, u, yx, yw, yv, yu, 1]\n",
        "    prev_int = abs(ai-bi)\n",
        "  \n",
        "  return df, x, yx, prec"
      ],
      "execution_count": null,
      "outputs": []
    },
    {
      "cell_type": "markdown",
      "metadata": {
        "id": "gROGPW9fYEp2"
      },
      "source": [
        "# Тестирование\n"
      ]
    },
    {
      "cell_type": "code",
      "metadata": {
        "id": "J2f-1bZXdXm0"
      },
      "source": [
        "# Объявление функций\n",
        "f1 = lambda x: (-5*x**5)+(4*x**4)-(12*x**3)+(11*x**2)-(2*x)+1\n",
        "f2 = lambda x: m.log(x - 2, 10) ** 2 + m.log(10 - x, 10) ** 2 - x ** 0.2\n",
        "f3 = lambda x: -3*m.sin(0.75*x)+m.exp(-2*x)\n",
        "f4 = lambda x: m.exp(3*x)+5*m.exp(-2*x)\n",
        "f5 = lambda x: 0.2*x*m.log(x)+(x-2.3)**2\n",
        "\n",
        "# Начальные границы\n",
        "f1_a, f1_b = -0.5, 0.5\n",
        "f2_a, f2_b = 6, 9.9\n",
        "f3_a, f3_b = 0, 2*m.pi\n",
        "f4_a, f4_b = 0, 1\n",
        "f5_a, f5_b = 0.5, 2.5\n",
        "precision = 0.1"
      ],
      "execution_count": null,
      "outputs": []
    },
    {
      "cell_type": "markdown",
      "metadata": {
        "id": "viGpNghFWzQI"
      },
      "source": [
        "## Дихотомия\n"
      ]
    },
    {
      "cell_type": "markdown",
      "metadata": {
        "id": "qoqVxeZ90P-D"
      },
      "source": [
        "### f1"
      ]
    },
    {
      "cell_type": "code",
      "metadata": {
        "id": "amvkK0-7-pAS",
        "colab": {
          "base_uri": "https://localhost:8080/",
          "height": 247
        },
        "outputId": "66d8e8db-7cd1-40ed-91ab-a5abcb7f12c0"
      },
      "source": [
        "df, answer, ans, prec = dichotomy(f1, f1_a, f1_b, precision)\n",
        "print(f'x: {answer}')\n",
        "print(f'f(x): {ans}')\n",
        "calc = int(df['calculations'].sum())\n",
        "print(f'Количество вычислений: {calc}')\n",
        "df"
      ],
      "execution_count": null,
      "outputs": [
        {
          "output_type": "stream",
          "text": [
            "x: 0.10390625000000002\n",
            "f(x): 0.8978928992380548\n",
            "Количество вычислений: 10\n"
          ],
          "name": "stdout"
        },
        {
          "output_type": "execute_result",
          "data": {
            "text/html": [
              "<div>\n",
              "<style scoped>\n",
              "    .dataframe tbody tr th:only-of-type {\n",
              "        vertical-align: middle;\n",
              "    }\n",
              "\n",
              "    .dataframe tbody tr th {\n",
              "        vertical-align: top;\n",
              "    }\n",
              "\n",
              "    .dataframe thead th {\n",
              "        text-align: right;\n",
              "    }\n",
              "</style>\n",
              "<table border=\"1\" class=\"dataframe\">\n",
              "  <thead>\n",
              "    <tr style=\"text-align: right;\">\n",
              "      <th></th>\n",
              "      <th>Interval</th>\n",
              "      <th>Ratio</th>\n",
              "      <th>a</th>\n",
              "      <th>b</th>\n",
              "      <th>mid</th>\n",
              "      <th>f(a)</th>\n",
              "      <th>f(b)</th>\n",
              "      <th>calculations</th>\n",
              "    </tr>\n",
              "  </thead>\n",
              "  <tbody>\n",
              "    <tr>\n",
              "      <th>0</th>\n",
              "      <td>1.000000</td>\n",
              "      <td>1.000000</td>\n",
              "      <td>-0.025000</td>\n",
              "      <td>0.025000</td>\n",
              "      <td>0.000000</td>\n",
              "      <td>1.057064</td>\n",
              "      <td>0.956689</td>\n",
              "      <td>2.0</td>\n",
              "    </tr>\n",
              "    <tr>\n",
              "      <th>1</th>\n",
              "      <td>0.525000</td>\n",
              "      <td>0.525000</td>\n",
              "      <td>0.212500</td>\n",
              "      <td>0.262500</td>\n",
              "      <td>0.237500</td>\n",
              "      <td>0.962560</td>\n",
              "      <td>1.028675</td>\n",
              "      <td>2.0</td>\n",
              "    </tr>\n",
              "    <tr>\n",
              "      <th>2</th>\n",
              "      <td>0.287500</td>\n",
              "      <td>0.547619</td>\n",
              "      <td>0.093750</td>\n",
              "      <td>0.143750</td>\n",
              "      <td>0.118750</td>\n",
              "      <td>0.899565</td>\n",
              "      <td>0.905560</td>\n",
              "      <td>2.0</td>\n",
              "    </tr>\n",
              "    <tr>\n",
              "      <th>3</th>\n",
              "      <td>0.168750</td>\n",
              "      <td>0.586957</td>\n",
              "      <td>0.034375</td>\n",
              "      <td>0.084375</td>\n",
              "      <td>0.059375</td>\n",
              "      <td>0.943766</td>\n",
              "      <td>0.902534</td>\n",
              "      <td>2.0</td>\n",
              "    </tr>\n",
              "    <tr>\n",
              "      <th>4</th>\n",
              "      <td>0.109375</td>\n",
              "      <td>0.648148</td>\n",
              "      <td>0.064063</td>\n",
              "      <td>0.114063</td>\n",
              "      <td>0.089063</td>\n",
              "      <td>0.913926</td>\n",
              "      <td>0.897761</td>\n",
              "      <td>2.0</td>\n",
              "    </tr>\n",
              "  </tbody>\n",
              "</table>\n",
              "</div>"
            ],
            "text/plain": [
              "   Interval     Ratio         a  ...      f(a)      f(b)  calculations\n",
              "0  1.000000  1.000000 -0.025000  ...  1.057064  0.956689           2.0\n",
              "1  0.525000  0.525000  0.212500  ...  0.962560  1.028675           2.0\n",
              "2  0.287500  0.547619  0.093750  ...  0.899565  0.905560           2.0\n",
              "3  0.168750  0.586957  0.034375  ...  0.943766  0.902534           2.0\n",
              "4  0.109375  0.648148  0.064063  ...  0.913926  0.897761           2.0\n",
              "\n",
              "[5 rows x 8 columns]"
            ]
          },
          "metadata": {
            "tags": []
          },
          "execution_count": 253
        }
      ]
    },
    {
      "cell_type": "code",
      "metadata": {
        "colab": {
          "base_uri": "https://localhost:8080/",
          "height": 297
        },
        "id": "E6r90hvZpKVB",
        "outputId": "795b87a8-a510-4334-f408-3b264ef1994c"
      },
      "source": [
        "calculations = np.linspace(2, calc, len(prec))\n",
        "plt.plot(prec, calculations)\n",
        "plt.ylabel(\"calculations\")\n",
        "plt.xlabel(\"log(precision)\")"
      ],
      "execution_count": null,
      "outputs": [
        {
          "output_type": "execute_result",
          "data": {
            "text/plain": [
              "Text(0.5, 0, 'log(precision)')"
            ]
          },
          "metadata": {
            "tags": []
          },
          "execution_count": 254
        },
        {
          "output_type": "display_data",
          "data": {
            "image/png": "[encoded data removed]",
            "text/plain": [
              "<Figure size 432x288 with 1 Axes>"
            ]
          },
          "metadata": {
            "tags": [],
            "needs_background": "light"
          }
        }
      ]
    },
    {
      "cell_type": "markdown",
      "metadata": {
        "id": "SdmhjnZ10bui"
      },
      "source": [
        "### f2"
      ]
    },
    {
      "cell_type": "code",
      "metadata": {
        "id": "_qLUFbvBabUv",
        "colab": {
          "base_uri": "https://localhost:8080/",
          "height": 306
        },
        "outputId": "2419575a-9679-4ee8-a869-1224d29d2394"
      },
      "source": [
        "df, answer, ans, prec = dichotomy(f2, f2_a, f2_b, precision)\n",
        "print(f'x: {answer}')\n",
        "print(f'f(x): {ans}')\n",
        "calc = int(df['calculations'].sum())\n",
        "print(f'Количество вычислений: {calc}')\n",
        "df"
      ],
      "execution_count": null,
      "outputs": [
        {
          "output_type": "stream",
          "text": [
            "x: 8.7169921875\n",
            "f(x): -0.8460289908827466\n",
            "Количество вычислений: 14\n"
          ],
          "name": "stdout"
        },
        {
          "output_type": "execute_result",
          "data": {
            "text/html": [
              "<div>\n",
              "<style scoped>\n",
              "    .dataframe tbody tr th:only-of-type {\n",
              "        vertical-align: middle;\n",
              "    }\n",
              "\n",
              "    .dataframe tbody tr th {\n",
              "        vertical-align: top;\n",
              "    }\n",
              "\n",
              "    .dataframe thead th {\n",
              "        text-align: right;\n",
              "    }\n",
              "</style>\n",
              "<table border=\"1\" class=\"dataframe\">\n",
              "  <thead>\n",
              "    <tr style=\"text-align: right;\">\n",
              "      <th></th>\n",
              "      <th>Interval</th>\n",
              "      <th>Ratio</th>\n",
              "      <th>a</th>\n",
              "      <th>b</th>\n",
              "      <th>mid</th>\n",
              "      <th>f(a)</th>\n",
              "      <th>f(b)</th>\n",
              "      <th>calculations</th>\n",
              "    </tr>\n",
              "  </thead>\n",
              "  <tbody>\n",
              "    <tr>\n",
              "      <th>0</th>\n",
              "      <td>3.900000</td>\n",
              "      <td>1.000000</td>\n",
              "      <td>7.925000</td>\n",
              "      <td>7.975000</td>\n",
              "      <td>7.950000</td>\n",
              "      <td>-0.815316</td>\n",
              "      <td>-0.818171</td>\n",
              "      <td>2.0</td>\n",
              "    </tr>\n",
              "    <tr>\n",
              "      <th>1</th>\n",
              "      <td>1.975000</td>\n",
              "      <td>0.506410</td>\n",
              "      <td>8.887500</td>\n",
              "      <td>8.937500</td>\n",
              "      <td>8.912500</td>\n",
              "      <td>-0.843455</td>\n",
              "      <td>-0.841369</td>\n",
              "      <td>2.0</td>\n",
              "    </tr>\n",
              "    <tr>\n",
              "      <th>2</th>\n",
              "      <td>1.012500</td>\n",
              "      <td>0.512658</td>\n",
              "      <td>8.406250</td>\n",
              "      <td>8.456250</td>\n",
              "      <td>8.431250</td>\n",
              "      <td>-0.839223</td>\n",
              "      <td>-0.840994</td>\n",
              "      <td>2.0</td>\n",
              "    </tr>\n",
              "    <tr>\n",
              "      <th>3</th>\n",
              "      <td>0.531250</td>\n",
              "      <td>0.524691</td>\n",
              "      <td>8.646875</td>\n",
              "      <td>8.696875</td>\n",
              "      <td>8.671875</td>\n",
              "      <td>-0.845523</td>\n",
              "      <td>-0.845962</td>\n",
              "      <td>2.0</td>\n",
              "    </tr>\n",
              "    <tr>\n",
              "      <th>4</th>\n",
              "      <td>0.290625</td>\n",
              "      <td>0.547059</td>\n",
              "      <td>8.767188</td>\n",
              "      <td>8.817188</td>\n",
              "      <td>8.792188</td>\n",
              "      <td>-0.845892</td>\n",
              "      <td>-0.845275</td>\n",
              "      <td>2.0</td>\n",
              "    </tr>\n",
              "    <tr>\n",
              "      <th>5</th>\n",
              "      <td>0.170313</td>\n",
              "      <td>0.586022</td>\n",
              "      <td>8.707031</td>\n",
              "      <td>8.757031</td>\n",
              "      <td>8.732031</td>\n",
              "      <td>-0.846004</td>\n",
              "      <td>-0.845957</td>\n",
              "      <td>2.0</td>\n",
              "    </tr>\n",
              "    <tr>\n",
              "      <th>6</th>\n",
              "      <td>0.110156</td>\n",
              "      <td>0.646789</td>\n",
              "      <td>8.676953</td>\n",
              "      <td>8.726953</td>\n",
              "      <td>8.701953</td>\n",
              "      <td>-0.845832</td>\n",
              "      <td>-0.846037</td>\n",
              "      <td>2.0</td>\n",
              "    </tr>\n",
              "  </tbody>\n",
              "</table>\n",
              "</div>"
            ],
            "text/plain": [
              "   Interval     Ratio         a  ...      f(a)      f(b)  calculations\n",
              "0  3.900000  1.000000  7.925000  ... -0.815316 -0.818171           2.0\n",
              "1  1.975000  0.506410  8.887500  ... -0.843455 -0.841369           2.0\n",
              "2  1.012500  0.512658  8.406250  ... -0.839223 -0.840994           2.0\n",
              "3  0.531250  0.524691  8.646875  ... -0.845523 -0.845962           2.0\n",
              "4  0.290625  0.547059  8.767188  ... -0.845892 -0.845275           2.0\n",
              "5  0.170313  0.586022  8.707031  ... -0.846004 -0.845957           2.0\n",
              "6  0.110156  0.646789  8.676953  ... -0.845832 -0.846037           2.0\n",
              "\n",
              "[7 rows x 8 columns]"
            ]
          },
          "metadata": {
            "tags": []
          },
          "execution_count": 255
        }
      ]
    },
    {
      "cell_type": "code",
      "metadata": {
        "colab": {
          "base_uri": "https://localhost:8080/",
          "height": 297
        },
        "id": "toc8Qp09uhDs",
        "outputId": "d2d9eee7-57e9-460a-9a77-bd6bcf7c3553"
      },
      "source": [
        "calculations = np.linspace(2, calc, len(prec))\n",
        "plt.plot(prec, calculations)\n",
        "plt.ylabel(\"calculations\")\n",
        "plt.xlabel(\"log(precision)\")"
      ],
      "execution_count": null,
      "outputs": [
        {
          "output_type": "execute_result",
          "data": {
            "text/plain": [
              "Text(0.5, 0, 'log(precision)')"
            ]
          },
          "metadata": {
            "tags": []
          },
          "execution_count": 256
        },
        {
          "output_type": "display_data",
          "data": {
            "image/png": "[encoded data removed]",
            "text/plain": [
              "<Figure size 432x288 with 1 Axes>"
            ]
          },
          "metadata": {
            "tags": [],
            "needs_background": "light"
          }
        }
      ]
    },
    {
      "cell_type": "markdown",
      "metadata": {
        "id": "0PXDF-TZ0gEt"
      },
      "source": [
        "### f3"
      ]
    },
    {
      "cell_type": "code",
      "metadata": {
        "id": "do3aThg6acJa",
        "colab": {
          "base_uri": "https://localhost:8080/",
          "height": 306
        },
        "outputId": "eda079ce-8e3e-4a4b-ab2c-9e51e4cf66c7"
      },
      "source": [
        "df, answer, ans, prec = dichotomy(f3, f3_a, f3_b, precision)\n",
        "print(f'x: {answer}')\n",
        "print(f'f(x): {ans}')\n",
        "calc = int(df['calculations'].sum())\n",
        "print(f'Количество вычислений: {calc}')\n",
        "df"
      ],
      "execution_count": null,
      "outputs": [
        {
          "output_type": "stream",
          "text": [
            "x: 2.0946123090244715\n",
            "f(x): -2.9848419266097115\n",
            "Количество вычислений: 14\n"
          ],
          "name": "stdout"
        },
        {
          "output_type": "execute_result",
          "data": {
            "text/html": [
              "<div>\n",
              "<style scoped>\n",
              "    .dataframe tbody tr th:only-of-type {\n",
              "        vertical-align: middle;\n",
              "    }\n",
              "\n",
              "    .dataframe tbody tr th {\n",
              "        vertical-align: top;\n",
              "    }\n",
              "\n",
              "    .dataframe thead th {\n",
              "        text-align: right;\n",
              "    }\n",
              "</style>\n",
              "<table border=\"1\" class=\"dataframe\">\n",
              "  <thead>\n",
              "    <tr style=\"text-align: right;\">\n",
              "      <th></th>\n",
              "      <th>Interval</th>\n",
              "      <th>Ratio</th>\n",
              "      <th>a</th>\n",
              "      <th>b</th>\n",
              "      <th>mid</th>\n",
              "      <th>f(a)</th>\n",
              "      <th>f(b)</th>\n",
              "      <th>calculations</th>\n",
              "    </tr>\n",
              "  </thead>\n",
              "  <tbody>\n",
              "    <tr>\n",
              "      <th>0</th>\n",
              "      <td>6.283185</td>\n",
              "      <td>1.000000</td>\n",
              "      <td>3.116593</td>\n",
              "      <td>3.166593</td>\n",
              "      <td>3.141593</td>\n",
              "      <td>-2.158757</td>\n",
              "      <td>-2.079399</td>\n",
              "      <td>2.0</td>\n",
              "    </tr>\n",
              "    <tr>\n",
              "      <th>1</th>\n",
              "      <td>3.166593</td>\n",
              "      <td>0.503979</td>\n",
              "      <td>1.558296</td>\n",
              "      <td>1.608296</td>\n",
              "      <td>1.583296</td>\n",
              "      <td>-2.716446</td>\n",
              "      <td>-2.762736</td>\n",
              "      <td>2.0</td>\n",
              "    </tr>\n",
              "    <tr>\n",
              "      <th>2</th>\n",
              "      <td>1.608296</td>\n",
              "      <td>0.507895</td>\n",
              "      <td>2.337444</td>\n",
              "      <td>2.387444</td>\n",
              "      <td>2.362444</td>\n",
              "      <td>-2.940968</td>\n",
              "      <td>-2.919393</td>\n",
              "      <td>2.0</td>\n",
              "    </tr>\n",
              "    <tr>\n",
              "      <th>3</th>\n",
              "      <td>0.829148</td>\n",
              "      <td>0.515544</td>\n",
              "      <td>1.947870</td>\n",
              "      <td>1.997870</td>\n",
              "      <td>1.972870</td>\n",
              "      <td>-2.961575</td>\n",
              "      <td>-2.973748</td>\n",
              "      <td>2.0</td>\n",
              "    </tr>\n",
              "    <tr>\n",
              "      <th>4</th>\n",
              "      <td>0.439574</td>\n",
              "      <td>0.530151</td>\n",
              "      <td>2.142657</td>\n",
              "      <td>2.192657</td>\n",
              "      <td>2.167657</td>\n",
              "      <td>-2.984266</td>\n",
              "      <td>-2.979398</td>\n",
              "      <td>2.0</td>\n",
              "    </tr>\n",
              "    <tr>\n",
              "      <th>5</th>\n",
              "      <td>0.244787</td>\n",
              "      <td>0.556873</td>\n",
              "      <td>2.045264</td>\n",
              "      <td>2.095264</td>\n",
              "      <td>2.070264</td>\n",
              "      <td>-2.981233</td>\n",
              "      <td>-2.984861</td>\n",
              "      <td>2.0</td>\n",
              "    </tr>\n",
              "    <tr>\n",
              "      <th>6</th>\n",
              "      <td>0.147394</td>\n",
              "      <td>0.602130</td>\n",
              "      <td>2.093961</td>\n",
              "      <td>2.143961</td>\n",
              "      <td>2.118961</td>\n",
              "      <td>-2.984822</td>\n",
              "      <td>-2.984194</td>\n",
              "      <td>2.0</td>\n",
              "    </tr>\n",
              "  </tbody>\n",
              "</table>\n",
              "</div>"
            ],
            "text/plain": [
              "   Interval     Ratio         a  ...      f(a)      f(b)  calculations\n",
              "0  6.283185  1.000000  3.116593  ... -2.158757 -2.079399           2.0\n",
              "1  3.166593  0.503979  1.558296  ... -2.716446 -2.762736           2.0\n",
              "2  1.608296  0.507895  2.337444  ... -2.940968 -2.919393           2.0\n",
              "3  0.829148  0.515544  1.947870  ... -2.961575 -2.973748           2.0\n",
              "4  0.439574  0.530151  2.142657  ... -2.984266 -2.979398           2.0\n",
              "5  0.244787  0.556873  2.045264  ... -2.981233 -2.984861           2.0\n",
              "6  0.147394  0.602130  2.093961  ... -2.984822 -2.984194           2.0\n",
              "\n",
              "[7 rows x 8 columns]"
            ]
          },
          "metadata": {
            "tags": []
          },
          "execution_count": 257
        }
      ]
    },
    {
      "cell_type": "code",
      "metadata": {
        "colab": {
          "base_uri": "https://localhost:8080/",
          "height": 297
        },
        "id": "Y1NX6Q5au9jz",
        "outputId": "522ecee7-7226-49d0-e62d-e104d0e5c7e0"
      },
      "source": [
        "calculations = np.linspace(2, calc, len(prec))\n",
        "plt.plot(prec, calculations)\n",
        "plt.ylabel(\"calculations\")\n",
        "plt.xlabel(\"log(precision)\")"
      ],
      "execution_count": null,
      "outputs": [
        {
          "output_type": "execute_result",
          "data": {
            "text/plain": [
              "Text(0.5, 0, 'log(precision)')"
            ]
          },
          "metadata": {
            "tags": []
          },
          "execution_count": 258
        },
        {
          "output_type": "display_data",
          "data": {
            "image/png": "[encoded data removed]",
            "text/plain": [
              "<Figure size 432x288 with 1 Axes>"
            ]
          },
          "metadata": {
            "tags": [],
            "needs_background": "light"
          }
        }
      ]
    },
    {
      "cell_type": "markdown",
      "metadata": {
        "id": "y3Meg40K0ibH"
      },
      "source": [
        "### f4"
      ]
    },
    {
      "cell_type": "code",
      "metadata": {
        "id": "sohZggwPacA1",
        "colab": {
          "base_uri": "https://localhost:8080/",
          "height": 247
        },
        "outputId": "d5cd10a8-1be5-454d-d37a-fb45020771e1"
      },
      "source": [
        "df, answer, ans, prec = dichotomy(f4, f4_a, f4_b, precision)\n",
        "print(f'x: {answer}')\n",
        "print(f'f(x): {ans}')\n",
        "calc = int(df['calculations'].sum())\n",
        "print(f'Количество вычислений: {calc}')\n",
        "df"
      ],
      "execution_count": null,
      "outputs": [
        {
          "output_type": "stream",
          "text": [
            "x: 0.24765625000000002\n",
            "f(x): 5.14906929918352\n",
            "Количество вычислений: 10\n"
          ],
          "name": "stdout"
        },
        {
          "output_type": "execute_result",
          "data": {
            "text/html": [
              "<div>\n",
              "<style scoped>\n",
              "    .dataframe tbody tr th:only-of-type {\n",
              "        vertical-align: middle;\n",
              "    }\n",
              "\n",
              "    .dataframe tbody tr th {\n",
              "        vertical-align: top;\n",
              "    }\n",
              "\n",
              "    .dataframe thead th {\n",
              "        text-align: right;\n",
              "    }\n",
              "</style>\n",
              "<table border=\"1\" class=\"dataframe\">\n",
              "  <thead>\n",
              "    <tr style=\"text-align: right;\">\n",
              "      <th></th>\n",
              "      <th>Interval</th>\n",
              "      <th>Ratio</th>\n",
              "      <th>a</th>\n",
              "      <th>b</th>\n",
              "      <th>mid</th>\n",
              "      <th>f(a)</th>\n",
              "      <th>f(b)</th>\n",
              "      <th>calculations</th>\n",
              "    </tr>\n",
              "  </thead>\n",
              "  <tbody>\n",
              "    <tr>\n",
              "      <th>0</th>\n",
              "      <td>1.000000</td>\n",
              "      <td>1.000000</td>\n",
              "      <td>0.475000</td>\n",
              "      <td>0.525000</td>\n",
              "      <td>0.500000</td>\n",
              "      <td>6.091563</td>\n",
              "      <td>6.580430</td>\n",
              "      <td>2.0</td>\n",
              "    </tr>\n",
              "    <tr>\n",
              "      <th>1</th>\n",
              "      <td>0.525000</td>\n",
              "      <td>0.525000</td>\n",
              "      <td>0.237500</td>\n",
              "      <td>0.287500</td>\n",
              "      <td>0.262500</td>\n",
              "      <td>5.148508</td>\n",
              "      <td>5.182600</td>\n",
              "      <td>2.0</td>\n",
              "    </tr>\n",
              "    <tr>\n",
              "      <th>2</th>\n",
              "      <td>0.287500</td>\n",
              "      <td>0.547619</td>\n",
              "      <td>0.118750</td>\n",
              "      <td>0.168750</td>\n",
              "      <td>0.143750</td>\n",
              "      <td>5.370949</td>\n",
              "      <td>5.226818</td>\n",
              "      <td>2.0</td>\n",
              "    </tr>\n",
              "    <tr>\n",
              "      <th>3</th>\n",
              "      <td>0.168750</td>\n",
              "      <td>0.586957</td>\n",
              "      <td>0.178125</td>\n",
              "      <td>0.228125</td>\n",
              "      <td>0.203125</td>\n",
              "      <td>5.207869</td>\n",
              "      <td>5.150809</td>\n",
              "      <td>2.0</td>\n",
              "    </tr>\n",
              "    <tr>\n",
              "      <th>4</th>\n",
              "      <td>0.109375</td>\n",
              "      <td>0.648148</td>\n",
              "      <td>0.207813</td>\n",
              "      <td>0.257813</td>\n",
              "      <td>0.232813</td>\n",
              "      <td>5.164968</td>\n",
              "      <td>5.152840</td>\n",
              "      <td>2.0</td>\n",
              "    </tr>\n",
              "  </tbody>\n",
              "</table>\n",
              "</div>"
            ],
            "text/plain": [
              "   Interval     Ratio         a  ...      f(a)      f(b)  calculations\n",
              "0  1.000000  1.000000  0.475000  ...  6.091563  6.580430           2.0\n",
              "1  0.525000  0.525000  0.237500  ...  5.148508  5.182600           2.0\n",
              "2  0.287500  0.547619  0.118750  ...  5.370949  5.226818           2.0\n",
              "3  0.168750  0.586957  0.178125  ...  5.207869  5.150809           2.0\n",
              "4  0.109375  0.648148  0.207813  ...  5.164968  5.152840           2.0\n",
              "\n",
              "[5 rows x 8 columns]"
            ]
          },
          "metadata": {
            "tags": []
          },
          "execution_count": 259
        }
      ]
    },
    {
      "cell_type": "code",
      "metadata": {
        "colab": {
          "base_uri": "https://localhost:8080/",
          "height": 297
        },
        "id": "nXnV6MHkvDuT",
        "outputId": "4d90b1bf-a694-42ea-913b-005f576ed474"
      },
      "source": [
        "calculations = np.linspace(2, calc, len(prec))\n",
        "plt.plot(prec, calculations)\n",
        "plt.ylabel(\"calculations\")\n",
        "plt.xlabel(\"log(precision)\")"
      ],
      "execution_count": null,
      "outputs": [
        {
          "output_type": "execute_result",
          "data": {
            "text/plain": [
              "Text(0.5, 0, 'log(precision)')"
            ]
          },
          "metadata": {
            "tags": []
          },
          "execution_count": 260
        },
        {
          "output_type": "display_data",
          "data": {
            "image/png": "[encoded data removed]",
            "text/plain": [
              "<Figure size 432x288 with 1 Axes>"
            ]
          },
          "metadata": {
            "tags": [],
            "needs_background": "light"
          }
        }
      ]
    },
    {
      "cell_type": "markdown",
      "metadata": {
        "id": "LxTW1WV20ksV"
      },
      "source": [
        "### f5"
      ]
    },
    {
      "cell_type": "code",
      "metadata": {
        "id": "hQtkOh_Maa_S",
        "colab": {
          "base_uri": "https://localhost:8080/",
          "height": 276
        },
        "outputId": "0b70a590-6acf-4fe8-c091-ea7725aafa8f"
      },
      "source": [
        "df, answer, ans, prec = dichotomy(f5, f5_a, f5_b, precision)\n",
        "print(f'x: {answer}')\n",
        "print(f'f(x): {ans}')\n",
        "calc = int(df['calculations'].sum())\n",
        "print(f'Количество вычислений: {calc}')\n",
        "df"
      ],
      "execution_count": null,
      "outputs": [
        {
          "output_type": "stream",
          "text": [
            "x: 2.124609375\n",
            "f(x): 0.35097788110683814\n",
            "Количество вычислений: 12\n"
          ],
          "name": "stdout"
        },
        {
          "output_type": "execute_result",
          "data": {
            "text/html": [
              "<div>\n",
              "<style scoped>\n",
              "    .dataframe tbody tr th:only-of-type {\n",
              "        vertical-align: middle;\n",
              "    }\n",
              "\n",
              "    .dataframe tbody tr th {\n",
              "        vertical-align: top;\n",
              "    }\n",
              "\n",
              "    .dataframe thead th {\n",
              "        text-align: right;\n",
              "    }\n",
              "</style>\n",
              "<table border=\"1\" class=\"dataframe\">\n",
              "  <thead>\n",
              "    <tr style=\"text-align: right;\">\n",
              "      <th></th>\n",
              "      <th>Interval</th>\n",
              "      <th>Ratio</th>\n",
              "      <th>a</th>\n",
              "      <th>b</th>\n",
              "      <th>mid</th>\n",
              "      <th>f(a)</th>\n",
              "      <th>f(b)</th>\n",
              "      <th>calculations</th>\n",
              "    </tr>\n",
              "  </thead>\n",
              "  <tbody>\n",
              "    <tr>\n",
              "      <th>0</th>\n",
              "      <td>2.000000</td>\n",
              "      <td>1.000000</td>\n",
              "      <td>1.475000</td>\n",
              "      <td>1.525000</td>\n",
              "      <td>1.500000</td>\n",
              "      <td>0.795279</td>\n",
              "      <td>0.729333</td>\n",
              "      <td>2.0</td>\n",
              "    </tr>\n",
              "    <tr>\n",
              "      <th>1</th>\n",
              "      <td>1.025000</td>\n",
              "      <td>0.512500</td>\n",
              "      <td>1.962500</td>\n",
              "      <td>2.012500</td>\n",
              "      <td>1.987500</td>\n",
              "      <td>0.378537</td>\n",
              "      <td>0.364156</td>\n",
              "      <td>2.0</td>\n",
              "    </tr>\n",
              "    <tr>\n",
              "      <th>2</th>\n",
              "      <td>0.537500</td>\n",
              "      <td>0.524390</td>\n",
              "      <td>2.206250</td>\n",
              "      <td>2.256250</td>\n",
              "      <td>2.231250</td>\n",
              "      <td>0.357948</td>\n",
              "      <td>0.369098</td>\n",
              "      <td>2.0</td>\n",
              "    </tr>\n",
              "    <tr>\n",
              "      <th>3</th>\n",
              "      <td>0.293750</td>\n",
              "      <td>0.546512</td>\n",
              "      <td>2.084375</td>\n",
              "      <td>2.134375</td>\n",
              "      <td>2.109375</td>\n",
              "      <td>0.352676</td>\n",
              "      <td>0.351077</td>\n",
              "      <td>2.0</td>\n",
              "    </tr>\n",
              "    <tr>\n",
              "      <th>4</th>\n",
              "      <td>0.171875</td>\n",
              "      <td>0.585106</td>\n",
              "      <td>2.145313</td>\n",
              "      <td>2.195312</td>\n",
              "      <td>2.170313</td>\n",
              "      <td>0.351425</td>\n",
              "      <td>0.356205</td>\n",
              "      <td>2.0</td>\n",
              "    </tr>\n",
              "    <tr>\n",
              "      <th>5</th>\n",
              "      <td>0.110937</td>\n",
              "      <td>0.645455</td>\n",
              "      <td>2.114844</td>\n",
              "      <td>2.164844</td>\n",
              "      <td>2.139844</td>\n",
              "      <td>0.351078</td>\n",
              "      <td>0.352670</td>\n",
              "      <td>2.0</td>\n",
              "    </tr>\n",
              "  </tbody>\n",
              "</table>\n",
              "</div>"
            ],
            "text/plain": [
              "   Interval     Ratio         a  ...      f(a)      f(b)  calculations\n",
              "0  2.000000  1.000000  1.475000  ...  0.795279  0.729333           2.0\n",
              "1  1.025000  0.512500  1.962500  ...  0.378537  0.364156           2.0\n",
              "2  0.537500  0.524390  2.206250  ...  0.357948  0.369098           2.0\n",
              "3  0.293750  0.546512  2.084375  ...  0.352676  0.351077           2.0\n",
              "4  0.171875  0.585106  2.145313  ...  0.351425  0.356205           2.0\n",
              "5  0.110937  0.645455  2.114844  ...  0.351078  0.352670           2.0\n",
              "\n",
              "[6 rows x 8 columns]"
            ]
          },
          "metadata": {
            "tags": []
          },
          "execution_count": 261
        }
      ]
    },
    {
      "cell_type": "code",
      "metadata": {
        "colab": {
          "base_uri": "https://localhost:8080/",
          "height": 297
        },
        "id": "6b_wha3dvISv",
        "outputId": "0341e6f0-7f7d-47b3-ce5b-4de81cd10421"
      },
      "source": [
        "calculations = np.linspace(2, calc, len(prec))\n",
        "plt.plot(prec, calculations)\n",
        "plt.ylabel(\"calculations\")\n",
        "plt.xlabel(\"log(precision)\")"
      ],
      "execution_count": null,
      "outputs": [
        {
          "output_type": "execute_result",
          "data": {
            "text/plain": [
              "Text(0.5, 0, 'log(precision)')"
            ]
          },
          "metadata": {
            "tags": []
          },
          "execution_count": 262
        },
        {
          "output_type": "display_data",
          "data": {
            "image/png": "[encoded data removed]",
            "text/plain": [
              "<Figure size 432x288 with 1 Axes>"
            ]
          },
          "metadata": {
            "tags": [],
            "needs_background": "light"
          }
        }
      ]
    },
    {
      "cell_type": "markdown",
      "metadata": {
        "id": "3mdJVd69bk1m"
      },
      "source": [
        "## Золотое сечение"
      ]
    },
    {
      "cell_type": "markdown",
      "metadata": {
        "id": "Pl7m-gai0-bd"
      },
      "source": [
        "### f1"
      ]
    },
    {
      "cell_type": "code",
      "metadata": {
        "id": "62q4w8FfcJ3Q",
        "colab": {
          "base_uri": "https://localhost:8080/",
          "height": 276
        },
        "outputId": "4a26d912-fa92-44ee-df2b-a788e7f1dba2"
      },
      "source": [
        "df, answer, ans, prec = goldenRatio(f1, f1_a, f1_b, precision)\n",
        "print(f'x: {answer}')\n",
        "print(f'f(x): {ans}')\n",
        "calc = int(df['calculations'].sum())\n",
        "print(f'Количество вычислений: {calc}')\n",
        "df"
      ],
      "execution_count": null,
      "outputs": [
        {
          "output_type": "stream",
          "text": [
            "x: 0.12867710687599893\n",
            "f(x): 0.900134499831427\n",
            "Количество вычислений: 7\n"
          ],
          "name": "stdout"
        },
        {
          "output_type": "execute_result",
          "data": {
            "text/html": [
              "<div>\n",
              "<style scoped>\n",
              "    .dataframe tbody tr th:only-of-type {\n",
              "        vertical-align: middle;\n",
              "    }\n",
              "\n",
              "    .dataframe tbody tr th {\n",
              "        vertical-align: top;\n",
              "    }\n",
              "\n",
              "    .dataframe thead th {\n",
              "        text-align: right;\n",
              "    }\n",
              "</style>\n",
              "<table border=\"1\" class=\"dataframe\">\n",
              "  <thead>\n",
              "    <tr style=\"text-align: right;\">\n",
              "      <th></th>\n",
              "      <th>Interval</th>\n",
              "      <th>Ratio</th>\n",
              "      <th>a</th>\n",
              "      <th>b</th>\n",
              "      <th>f(a)</th>\n",
              "      <th>f(b)</th>\n",
              "      <th>calculations</th>\n",
              "    </tr>\n",
              "  </thead>\n",
              "  <tbody>\n",
              "    <tr>\n",
              "      <th>0</th>\n",
              "      <td>1.000000</td>\n",
              "      <td>1.000000</td>\n",
              "      <td>-0.118034</td>\n",
              "      <td>0.118034</td>\n",
              "      <td>1.409945</td>\n",
              "      <td>0.898113</td>\n",
              "      <td>2.0</td>\n",
              "    </tr>\n",
              "    <tr>\n",
              "      <th>1</th>\n",
              "      <td>0.618034</td>\n",
              "      <td>0.618034</td>\n",
              "      <td>0.118034</td>\n",
              "      <td>0.263932</td>\n",
              "      <td>0.898113</td>\n",
              "      <td>1.030777</td>\n",
              "      <td>1.0</td>\n",
              "    </tr>\n",
              "    <tr>\n",
              "      <th>2</th>\n",
              "      <td>0.381966</td>\n",
              "      <td>0.618034</td>\n",
              "      <td>0.027864</td>\n",
              "      <td>0.118034</td>\n",
              "      <td>0.952555</td>\n",
              "      <td>0.898113</td>\n",
              "      <td>1.0</td>\n",
              "    </tr>\n",
              "    <tr>\n",
              "      <th>3</th>\n",
              "      <td>0.236068</td>\n",
              "      <td>0.618034</td>\n",
              "      <td>0.118034</td>\n",
              "      <td>0.173762</td>\n",
              "      <td>0.898113</td>\n",
              "      <td>0.924499</td>\n",
              "      <td>1.0</td>\n",
              "    </tr>\n",
              "    <tr>\n",
              "      <th>4</th>\n",
              "      <td>0.145898</td>\n",
              "      <td>0.618034</td>\n",
              "      <td>0.083592</td>\n",
              "      <td>0.118034</td>\n",
              "      <td>0.902845</td>\n",
              "      <td>0.898113</td>\n",
              "      <td>1.0</td>\n",
              "    </tr>\n",
              "    <tr>\n",
              "      <th>5</th>\n",
              "      <td>0.090170</td>\n",
              "      <td>0.618034</td>\n",
              "      <td>0.118034</td>\n",
              "      <td>0.139320</td>\n",
              "      <td>0.898113</td>\n",
              "      <td>0.903665</td>\n",
              "      <td>1.0</td>\n",
              "    </tr>\n",
              "  </tbody>\n",
              "</table>\n",
              "</div>"
            ],
            "text/plain": [
              "   Interval     Ratio         a         b      f(a)      f(b)  calculations\n",
              "0  1.000000  1.000000 -0.118034  0.118034  1.409945  0.898113           2.0\n",
              "1  0.618034  0.618034  0.118034  0.263932  0.898113  1.030777           1.0\n",
              "2  0.381966  0.618034  0.027864  0.118034  0.952555  0.898113           1.0\n",
              "3  0.236068  0.618034  0.118034  0.173762  0.898113  0.924499           1.0\n",
              "4  0.145898  0.618034  0.083592  0.118034  0.902845  0.898113           1.0\n",
              "5  0.090170  0.618034  0.118034  0.139320  0.898113  0.903665           1.0"
            ]
          },
          "metadata": {
            "tags": []
          },
          "execution_count": 263
        }
      ]
    },
    {
      "cell_type": "code",
      "metadata": {
        "colab": {
          "base_uri": "https://localhost:8080/",
          "height": 297
        },
        "id": "1CvjdeA8wpqe",
        "outputId": "ee646a8e-e1bf-423a-84c3-66342190d815"
      },
      "source": [
        "calculations = [2]\n",
        "calculations.extend(np.linspace(3, calc, calc-2))\n",
        "plt.plot(prec, calculations)\n",
        "plt.ylabel(\"calculations\")\n",
        "plt.xlabel(\"log(precision)\")"
      ],
      "execution_count": null,
      "outputs": [
        {
          "output_type": "execute_result",
          "data": {
            "text/plain": [
              "Text(0.5, 0, 'log(precision)')"
            ]
          },
          "metadata": {
            "tags": []
          },
          "execution_count": 264
        },
        {
          "output_type": "display_data",
          "data": {
            "image/png": "[encoded data removed]",
            "text/plain": [
              "<Figure size 432x288 with 1 Axes>"
            ]
          },
          "metadata": {
            "tags": [],
            "needs_background": "light"
          }
        }
      ]
    },
    {
      "cell_type": "markdown",
      "metadata": {
        "id": "-ELIipkL08Nj"
      },
      "source": [
        "### f2"
      ]
    },
    {
      "cell_type": "code",
      "metadata": {
        "id": "RUbf3Qv2dYi5",
        "colab": {
          "base_uri": "https://localhost:8080/",
          "height": 364
        },
        "outputId": "c1487cc0-0b86-4d9a-f068-989e91b02b29"
      },
      "source": [
        "df, answer, ans, prec = goldenRatio(f2, f2_a, f2_b, precision)\n",
        "print(f'x: {answer}')\n",
        "print(f'f(x): {ans}')\n",
        "calc = int(df['calculations'].sum())\n",
        "print(f'Количество вычислений: {calc}')\n",
        "df"
      ],
      "execution_count": null,
      "outputs": [
        {
          "output_type": "stream",
          "text": [
            "x: 8.720487176055734\n",
            "f(x): -0.8460338526774193\n",
            "Количество вычислений: 10\n"
          ],
          "name": "stdout"
        },
        {
          "output_type": "execute_result",
          "data": {
            "text/html": [
              "<div>\n",
              "<style scoped>\n",
              "    .dataframe tbody tr th:only-of-type {\n",
              "        vertical-align: middle;\n",
              "    }\n",
              "\n",
              "    .dataframe tbody tr th {\n",
              "        vertical-align: top;\n",
              "    }\n",
              "\n",
              "    .dataframe thead th {\n",
              "        text-align: right;\n",
              "    }\n",
              "</style>\n",
              "<table border=\"1\" class=\"dataframe\">\n",
              "  <thead>\n",
              "    <tr style=\"text-align: right;\">\n",
              "      <th></th>\n",
              "      <th>Interval</th>\n",
              "      <th>Ratio</th>\n",
              "      <th>a</th>\n",
              "      <th>b</th>\n",
              "      <th>f(a)</th>\n",
              "      <th>f(b)</th>\n",
              "      <th>calculations</th>\n",
              "    </tr>\n",
              "  </thead>\n",
              "  <tbody>\n",
              "    <tr>\n",
              "      <th>0</th>\n",
              "      <td>3.900000</td>\n",
              "      <td>1.000000</td>\n",
              "      <td>7.489667</td>\n",
              "      <td>8.410333</td>\n",
              "      <td>-0.789152</td>\n",
              "      <td>-0.839375</td>\n",
              "      <td>2.0</td>\n",
              "    </tr>\n",
              "    <tr>\n",
              "      <th>1</th>\n",
              "      <td>2.410333</td>\n",
              "      <td>0.618034</td>\n",
              "      <td>8.410333</td>\n",
              "      <td>8.979335</td>\n",
              "      <td>-0.839375</td>\n",
              "      <td>-0.839031</td>\n",
              "      <td>1.0</td>\n",
              "    </tr>\n",
              "    <tr>\n",
              "      <th>2</th>\n",
              "      <td>1.489667</td>\n",
              "      <td>0.618034</td>\n",
              "      <td>8.058670</td>\n",
              "      <td>8.410333</td>\n",
              "      <td>-0.822818</td>\n",
              "      <td>-0.839375</td>\n",
              "      <td>1.0</td>\n",
              "    </tr>\n",
              "    <tr>\n",
              "      <th>3</th>\n",
              "      <td>0.920665</td>\n",
              "      <td>0.618034</td>\n",
              "      <td>8.410333</td>\n",
              "      <td>8.627672</td>\n",
              "      <td>-0.839375</td>\n",
              "      <td>-0.845259</td>\n",
              "      <td>1.0</td>\n",
              "    </tr>\n",
              "    <tr>\n",
              "      <th>4</th>\n",
              "      <td>0.569002</td>\n",
              "      <td>0.618034</td>\n",
              "      <td>8.627672</td>\n",
              "      <td>8.761995</td>\n",
              "      <td>-0.845259</td>\n",
              "      <td>-0.845928</td>\n",
              "      <td>1.0</td>\n",
              "    </tr>\n",
              "    <tr>\n",
              "      <th>5</th>\n",
              "      <td>0.351663</td>\n",
              "      <td>0.618034</td>\n",
              "      <td>8.761995</td>\n",
              "      <td>8.845012</td>\n",
              "      <td>-0.845928</td>\n",
              "      <td>-0.844698</td>\n",
              "      <td>1.0</td>\n",
              "    </tr>\n",
              "    <tr>\n",
              "      <th>6</th>\n",
              "      <td>0.217340</td>\n",
              "      <td>0.618034</td>\n",
              "      <td>8.710688</td>\n",
              "      <td>8.761995</td>\n",
              "      <td>-0.846015</td>\n",
              "      <td>-0.845928</td>\n",
              "      <td>1.0</td>\n",
              "    </tr>\n",
              "    <tr>\n",
              "      <th>7</th>\n",
              "      <td>0.134323</td>\n",
              "      <td>0.618034</td>\n",
              "      <td>8.678979</td>\n",
              "      <td>8.710688</td>\n",
              "      <td>-0.845848</td>\n",
              "      <td>-0.846015</td>\n",
              "      <td>1.0</td>\n",
              "    </tr>\n",
              "    <tr>\n",
              "      <th>8</th>\n",
              "      <td>0.083016</td>\n",
              "      <td>0.618034</td>\n",
              "      <td>8.710688</td>\n",
              "      <td>8.730286</td>\n",
              "      <td>-0.846015</td>\n",
              "      <td>-0.846036</td>\n",
              "      <td>1.0</td>\n",
              "    </tr>\n",
              "  </tbody>\n",
              "</table>\n",
              "</div>"
            ],
            "text/plain": [
              "   Interval     Ratio         a         b      f(a)      f(b)  calculations\n",
              "0  3.900000  1.000000  7.489667  8.410333 -0.789152 -0.839375           2.0\n",
              "1  2.410333  0.618034  8.410333  8.979335 -0.839375 -0.839031           1.0\n",
              "2  1.489667  0.618034  8.058670  8.410333 -0.822818 -0.839375           1.0\n",
              "3  0.920665  0.618034  8.410333  8.627672 -0.839375 -0.845259           1.0\n",
              "4  0.569002  0.618034  8.627672  8.761995 -0.845259 -0.845928           1.0\n",
              "5  0.351663  0.618034  8.761995  8.845012 -0.845928 -0.844698           1.0\n",
              "6  0.217340  0.618034  8.710688  8.761995 -0.846015 -0.845928           1.0\n",
              "7  0.134323  0.618034  8.678979  8.710688 -0.845848 -0.846015           1.0\n",
              "8  0.083016  0.618034  8.710688  8.730286 -0.846015 -0.846036           1.0"
            ]
          },
          "metadata": {
            "tags": []
          },
          "execution_count": 265
        }
      ]
    },
    {
      "cell_type": "code",
      "metadata": {
        "colab": {
          "base_uri": "https://localhost:8080/",
          "height": 297
        },
        "id": "5hgi8T7Qxqw4",
        "outputId": "27067ac0-4e66-4404-8a75-682b500ab77a"
      },
      "source": [
        "calculations = [2]\n",
        "calculations.extend(np.linspace(3, calc, calc-2))\n",
        "plt.plot(prec, calculations)\n",
        "plt.ylabel(\"calculations\")\n",
        "plt.xlabel(\"log(precision)\")"
      ],
      "execution_count": null,
      "outputs": [
        {
          "output_type": "execute_result",
          "data": {
            "text/plain": [
              "Text(0.5, 0, 'log(precision)')"
            ]
          },
          "metadata": {
            "tags": []
          },
          "execution_count": 266
        },
        {
          "output_type": "display_data",
          "data": {
            "image/png": "[encoded data removed]",
            "text/plain": [
              "<Figure size 432x288 with 1 Axes>"
            ]
          },
          "metadata": {
            "tags": [],
            "needs_background": "light"
          }
        }
      ]
    },
    {
      "cell_type": "markdown",
      "metadata": {
        "id": "oWrPcsj806Dy"
      },
      "source": [
        "### f3"
      ]
    },
    {
      "cell_type": "code",
      "metadata": {
        "id": "94ypkAxedY3l",
        "colab": {
          "base_uri": "https://localhost:8080/",
          "height": 394
        },
        "outputId": "312d4b77-1221-4e91-a23c-08974c382ba9"
      },
      "source": [
        "df, answer, ans, prec = goldenRatio(f3, f3_a, f3_b, precision)\n",
        "print(f'x: {answer}')\n",
        "print(f'f(x): {ans}')\n",
        "calc = int(df['calculations'].sum())\n",
        "print(f'Количество вычислений: {calc}')\n",
        "df"
      ],
      "execution_count": null,
      "outputs": [
        {
          "output_type": "stream",
          "text": [
            "x: 2.0911429047183914\n",
            "f(x): -2.984727497808\n",
            "Количество вычислений: 11\n"
          ],
          "name": "stdout"
        },
        {
          "output_type": "execute_result",
          "data": {
            "text/html": [
              "<div>\n",
              "<style scoped>\n",
              "    .dataframe tbody tr th:only-of-type {\n",
              "        vertical-align: middle;\n",
              "    }\n",
              "\n",
              "    .dataframe tbody tr th {\n",
              "        vertical-align: top;\n",
              "    }\n",
              "\n",
              "    .dataframe thead th {\n",
              "        text-align: right;\n",
              "    }\n",
              "</style>\n",
              "<table border=\"1\" class=\"dataframe\">\n",
              "  <thead>\n",
              "    <tr style=\"text-align: right;\">\n",
              "      <th></th>\n",
              "      <th>Interval</th>\n",
              "      <th>Ratio</th>\n",
              "      <th>a</th>\n",
              "      <th>b</th>\n",
              "      <th>f(a)</th>\n",
              "      <th>f(b)</th>\n",
              "      <th>calculations</th>\n",
              "    </tr>\n",
              "  </thead>\n",
              "  <tbody>\n",
              "    <tr>\n",
              "      <th>0</th>\n",
              "      <td>6.283185</td>\n",
              "      <td>1.000000</td>\n",
              "      <td>2.399963</td>\n",
              "      <td>3.883222</td>\n",
              "      <td>-2.913331</td>\n",
              "      <td>-0.681102</td>\n",
              "      <td>2.0</td>\n",
              "    </tr>\n",
              "    <tr>\n",
              "      <th>1</th>\n",
              "      <td>3.883222</td>\n",
              "      <td>0.618034</td>\n",
              "      <td>1.483259</td>\n",
              "      <td>2.399963</td>\n",
              "      <td>-2.638866</td>\n",
              "      <td>-2.913331</td>\n",
              "      <td>1.0</td>\n",
              "    </tr>\n",
              "    <tr>\n",
              "      <th>2</th>\n",
              "      <td>2.399963</td>\n",
              "      <td>0.618034</td>\n",
              "      <td>2.399963</td>\n",
              "      <td>2.966518</td>\n",
              "      <td>-2.913331</td>\n",
              "      <td>-2.378152</td>\n",
              "      <td>1.0</td>\n",
              "    </tr>\n",
              "    <tr>\n",
              "      <th>3</th>\n",
              "      <td>1.483259</td>\n",
              "      <td>0.618034</td>\n",
              "      <td>2.049813</td>\n",
              "      <td>2.399963</td>\n",
              "      <td>-2.981744</td>\n",
              "      <td>-2.913331</td>\n",
              "      <td>1.0</td>\n",
              "    </tr>\n",
              "    <tr>\n",
              "      <th>4</th>\n",
              "      <td>0.916704</td>\n",
              "      <td>0.618034</td>\n",
              "      <td>1.833409</td>\n",
              "      <td>2.049813</td>\n",
              "      <td>-2.917155</td>\n",
              "      <td>-2.981744</td>\n",
              "      <td>1.0</td>\n",
              "    </tr>\n",
              "    <tr>\n",
              "      <th>5</th>\n",
              "      <td>0.566554</td>\n",
              "      <td>0.618034</td>\n",
              "      <td>2.049813</td>\n",
              "      <td>2.183559</td>\n",
              "      <td>-2.981744</td>\n",
              "      <td>-2.980607</td>\n",
              "      <td>1.0</td>\n",
              "    </tr>\n",
              "    <tr>\n",
              "      <th>6</th>\n",
              "      <td>0.350150</td>\n",
              "      <td>0.618034</td>\n",
              "      <td>1.967154</td>\n",
              "      <td>2.049813</td>\n",
              "      <td>-2.966791</td>\n",
              "      <td>-2.981744</td>\n",
              "      <td>1.0</td>\n",
              "    </tr>\n",
              "    <tr>\n",
              "      <th>7</th>\n",
              "      <td>0.216405</td>\n",
              "      <td>0.618034</td>\n",
              "      <td>2.049813</td>\n",
              "      <td>2.100899</td>\n",
              "      <td>-2.981744</td>\n",
              "      <td>-2.984996</td>\n",
              "      <td>1.0</td>\n",
              "    </tr>\n",
              "    <tr>\n",
              "      <th>8</th>\n",
              "      <td>0.133745</td>\n",
              "      <td>0.618034</td>\n",
              "      <td>2.100899</td>\n",
              "      <td>2.132472</td>\n",
              "      <td>-2.984996</td>\n",
              "      <td>-2.984724</td>\n",
              "      <td>1.0</td>\n",
              "    </tr>\n",
              "    <tr>\n",
              "      <th>9</th>\n",
              "      <td>0.082659</td>\n",
              "      <td>0.618034</td>\n",
              "      <td>2.081386</td>\n",
              "      <td>2.100899</td>\n",
              "      <td>-2.984293</td>\n",
              "      <td>-2.984996</td>\n",
              "      <td>1.0</td>\n",
              "    </tr>\n",
              "  </tbody>\n",
              "</table>\n",
              "</div>"
            ],
            "text/plain": [
              "   Interval     Ratio         a         b      f(a)      f(b)  calculations\n",
              "0  6.283185  1.000000  2.399963  3.883222 -2.913331 -0.681102           2.0\n",
              "1  3.883222  0.618034  1.483259  2.399963 -2.638866 -2.913331           1.0\n",
              "2  2.399963  0.618034  2.399963  2.966518 -2.913331 -2.378152           1.0\n",
              "3  1.483259  0.618034  2.049813  2.399963 -2.981744 -2.913331           1.0\n",
              "4  0.916704  0.618034  1.833409  2.049813 -2.917155 -2.981744           1.0\n",
              "5  0.566554  0.618034  2.049813  2.183559 -2.981744 -2.980607           1.0\n",
              "6  0.350150  0.618034  1.967154  2.049813 -2.966791 -2.981744           1.0\n",
              "7  0.216405  0.618034  2.049813  2.100899 -2.981744 -2.984996           1.0\n",
              "8  0.133745  0.618034  2.100899  2.132472 -2.984996 -2.984724           1.0\n",
              "9  0.082659  0.618034  2.081386  2.100899 -2.984293 -2.984996           1.0"
            ]
          },
          "metadata": {
            "tags": []
          },
          "execution_count": 267
        }
      ]
    },
    {
      "cell_type": "code",
      "metadata": {
        "colab": {
          "base_uri": "https://localhost:8080/",
          "height": 297
        },
        "id": "azJLVlpLxwmt",
        "outputId": "b90b36ba-c1d9-4459-c448-2247c33770cd"
      },
      "source": [
        "calculations = [2]\n",
        "calculations.extend(np.linspace(3, calc, calc-2))\n",
        "plt.plot(prec, calculations)\n",
        "plt.ylabel(\"calculations\")\n",
        "plt.xlabel(\"log(precision)\")"
      ],
      "execution_count": null,
      "outputs": [
        {
          "output_type": "execute_result",
          "data": {
            "text/plain": [
              "Text(0.5, 0, 'log(precision)')"
            ]
          },
          "metadata": {
            "tags": []
          },
          "execution_count": 268
        },
        {
          "output_type": "display_data",
          "data": {
            "image/png": "[encoded data removed]",
            "text/plain": [
              "<Figure size 432x288 with 1 Axes>"
            ]
          },
          "metadata": {
            "tags": [],
            "needs_background": "light"
          }
        }
      ]
    },
    {
      "cell_type": "markdown",
      "metadata": {
        "id": "jdl403No033g"
      },
      "source": [
        "### f4"
      ]
    },
    {
      "cell_type": "code",
      "metadata": {
        "id": "SZoOKBsIdYuH",
        "colab": {
          "base_uri": "https://localhost:8080/",
          "height": 276
        },
        "outputId": "a31add67-d3b9-4ad7-d6a3-bb6aa581d369"
      },
      "source": [
        "df, answer, ans, prec = goldenRatio(f4, f4_a, f4_b, precision)\n",
        "print(f'x: {answer}')\n",
        "print(f'f(x): {ans}')\n",
        "calc = int(df['calculations'].sum())\n",
        "print(f'Количество вычислений: {calc}')\n",
        "df"
      ],
      "execution_count": null,
      "outputs": [
        {
          "output_type": "stream",
          "text": [
            "x: 0.24671109562589374\n",
            "f(x): 5.1488821576289965\n",
            "Количество вычислений: 7\n"
          ],
          "name": "stdout"
        },
        {
          "output_type": "execute_result",
          "data": {
            "text/html": [
              "<div>\n",
              "<style scoped>\n",
              "    .dataframe tbody tr th:only-of-type {\n",
              "        vertical-align: middle;\n",
              "    }\n",
              "\n",
              "    .dataframe tbody tr th {\n",
              "        vertical-align: top;\n",
              "    }\n",
              "\n",
              "    .dataframe thead th {\n",
              "        text-align: right;\n",
              "    }\n",
              "</style>\n",
              "<table border=\"1\" class=\"dataframe\">\n",
              "  <thead>\n",
              "    <tr style=\"text-align: right;\">\n",
              "      <th></th>\n",
              "      <th>Interval</th>\n",
              "      <th>Ratio</th>\n",
              "      <th>a</th>\n",
              "      <th>b</th>\n",
              "      <th>f(a)</th>\n",
              "      <th>f(b)</th>\n",
              "      <th>calculations</th>\n",
              "    </tr>\n",
              "  </thead>\n",
              "  <tbody>\n",
              "    <tr>\n",
              "      <th>0</th>\n",
              "      <td>1.000000</td>\n",
              "      <td>1.000000</td>\n",
              "      <td>0.381966</td>\n",
              "      <td>0.618034</td>\n",
              "      <td>5.474420</td>\n",
              "      <td>7.838582</td>\n",
              "      <td>2.0</td>\n",
              "    </tr>\n",
              "    <tr>\n",
              "      <th>1</th>\n",
              "      <td>0.618034</td>\n",
              "      <td>0.618034</td>\n",
              "      <td>0.236068</td>\n",
              "      <td>0.381966</td>\n",
              "      <td>5.148685</td>\n",
              "      <td>5.474420</td>\n",
              "      <td>1.0</td>\n",
              "    </tr>\n",
              "    <tr>\n",
              "      <th>2</th>\n",
              "      <td>0.381966</td>\n",
              "      <td>0.618034</td>\n",
              "      <td>0.145898</td>\n",
              "      <td>0.236068</td>\n",
              "      <td>5.283735</td>\n",
              "      <td>5.148685</td>\n",
              "      <td>1.0</td>\n",
              "    </tr>\n",
              "    <tr>\n",
              "      <th>3</th>\n",
              "      <td>0.236068</td>\n",
              "      <td>0.618034</td>\n",
              "      <td>0.236068</td>\n",
              "      <td>0.291796</td>\n",
              "      <td>5.148685</td>\n",
              "      <td>5.189260</td>\n",
              "      <td>1.0</td>\n",
              "    </tr>\n",
              "    <tr>\n",
              "      <th>4</th>\n",
              "      <td>0.145898</td>\n",
              "      <td>0.618034</td>\n",
              "      <td>0.201626</td>\n",
              "      <td>0.236068</td>\n",
              "      <td>5.171747</td>\n",
              "      <td>5.148685</td>\n",
              "      <td>1.0</td>\n",
              "    </tr>\n",
              "    <tr>\n",
              "      <th>5</th>\n",
              "      <td>0.090170</td>\n",
              "      <td>0.618034</td>\n",
              "      <td>0.236068</td>\n",
              "      <td>0.257354</td>\n",
              "      <td>5.148685</td>\n",
              "      <td>5.152600</td>\n",
              "      <td>1.0</td>\n",
              "    </tr>\n",
              "  </tbody>\n",
              "</table>\n",
              "</div>"
            ],
            "text/plain": [
              "   Interval     Ratio         a         b      f(a)      f(b)  calculations\n",
              "0  1.000000  1.000000  0.381966  0.618034  5.474420  7.838582           2.0\n",
              "1  0.618034  0.618034  0.236068  0.381966  5.148685  5.474420           1.0\n",
              "2  0.381966  0.618034  0.145898  0.236068  5.283735  5.148685           1.0\n",
              "3  0.236068  0.618034  0.236068  0.291796  5.148685  5.189260           1.0\n",
              "4  0.145898  0.618034  0.201626  0.236068  5.171747  5.148685           1.0\n",
              "5  0.090170  0.618034  0.236068  0.257354  5.148685  5.152600           1.0"
            ]
          },
          "metadata": {
            "tags": []
          },
          "execution_count": 269
        }
      ]
    },
    {
      "cell_type": "code",
      "metadata": {
        "colab": {
          "base_uri": "https://localhost:8080/",
          "height": 297
        },
        "id": "n06MWhxLx0-w",
        "outputId": "2959f872-7261-49d4-d162-36dfd584e6a9"
      },
      "source": [
        "calculations = [2]\n",
        "calculations.extend(np.linspace(3, calc, calc-2))\n",
        "plt.plot(prec, calculations)\n",
        "plt.ylabel(\"calculations\")\n",
        "plt.xlabel(\"log(precision)\")"
      ],
      "execution_count": null,
      "outputs": [
        {
          "output_type": "execute_result",
          "data": {
            "text/plain": [
              "Text(0.5, 0, 'log(precision)')"
            ]
          },
          "metadata": {
            "tags": []
          },
          "execution_count": 270
        },
        {
          "output_type": "display_data",
          "data": {
            "image/png": "[encoded data removed]",
            "text/plain": [
              "<Figure size 432x288 with 1 Axes>"
            ]
          },
          "metadata": {
            "tags": [],
            "needs_background": "light"
          }
        }
      ]
    },
    {
      "cell_type": "markdown",
      "metadata": {
        "id": "0HPMlpRy00x-"
      },
      "source": [
        "### f5"
      ]
    },
    {
      "cell_type": "code",
      "metadata": {
        "id": "xiIZCSANdYW_",
        "colab": {
          "base_uri": "https://localhost:8080/",
          "height": 335
        },
        "outputId": "f6af8ea4-92d0-406a-bdf3-2d0fef15843f"
      },
      "source": [
        "df, answer, ans, prec = goldenRatio(f5, f5_a, f5_b, precision)\n",
        "print(f'x: {answer}')\n",
        "print(f'f(x): {ans}')\n",
        "calc = int(df['calculations'].sum())\n",
        "print(f'Количество вычислений: {calc}')\n",
        "df"
      ],
      "execution_count": null,
      "outputs": [
        {
          "output_type": "stream",
          "text": [
            "x: 2.13118960624632\n",
            "f(x): 0.3510227975630489\n",
            "Количество вычислений: 9\n"
          ],
          "name": "stdout"
        },
        {
          "output_type": "execute_result",
          "data": {
            "text/html": [
              "<div>\n",
              "<style scoped>\n",
              "    .dataframe tbody tr th:only-of-type {\n",
              "        vertical-align: middle;\n",
              "    }\n",
              "\n",
              "    .dataframe tbody tr th {\n",
              "        vertical-align: top;\n",
              "    }\n",
              "\n",
              "    .dataframe thead th {\n",
              "        text-align: right;\n",
              "    }\n",
              "</style>\n",
              "<table border=\"1\" class=\"dataframe\">\n",
              "  <thead>\n",
              "    <tr style=\"text-align: right;\">\n",
              "      <th></th>\n",
              "      <th>Interval</th>\n",
              "      <th>Ratio</th>\n",
              "      <th>a</th>\n",
              "      <th>b</th>\n",
              "      <th>f(a)</th>\n",
              "      <th>f(b)</th>\n",
              "      <th>calculations</th>\n",
              "    </tr>\n",
              "  </thead>\n",
              "  <tbody>\n",
              "    <tr>\n",
              "      <th>0</th>\n",
              "      <td>2.000000</td>\n",
              "      <td>1.000000</td>\n",
              "      <td>1.263932</td>\n",
              "      <td>1.736068</td>\n",
              "      <td>1.132646</td>\n",
              "      <td>0.509550</td>\n",
              "      <td>2.0</td>\n",
              "    </tr>\n",
              "    <tr>\n",
              "      <th>1</th>\n",
              "      <td>1.236068</td>\n",
              "      <td>0.618034</td>\n",
              "      <td>1.736068</td>\n",
              "      <td>2.027864</td>\n",
              "      <td>0.509550</td>\n",
              "      <td>0.360791</td>\n",
              "      <td>1.0</td>\n",
              "    </tr>\n",
              "    <tr>\n",
              "      <th>2</th>\n",
              "      <td>0.763932</td>\n",
              "      <td>0.618034</td>\n",
              "      <td>2.027864</td>\n",
              "      <td>2.208204</td>\n",
              "      <td>0.360791</td>\n",
              "      <td>0.358285</td>\n",
              "      <td>1.0</td>\n",
              "    </tr>\n",
              "    <tr>\n",
              "      <th>3</th>\n",
              "      <td>0.472136</td>\n",
              "      <td>0.618034</td>\n",
              "      <td>2.208204</td>\n",
              "      <td>2.319660</td>\n",
              "      <td>0.358285</td>\n",
              "      <td>0.390749</td>\n",
              "      <td>1.0</td>\n",
              "    </tr>\n",
              "    <tr>\n",
              "      <th>4</th>\n",
              "      <td>0.291796</td>\n",
              "      <td>0.618034</td>\n",
              "      <td>2.139320</td>\n",
              "      <td>2.208204</td>\n",
              "      <td>0.351204</td>\n",
              "      <td>0.358285</td>\n",
              "      <td>1.0</td>\n",
              "    </tr>\n",
              "    <tr>\n",
              "      <th>5</th>\n",
              "      <td>0.180340</td>\n",
              "      <td>0.618034</td>\n",
              "      <td>2.096748</td>\n",
              "      <td>2.139320</td>\n",
              "      <td>0.351793</td>\n",
              "      <td>0.351204</td>\n",
              "      <td>1.0</td>\n",
              "    </tr>\n",
              "    <tr>\n",
              "      <th>6</th>\n",
              "      <td>0.111456</td>\n",
              "      <td>0.618034</td>\n",
              "      <td>2.139320</td>\n",
              "      <td>2.165631</td>\n",
              "      <td>0.351204</td>\n",
              "      <td>0.352737</td>\n",
              "      <td>1.0</td>\n",
              "    </tr>\n",
              "    <tr>\n",
              "      <th>7</th>\n",
              "      <td>0.068884</td>\n",
              "      <td>0.618034</td>\n",
              "      <td>2.123059</td>\n",
              "      <td>2.139320</td>\n",
              "      <td>0.350980</td>\n",
              "      <td>0.351204</td>\n",
              "      <td>1.0</td>\n",
              "    </tr>\n",
              "  </tbody>\n",
              "</table>\n",
              "</div>"
            ],
            "text/plain": [
              "   Interval     Ratio         a         b      f(a)      f(b)  calculations\n",
              "0  2.000000  1.000000  1.263932  1.736068  1.132646  0.509550           2.0\n",
              "1  1.236068  0.618034  1.736068  2.027864  0.509550  0.360791           1.0\n",
              "2  0.763932  0.618034  2.027864  2.208204  0.360791  0.358285           1.0\n",
              "3  0.472136  0.618034  2.208204  2.319660  0.358285  0.390749           1.0\n",
              "4  0.291796  0.618034  2.139320  2.208204  0.351204  0.358285           1.0\n",
              "5  0.180340  0.618034  2.096748  2.139320  0.351793  0.351204           1.0\n",
              "6  0.111456  0.618034  2.139320  2.165631  0.351204  0.352737           1.0\n",
              "7  0.068884  0.618034  2.123059  2.139320  0.350980  0.351204           1.0"
            ]
          },
          "metadata": {
            "tags": []
          },
          "execution_count": 271
        }
      ]
    },
    {
      "cell_type": "code",
      "metadata": {
        "colab": {
          "base_uri": "https://localhost:8080/",
          "height": 297
        },
        "id": "mR-ogtM8x7BA",
        "outputId": "08e3e0ee-a367-4c52-d750-dc30c09802cf"
      },
      "source": [
        "calculations = [2]\n",
        "calculations.extend(np.linspace(3, calc, calc-2))\n",
        "plt.plot(prec, calculations)\n",
        "plt.ylabel(\"calculations\")\n",
        "plt.xlabel(\"log(precision)\")"
      ],
      "execution_count": null,
      "outputs": [
        {
          "output_type": "execute_result",
          "data": {
            "text/plain": [
              "Text(0.5, 0, 'log(precision)')"
            ]
          },
          "metadata": {
            "tags": []
          },
          "execution_count": 272
        },
        {
          "output_type": "display_data",
          "data": {
            "image/png": "[encoded data removed]",
            "text/plain": [
              "<Figure size 432x288 with 1 Axes>"
            ]
          },
          "metadata": {
            "tags": [],
            "needs_background": "light"
          }
        }
      ]
    },
    {
      "cell_type": "markdown",
      "metadata": {
        "id": "urdXwvzcbv9F"
      },
      "source": [
        "## Метод Фибоначчи"
      ]
    },
    {
      "cell_type": "markdown",
      "metadata": {
        "id": "aOkzMshl1Pph"
      },
      "source": [
        "### f1"
      ]
    },
    {
      "cell_type": "code",
      "metadata": {
        "id": "Lqe-l4LvcK6e",
        "colab": {
          "base_uri": "https://localhost:8080/",
          "height": 188
        },
        "outputId": "aee9579d-b102-4d03-d03b-d46f4f966808"
      },
      "source": [
        "df, answer, ans, prec = fibonacci_min(f1, f1_a, f1_b, precision)\n",
        "print(f'x: {answer}')\n",
        "print(f'f(x): {ans}')\n",
        "calc = int(df['calculations'].sum())\n",
        "print(f'Количество вычислений: {calc}')\n",
        "df"
      ],
      "execution_count": null,
      "outputs": [
        {
          "output_type": "stream",
          "text": [
            "x: 0.09999999999999995\n",
            "f(x): 0.89835\n",
            "Количество вычислений: 4\n"
          ],
          "name": "stdout"
        },
        {
          "output_type": "execute_result",
          "data": {
            "text/html": [
              "<div>\n",
              "<style scoped>\n",
              "    .dataframe tbody tr th:only-of-type {\n",
              "        vertical-align: middle;\n",
              "    }\n",
              "\n",
              "    .dataframe tbody tr th {\n",
              "        vertical-align: top;\n",
              "    }\n",
              "\n",
              "    .dataframe thead th {\n",
              "        text-align: right;\n",
              "    }\n",
              "</style>\n",
              "<table border=\"1\" class=\"dataframe\">\n",
              "  <thead>\n",
              "    <tr style=\"text-align: right;\">\n",
              "      <th></th>\n",
              "      <th>Interval</th>\n",
              "      <th>Ratio</th>\n",
              "      <th>a</th>\n",
              "      <th>b</th>\n",
              "      <th>f(a)</th>\n",
              "      <th>f(b)</th>\n",
              "      <th>calculations</th>\n",
              "    </tr>\n",
              "  </thead>\n",
              "  <tbody>\n",
              "    <tr>\n",
              "      <th>0</th>\n",
              "      <td>1.0</td>\n",
              "      <td>1.000000</td>\n",
              "      <td>-0.5</td>\n",
              "      <td>0.5</td>\n",
              "      <td>1.32245</td>\n",
              "      <td>0.89835</td>\n",
              "      <td>2.0</td>\n",
              "    </tr>\n",
              "    <tr>\n",
              "      <th>1</th>\n",
              "      <td>0.6</td>\n",
              "      <td>0.600000</td>\n",
              "      <td>-0.1</td>\n",
              "      <td>0.5</td>\n",
              "      <td>0.89835</td>\n",
              "      <td>1.08625</td>\n",
              "      <td>1.0</td>\n",
              "    </tr>\n",
              "    <tr>\n",
              "      <th>2</th>\n",
              "      <td>0.4</td>\n",
              "      <td>0.666667</td>\n",
              "      <td>-0.1</td>\n",
              "      <td>0.3</td>\n",
              "      <td>0.89835</td>\n",
              "      <td>0.89835</td>\n",
              "      <td>1.0</td>\n",
              "    </tr>\n",
              "  </tbody>\n",
              "</table>\n",
              "</div>"
            ],
            "text/plain": [
              "   Interval     Ratio    a    b     f(a)     f(b)  calculations\n",
              "0       1.0  1.000000 -0.5  0.5  1.32245  0.89835           2.0\n",
              "1       0.6  0.600000 -0.1  0.5  0.89835  1.08625           1.0\n",
              "2       0.4  0.666667 -0.1  0.3  0.89835  0.89835           1.0"
            ]
          },
          "metadata": {
            "tags": []
          },
          "execution_count": 273
        }
      ]
    },
    {
      "cell_type": "code",
      "metadata": {
        "colab": {
          "base_uri": "https://localhost:8080/",
          "height": 297
        },
        "id": "YyU-PuuTx_at",
        "outputId": "3355298e-a9a6-44fc-d3e1-cb527070ec17"
      },
      "source": [
        "calculations = [2]\n",
        "calculations.extend(np.linspace(3, calc, calc-2))\n",
        "plt.plot(prec, calculations)\n",
        "plt.ylabel(\"calculations\")\n",
        "plt.xlabel(\"log(precision)\")"
      ],
      "execution_count": null,
      "outputs": [
        {
          "output_type": "execute_result",
          "data": {
            "text/plain": [
              "Text(0.5, 0, 'log(precision)')"
            ]
          },
          "metadata": {
            "tags": []
          },
          "execution_count": 274
        },
        {
          "output_type": "display_data",
          "data": {
            "image/png": "[encoded data removed]",
            "text/plain": [
              "<Figure size 432x288 with 1 Axes>"
            ]
          },
          "metadata": {
            "tags": [],
            "needs_background": "light"
          }
        }
      ]
    },
    {
      "cell_type": "markdown",
      "metadata": {
        "id": "JTiCv9241NDZ"
      },
      "source": [
        "### f2"
      ]
    },
    {
      "cell_type": "code",
      "metadata": {
        "id": "BEG4u3vUfWz2",
        "colab": {
          "base_uri": "https://localhost:8080/",
          "height": 276
        },
        "outputId": "ca660e58-f06b-416c-ef4e-effd7924c7de"
      },
      "source": [
        "df, answer, ans, prec = fibonacci_min(f2, f2_a, f2_b, precision)\n",
        "print(f'x: {answer}')\n",
        "print(f'f(x): {ans}')\n",
        "calc = int(df['calculations'].sum())\n",
        "print(f'Количество вычислений: {calc}')\n",
        "df"
      ],
      "execution_count": null,
      "outputs": [
        {
          "output_type": "stream",
          "text": [
            "x: 8.785714285714285\n",
            "f(x): -0.8457232289690735\n",
            "Количество вычислений: 7\n"
          ],
          "name": "stdout"
        },
        {
          "output_type": "execute_result",
          "data": {
            "text/html": [
              "<div>\n",
              "<style scoped>\n",
              "    .dataframe tbody tr th:only-of-type {\n",
              "        vertical-align: middle;\n",
              "    }\n",
              "\n",
              "    .dataframe tbody tr th {\n",
              "        vertical-align: top;\n",
              "    }\n",
              "\n",
              "    .dataframe thead th {\n",
              "        text-align: right;\n",
              "    }\n",
              "</style>\n",
              "<table border=\"1\" class=\"dataframe\">\n",
              "  <thead>\n",
              "    <tr style=\"text-align: right;\">\n",
              "      <th></th>\n",
              "      <th>Interval</th>\n",
              "      <th>Ratio</th>\n",
              "      <th>a</th>\n",
              "      <th>b</th>\n",
              "      <th>f(a)</th>\n",
              "      <th>f(b)</th>\n",
              "      <th>calculations</th>\n",
              "    </tr>\n",
              "  </thead>\n",
              "  <tbody>\n",
              "    <tr>\n",
              "      <th>0</th>\n",
              "      <td>3.900000</td>\n",
              "      <td>3.900000</td>\n",
              "      <td>6.000000</td>\n",
              "      <td>9.900000</td>\n",
              "      <td>-0.788910</td>\n",
              "      <td>-0.839521</td>\n",
              "      <td>2.0</td>\n",
              "    </tr>\n",
              "    <tr>\n",
              "      <th>1</th>\n",
              "      <td>2.414286</td>\n",
              "      <td>0.619048</td>\n",
              "      <td>7.485714</td>\n",
              "      <td>9.900000</td>\n",
              "      <td>-0.839521</td>\n",
              "      <td>-0.839518</td>\n",
              "      <td>1.0</td>\n",
              "    </tr>\n",
              "    <tr>\n",
              "      <th>2</th>\n",
              "      <td>1.485714</td>\n",
              "      <td>0.615385</td>\n",
              "      <td>7.485714</td>\n",
              "      <td>8.971429</td>\n",
              "      <td>-0.821954</td>\n",
              "      <td>-0.839521</td>\n",
              "      <td>1.0</td>\n",
              "    </tr>\n",
              "    <tr>\n",
              "      <th>3</th>\n",
              "      <td>0.928571</td>\n",
              "      <td>0.625000</td>\n",
              "      <td>8.042857</td>\n",
              "      <td>8.971429</td>\n",
              "      <td>-0.839521</td>\n",
              "      <td>-0.844794</td>\n",
              "      <td>1.0</td>\n",
              "    </tr>\n",
              "    <tr>\n",
              "      <th>4</th>\n",
              "      <td>0.557143</td>\n",
              "      <td>0.600000</td>\n",
              "      <td>8.414286</td>\n",
              "      <td>8.971429</td>\n",
              "      <td>-0.844794</td>\n",
              "      <td>-0.845723</td>\n",
              "      <td>1.0</td>\n",
              "    </tr>\n",
              "    <tr>\n",
              "      <th>5</th>\n",
              "      <td>0.371429</td>\n",
              "      <td>0.666667</td>\n",
              "      <td>8.600000</td>\n",
              "      <td>8.971429</td>\n",
              "      <td>-0.845723</td>\n",
              "      <td>-0.845723</td>\n",
              "      <td>1.0</td>\n",
              "    </tr>\n",
              "  </tbody>\n",
              "</table>\n",
              "</div>"
            ],
            "text/plain": [
              "   Interval     Ratio         a         b      f(a)      f(b)  calculations\n",
              "0  3.900000  3.900000  6.000000  9.900000 -0.788910 -0.839521           2.0\n",
              "1  2.414286  0.619048  7.485714  9.900000 -0.839521 -0.839518           1.0\n",
              "2  1.485714  0.615385  7.485714  8.971429 -0.821954 -0.839521           1.0\n",
              "3  0.928571  0.625000  8.042857  8.971429 -0.839521 -0.844794           1.0\n",
              "4  0.557143  0.600000  8.414286  8.971429 -0.844794 -0.845723           1.0\n",
              "5  0.371429  0.666667  8.600000  8.971429 -0.845723 -0.845723           1.0"
            ]
          },
          "metadata": {
            "tags": []
          },
          "execution_count": 275
        }
      ]
    },
    {
      "cell_type": "code",
      "metadata": {
        "colab": {
          "base_uri": "https://localhost:8080/",
          "height": 297
        },
        "id": "zToh41hZyDqj",
        "outputId": "e756c6b2-c0ad-4e5b-fcc9-bb3b99c499c5"
      },
      "source": [
        "calculations = [2]\n",
        "calculations.extend(np.linspace(3, calc, calc-2))\n",
        "plt.plot(prec, calculations)\n",
        "plt.ylabel(\"calculations\")\n",
        "plt.xlabel(\"log(precision)\")"
      ],
      "execution_count": null,
      "outputs": [
        {
          "output_type": "execute_result",
          "data": {
            "text/plain": [
              "Text(0.5, 0, 'log(precision)')"
            ]
          },
          "metadata": {
            "tags": []
          },
          "execution_count": 276
        },
        {
          "output_type": "display_data",
          "data": {
            "image/png": "[encoded data removed]",
            "text/plain": [
              "<Figure size 432x288 with 1 Axes>"
            ]
          },
          "metadata": {
            "tags": [],
            "needs_background": "light"
          }
        }
      ]
    },
    {
      "cell_type": "markdown",
      "metadata": {
        "id": "43dJbtt41K2j"
      },
      "source": [
        "### f3"
      ]
    },
    {
      "cell_type": "code",
      "metadata": {
        "id": "sEYwlIUofXI3",
        "colab": {
          "base_uri": "https://localhost:8080/",
          "height": 306
        },
        "outputId": "d5b754f8-5fc0-4ca2-f0eb-30d8a15dd617"
      },
      "source": [
        "df, answer, ans, prec = fibonacci_min(f3, f3_a, f3_b, precision)\n",
        "print(f'x: {answer}')\n",
        "print(f'f(x): {ans}')\n",
        "calc = int(df['calculations'].sum())\n",
        "print(f'Количество вычислений: {calc}')\n",
        "df"
      ],
      "execution_count": null,
      "outputs": [
        {
          "output_type": "stream",
          "text": [
            "x: 2.0327952464404544\n",
            "f(x): -2.979646066764873\n",
            "Количество вычислений: 8\n"
          ],
          "name": "stdout"
        },
        {
          "output_type": "execute_result",
          "data": {
            "text/html": [
              "<div>\n",
              "<style scoped>\n",
              "    .dataframe tbody tr th:only-of-type {\n",
              "        vertical-align: middle;\n",
              "    }\n",
              "\n",
              "    .dataframe tbody tr th {\n",
              "        vertical-align: top;\n",
              "    }\n",
              "\n",
              "    .dataframe thead th {\n",
              "        text-align: right;\n",
              "    }\n",
              "</style>\n",
              "<table border=\"1\" class=\"dataframe\">\n",
              "  <thead>\n",
              "    <tr style=\"text-align: right;\">\n",
              "      <th></th>\n",
              "      <th>Interval</th>\n",
              "      <th>Ratio</th>\n",
              "      <th>a</th>\n",
              "      <th>b</th>\n",
              "      <th>f(a)</th>\n",
              "      <th>f(b)</th>\n",
              "      <th>calculations</th>\n",
              "    </tr>\n",
              "  </thead>\n",
              "  <tbody>\n",
              "    <tr>\n",
              "      <th>0</th>\n",
              "      <td>6.283185</td>\n",
              "      <td>6.283185</td>\n",
              "      <td>0.000000</td>\n",
              "      <td>6.283185</td>\n",
              "      <td>-2.912124</td>\n",
              "      <td>-0.686426</td>\n",
              "      <td>2.0</td>\n",
              "    </tr>\n",
              "    <tr>\n",
              "      <th>1</th>\n",
              "      <td>3.880791</td>\n",
              "      <td>0.617647</td>\n",
              "      <td>0.000000</td>\n",
              "      <td>3.880791</td>\n",
              "      <td>-2.633505</td>\n",
              "      <td>-2.912124</td>\n",
              "      <td>1.0</td>\n",
              "    </tr>\n",
              "    <tr>\n",
              "      <th>2</th>\n",
              "      <td>2.402394</td>\n",
              "      <td>0.619048</td>\n",
              "      <td>1.478397</td>\n",
              "      <td>3.880791</td>\n",
              "      <td>-2.912124</td>\n",
              "      <td>-2.391349</td>\n",
              "      <td>1.0</td>\n",
              "    </tr>\n",
              "    <tr>\n",
              "      <th>3</th>\n",
              "      <td>1.478397</td>\n",
              "      <td>0.615385</td>\n",
              "      <td>1.478397</td>\n",
              "      <td>2.956793</td>\n",
              "      <td>-2.979646</td>\n",
              "      <td>-2.912124</td>\n",
              "      <td>1.0</td>\n",
              "    </tr>\n",
              "    <tr>\n",
              "      <th>4</th>\n",
              "      <td>0.923998</td>\n",
              "      <td>0.625000</td>\n",
              "      <td>1.478397</td>\n",
              "      <td>2.402394</td>\n",
              "      <td>-2.924096</td>\n",
              "      <td>-2.979646</td>\n",
              "      <td>1.0</td>\n",
              "    </tr>\n",
              "    <tr>\n",
              "      <th>5</th>\n",
              "      <td>0.554399</td>\n",
              "      <td>0.600000</td>\n",
              "      <td>1.847996</td>\n",
              "      <td>2.402394</td>\n",
              "      <td>-2.979646</td>\n",
              "      <td>-2.975350</td>\n",
              "      <td>1.0</td>\n",
              "    </tr>\n",
              "    <tr>\n",
              "      <th>6</th>\n",
              "      <td>0.369599</td>\n",
              "      <td>0.666667</td>\n",
              "      <td>1.847996</td>\n",
              "      <td>2.217595</td>\n",
              "      <td>-2.979646</td>\n",
              "      <td>-2.979646</td>\n",
              "      <td>1.0</td>\n",
              "    </tr>\n",
              "  </tbody>\n",
              "</table>\n",
              "</div>"
            ],
            "text/plain": [
              "   Interval     Ratio         a         b      f(a)      f(b)  calculations\n",
              "0  6.283185  6.283185  0.000000  6.283185 -2.912124 -0.686426           2.0\n",
              "1  3.880791  0.617647  0.000000  3.880791 -2.633505 -2.912124           1.0\n",
              "2  2.402394  0.619048  1.478397  3.880791 -2.912124 -2.391349           1.0\n",
              "3  1.478397  0.615385  1.478397  2.956793 -2.979646 -2.912124           1.0\n",
              "4  0.923998  0.625000  1.478397  2.402394 -2.924096 -2.979646           1.0\n",
              "5  0.554399  0.600000  1.847996  2.402394 -2.979646 -2.975350           1.0\n",
              "6  0.369599  0.666667  1.847996  2.217595 -2.979646 -2.979646           1.0"
            ]
          },
          "metadata": {
            "tags": []
          },
          "execution_count": 277
        }
      ]
    },
    {
      "cell_type": "code",
      "metadata": {
        "colab": {
          "base_uri": "https://localhost:8080/",
          "height": 297
        },
        "id": "C4AKd1oWyHYE",
        "outputId": "fb55d728-3411-4ed9-89f9-7c01e825b747"
      },
      "source": [
        "calculations = [2]\n",
        "calculations.extend(np.linspace(3, calc, calc-2))\n",
        "plt.plot(prec, calculations)\n",
        "plt.ylabel(\"calculations\")\n",
        "plt.xlabel(\"log(precision)\")"
      ],
      "execution_count": null,
      "outputs": [
        {
          "output_type": "execute_result",
          "data": {
            "text/plain": [
              "Text(0.5, 0, 'log(precision)')"
            ]
          },
          "metadata": {
            "tags": []
          },
          "execution_count": 278
        },
        {
          "output_type": "display_data",
          "data": {
            "image/png": "[encoded data removed]",
            "text/plain": [
              "<Figure size 432x288 with 1 Axes>"
            ]
          },
          "metadata": {
            "tags": [],
            "needs_background": "light"
          }
        }
      ]
    },
    {
      "cell_type": "markdown",
      "metadata": {
        "id": "Y2hXLBos1Id-"
      },
      "source": [
        "### f4"
      ]
    },
    {
      "cell_type": "code",
      "metadata": {
        "id": "l92LObhKfW-4",
        "colab": {
          "base_uri": "https://localhost:8080/",
          "height": 188
        },
        "outputId": "a369178f-f8d9-4de4-c3a5-3aeb0a227728"
      },
      "source": [
        "df, answer, ans, prec = fibonacci_min(f4, f4_a, f4_b, precision)\n",
        "print(f'x: {answer}')\n",
        "print(f'f(x): {ans}')\n",
        "calc = int(df['calculations'].sum())\n",
        "print(f'Количество вычислений: {calc}')\n",
        "df"
      ],
      "execution_count": null,
      "outputs": [
        {
          "output_type": "stream",
          "text": [
            "x: 0.19999999999999996\n",
            "f(x): 5.173719030568705\n",
            "Количество вычислений: 4\n"
          ],
          "name": "stdout"
        },
        {
          "output_type": "execute_result",
          "data": {
            "text/html": [
              "<div>\n",
              "<style scoped>\n",
              "    .dataframe tbody tr th:only-of-type {\n",
              "        vertical-align: middle;\n",
              "    }\n",
              "\n",
              "    .dataframe tbody tr th {\n",
              "        vertical-align: top;\n",
              "    }\n",
              "\n",
              "    .dataframe thead th {\n",
              "        text-align: right;\n",
              "    }\n",
              "</style>\n",
              "<table border=\"1\" class=\"dataframe\">\n",
              "  <thead>\n",
              "    <tr style=\"text-align: right;\">\n",
              "      <th></th>\n",
              "      <th>Interval</th>\n",
              "      <th>Ratio</th>\n",
              "      <th>a</th>\n",
              "      <th>b</th>\n",
              "      <th>f(a)</th>\n",
              "      <th>f(b)</th>\n",
              "      <th>calculations</th>\n",
              "    </tr>\n",
              "  </thead>\n",
              "  <tbody>\n",
              "    <tr>\n",
              "      <th>0</th>\n",
              "      <td>1.0</td>\n",
              "      <td>1.000000</td>\n",
              "      <td>0.0</td>\n",
              "      <td>1.0</td>\n",
              "      <td>5.566762</td>\n",
              "      <td>7.555619</td>\n",
              "      <td>2.0</td>\n",
              "    </tr>\n",
              "    <tr>\n",
              "      <th>1</th>\n",
              "      <td>0.6</td>\n",
              "      <td>0.600000</td>\n",
              "      <td>0.0</td>\n",
              "      <td>0.6</td>\n",
              "      <td>5.173719</td>\n",
              "      <td>5.566762</td>\n",
              "      <td>1.0</td>\n",
              "    </tr>\n",
              "    <tr>\n",
              "      <th>2</th>\n",
              "      <td>0.4</td>\n",
              "      <td>0.666667</td>\n",
              "      <td>0.0</td>\n",
              "      <td>0.4</td>\n",
              "      <td>5.173719</td>\n",
              "      <td>5.173719</td>\n",
              "      <td>1.0</td>\n",
              "    </tr>\n",
              "  </tbody>\n",
              "</table>\n",
              "</div>"
            ],
            "text/plain": [
              "   Interval     Ratio    a    b      f(a)      f(b)  calculations\n",
              "0       1.0  1.000000  0.0  1.0  5.566762  7.555619           2.0\n",
              "1       0.6  0.600000  0.0  0.6  5.173719  5.566762           1.0\n",
              "2       0.4  0.666667  0.0  0.4  5.173719  5.173719           1.0"
            ]
          },
          "metadata": {
            "tags": []
          },
          "execution_count": 279
        }
      ]
    },
    {
      "cell_type": "code",
      "metadata": {
        "colab": {
          "base_uri": "https://localhost:8080/",
          "height": 297
        },
        "id": "DaZrUlV8yKgv",
        "outputId": "21322367-a7b6-49f9-ecbf-29bfd5c1639f"
      },
      "source": [
        "calculations = [2]\n",
        "calculations.extend(np.linspace(3, calc, calc-2))\n",
        "plt.plot(prec, calculations)\n",
        "plt.ylabel(\"calculations\")\n",
        "plt.xlabel(\"log(precision)\")"
      ],
      "execution_count": null,
      "outputs": [
        {
          "output_type": "execute_result",
          "data": {
            "text/plain": [
              "Text(0.5, 0, 'log(precision)')"
            ]
          },
          "metadata": {
            "tags": []
          },
          "execution_count": 280
        },
        {
          "output_type": "display_data",
          "data": {
            "image/png": "[encoded data removed]",
            "text/plain": [
              "<Figure size 432x288 with 1 Axes>"
            ]
          },
          "metadata": {
            "tags": [],
            "needs_background": "light"
          }
        }
      ]
    },
    {
      "cell_type": "markdown",
      "metadata": {
        "id": "3UduitEH1GkH"
      },
      "source": [
        "### f5"
      ]
    },
    {
      "cell_type": "code",
      "metadata": {
        "id": "kyhlLl8AfWq3",
        "colab": {
          "base_uri": "https://localhost:8080/",
          "height": 218
        },
        "outputId": "8ad36763-40d4-42c6-cd2f-87b56a7bd609"
      },
      "source": [
        "df, answer, ans, prec = fibonacci_min(f5, f5_a, f5_b, precision)\n",
        "print(f'x: {answer}')\n",
        "print(f'f(x): {ans}')\n",
        "calc = int(df['calculations'].sum())\n",
        "print(f'Количество вычислений: {calc}')\n",
        "df"
      ],
      "execution_count": null,
      "outputs": [
        {
          "output_type": "stream",
          "text": [
            "x: 2.0\n",
            "f(x): 0.367258872223978\n",
            "Количество вычислений: 5\n"
          ],
          "name": "stdout"
        },
        {
          "output_type": "execute_result",
          "data": {
            "text/html": [
              "<div>\n",
              "<style scoped>\n",
              "    .dataframe tbody tr th:only-of-type {\n",
              "        vertical-align: middle;\n",
              "    }\n",
              "\n",
              "    .dataframe tbody tr th {\n",
              "        vertical-align: top;\n",
              "    }\n",
              "\n",
              "    .dataframe thead th {\n",
              "        text-align: right;\n",
              "    }\n",
              "</style>\n",
              "<table border=\"1\" class=\"dataframe\">\n",
              "  <thead>\n",
              "    <tr style=\"text-align: right;\">\n",
              "      <th></th>\n",
              "      <th>Interval</th>\n",
              "      <th>Ratio</th>\n",
              "      <th>a</th>\n",
              "      <th>b</th>\n",
              "      <th>f(a)</th>\n",
              "      <th>f(b)</th>\n",
              "      <th>calculations</th>\n",
              "    </tr>\n",
              "  </thead>\n",
              "  <tbody>\n",
              "    <tr>\n",
              "      <th>0</th>\n",
              "      <td>2.00</td>\n",
              "      <td>2.000000</td>\n",
              "      <td>0.50</td>\n",
              "      <td>2.50</td>\n",
              "      <td>1.158286</td>\n",
              "      <td>0.498366</td>\n",
              "      <td>2.0</td>\n",
              "    </tr>\n",
              "    <tr>\n",
              "      <th>1</th>\n",
              "      <td>1.25</td>\n",
              "      <td>0.625000</td>\n",
              "      <td>1.25</td>\n",
              "      <td>2.50</td>\n",
              "      <td>0.498366</td>\n",
              "      <td>0.367259</td>\n",
              "      <td>1.0</td>\n",
              "    </tr>\n",
              "    <tr>\n",
              "      <th>2</th>\n",
              "      <td>0.75</td>\n",
              "      <td>0.600000</td>\n",
              "      <td>1.75</td>\n",
              "      <td>2.50</td>\n",
              "      <td>0.367259</td>\n",
              "      <td>0.367419</td>\n",
              "      <td>1.0</td>\n",
              "    </tr>\n",
              "    <tr>\n",
              "      <th>3</th>\n",
              "      <td>0.50</td>\n",
              "      <td>0.666667</td>\n",
              "      <td>1.75</td>\n",
              "      <td>2.25</td>\n",
              "      <td>0.367259</td>\n",
              "      <td>0.367259</td>\n",
              "      <td>1.0</td>\n",
              "    </tr>\n",
              "  </tbody>\n",
              "</table>\n",
              "</div>"
            ],
            "text/plain": [
              "   Interval     Ratio     a     b      f(a)      f(b)  calculations\n",
              "0      2.00  2.000000  0.50  2.50  1.158286  0.498366           2.0\n",
              "1      1.25  0.625000  1.25  2.50  0.498366  0.367259           1.0\n",
              "2      0.75  0.600000  1.75  2.50  0.367259  0.367419           1.0\n",
              "3      0.50  0.666667  1.75  2.25  0.367259  0.367259           1.0"
            ]
          },
          "metadata": {
            "tags": []
          },
          "execution_count": 281
        }
      ]
    },
    {
      "cell_type": "code",
      "metadata": {
        "colab": {
          "base_uri": "https://localhost:8080/",
          "height": 297
        },
        "id": "mrgnvUG0yOrp",
        "outputId": "07400d16-d989-48e7-ce71-a4c1e5a999ce"
      },
      "source": [
        "calculations = [2]\n",
        "calculations.extend(np.linspace(3, calc, calc-2))\n",
        "plt.plot(prec, calculations)\n",
        "plt.ylabel(\"calculations\")\n",
        "plt.xlabel(\"log(precision)\")"
      ],
      "execution_count": null,
      "outputs": [
        {
          "output_type": "execute_result",
          "data": {
            "text/plain": [
              "Text(0.5, 0, 'log(precision)')"
            ]
          },
          "metadata": {
            "tags": []
          },
          "execution_count": 282
        },
        {
          "output_type": "display_data",
          "data": {
            "image/png": "[encoded data removed]",
            "text/plain": [
              "<Figure size 432x288 with 1 Axes>"
            ]
          },
          "metadata": {
            "tags": [],
            "needs_background": "light"
          }
        }
      ]
    },
    {
      "cell_type": "markdown",
      "metadata": {
        "id": "6wsUquO8bwJX"
      },
      "source": [
        "## Метод парабол"
      ]
    },
    {
      "cell_type": "markdown",
      "metadata": {
        "id": "wuqRWNO-1oru"
      },
      "source": [
        "### f1"
      ]
    },
    {
      "cell_type": "code",
      "metadata": {
        "id": "UMQj-TQScLqm",
        "colab": {
          "base_uri": "https://localhost:8080/",
          "height": 628
        },
        "outputId": "100265ab-f845-4a50-f6f2-d028bff4fbda"
      },
      "source": [
        "df, answer, ans, prec = parabolic(f1, f1_a, f1_b, precision)\n",
        "print(f'x: {answer}')\n",
        "print(f'f(x): {ans}')\n",
        "calc = int(df['calculations'].sum())\n",
        "print(f'Количество вычислений: {calc}')\n",
        "df"
      ],
      "execution_count": null,
      "outputs": [
        {
          "output_type": "stream",
          "text": [
            "x: 0.10985991781893628\n",
            "f(x): 0.8976329718961669\n",
            "Количество вычислений: 20\n"
          ],
          "name": "stdout"
        },
        {
          "output_type": "execute_result",
          "data": {
            "text/html": [
              "<div>\n",
              "<style scoped>\n",
              "    .dataframe tbody tr th:only-of-type {\n",
              "        vertical-align: middle;\n",
              "    }\n",
              "\n",
              "    .dataframe tbody tr th {\n",
              "        vertical-align: top;\n",
              "    }\n",
              "\n",
              "    .dataframe thead th {\n",
              "        text-align: right;\n",
              "    }\n",
              "</style>\n",
              "<table border=\"1\" class=\"dataframe\">\n",
              "  <thead>\n",
              "    <tr style=\"text-align: right;\">\n",
              "      <th></th>\n",
              "      <th>abs(x3-x2)</th>\n",
              "      <th>Ratio</th>\n",
              "      <th>x1</th>\n",
              "      <th>x2</th>\n",
              "      <th>x3</th>\n",
              "      <th>f(x1)</th>\n",
              "      <th>f(x2)</th>\n",
              "      <th>f(x3)</th>\n",
              "      <th>calculations</th>\n",
              "    </tr>\n",
              "  </thead>\n",
              "  <tbody>\n",
              "    <tr>\n",
              "      <th>0</th>\n",
              "      <td>5.000000e-01</td>\n",
              "      <td>5.000000e-01</td>\n",
              "      <td>-0.50000</td>\n",
              "      <td>0.000000</td>\n",
              "      <td>0.500000</td>\n",
              "      <td>6.656250</td>\n",
              "      <td>1.000000</td>\n",
              "      <td>1.343750</td>\n",
              "      <td>3.0</td>\n",
              "    </tr>\n",
              "    <tr>\n",
              "      <th>1</th>\n",
              "      <td>2.786458e-01</td>\n",
              "      <td>2.000000e+00</td>\n",
              "      <td>0.00000</td>\n",
              "      <td>0.221354</td>\n",
              "      <td>0.500000</td>\n",
              "      <td>1.000000</td>\n",
              "      <td>0.973062</td>\n",
              "      <td>1.343750</td>\n",
              "      <td>1.0</td>\n",
              "    </tr>\n",
              "    <tr>\n",
              "      <th>2</th>\n",
              "      <td>8.972404e-02</td>\n",
              "      <td>3.588785e+00</td>\n",
              "      <td>0.00000</td>\n",
              "      <td>0.131630</td>\n",
              "      <td>0.221354</td>\n",
              "      <td>1.000000</td>\n",
              "      <td>0.900966</td>\n",
              "      <td>0.973062</td>\n",
              "      <td>1.0</td>\n",
              "    </tr>\n",
              "    <tr>\n",
              "      <th>3</th>\n",
              "      <td>1.229626e-02</td>\n",
              "      <td>1.114529e+01</td>\n",
              "      <td>0.00000</td>\n",
              "      <td>0.119334</td>\n",
              "      <td>0.131630</td>\n",
              "      <td>1.000000</td>\n",
              "      <td>0.898276</td>\n",
              "      <td>0.900966</td>\n",
              "      <td>1.0</td>\n",
              "    </tr>\n",
              "    <tr>\n",
              "      <th>4</th>\n",
              "      <td>7.292947e-03</td>\n",
              "      <td>8.132553e+01</td>\n",
              "      <td>0.00000</td>\n",
              "      <td>0.112041</td>\n",
              "      <td>0.119334</td>\n",
              "      <td>1.000000</td>\n",
              "      <td>0.897667</td>\n",
              "      <td>0.898276</td>\n",
              "      <td>1.0</td>\n",
              "    </tr>\n",
              "    <tr>\n",
              "      <th>5</th>\n",
              "      <td>1.349550e-03</td>\n",
              "      <td>1.371188e+02</td>\n",
              "      <td>0.00000</td>\n",
              "      <td>0.110691</td>\n",
              "      <td>0.112041</td>\n",
              "      <td>1.000000</td>\n",
              "      <td>0.897638</td>\n",
              "      <td>0.897667</td>\n",
              "      <td>1.0</td>\n",
              "    </tr>\n",
              "    <tr>\n",
              "      <th>6</th>\n",
              "      <td>6.164184e-04</td>\n",
              "      <td>7.409878e+02</td>\n",
              "      <td>0.00000</td>\n",
              "      <td>0.110075</td>\n",
              "      <td>0.110691</td>\n",
              "      <td>1.000000</td>\n",
              "      <td>0.897633</td>\n",
              "      <td>0.897638</td>\n",
              "      <td>1.0</td>\n",
              "    </tr>\n",
              "    <tr>\n",
              "      <th>7</th>\n",
              "      <td>1.402156e-04</td>\n",
              "      <td>1.622275e+03</td>\n",
              "      <td>0.00000</td>\n",
              "      <td>0.109935</td>\n",
              "      <td>0.110075</td>\n",
              "      <td>1.000000</td>\n",
              "      <td>0.897633</td>\n",
              "      <td>0.897633</td>\n",
              "      <td>1.0</td>\n",
              "    </tr>\n",
              "    <tr>\n",
              "      <th>8</th>\n",
              "      <td>5.409491e-05</td>\n",
              "      <td>7.131876e+03</td>\n",
              "      <td>0.00000</td>\n",
              "      <td>0.109881</td>\n",
              "      <td>0.109935</td>\n",
              "      <td>1.000000</td>\n",
              "      <td>0.897633</td>\n",
              "      <td>0.897633</td>\n",
              "      <td>1.0</td>\n",
              "    </tr>\n",
              "    <tr>\n",
              "      <th>9</th>\n",
              "      <td>1.389443e-05</td>\n",
              "      <td>1.848603e+04</td>\n",
              "      <td>0.00000</td>\n",
              "      <td>0.109867</td>\n",
              "      <td>0.109881</td>\n",
              "      <td>1.000000</td>\n",
              "      <td>0.897633</td>\n",
              "      <td>0.897633</td>\n",
              "      <td>1.0</td>\n",
              "    </tr>\n",
              "    <tr>\n",
              "      <th>10</th>\n",
              "      <td>4.862569e-06</td>\n",
              "      <td>7.197127e+04</td>\n",
              "      <td>0.00000</td>\n",
              "      <td>0.109862</td>\n",
              "      <td>0.109867</td>\n",
              "      <td>1.000000</td>\n",
              "      <td>0.897633</td>\n",
              "      <td>0.897633</td>\n",
              "      <td>1.0</td>\n",
              "    </tr>\n",
              "    <tr>\n",
              "      <th>11</th>\n",
              "      <td>1.341527e-06</td>\n",
              "      <td>2.056526e+05</td>\n",
              "      <td>0.00000</td>\n",
              "      <td>0.109861</td>\n",
              "      <td>0.109862</td>\n",
              "      <td>1.000000</td>\n",
              "      <td>0.897633</td>\n",
              "      <td>0.897633</td>\n",
              "      <td>1.0</td>\n",
              "    </tr>\n",
              "    <tr>\n",
              "      <th>12</th>\n",
              "      <td>4.437329e-07</td>\n",
              "      <td>7.454193e+05</td>\n",
              "      <td>0.00000</td>\n",
              "      <td>0.109860</td>\n",
              "      <td>0.109861</td>\n",
              "      <td>1.000000</td>\n",
              "      <td>0.897633</td>\n",
              "      <td>0.897633</td>\n",
              "      <td>1.0</td>\n",
              "    </tr>\n",
              "    <tr>\n",
              "      <th>13</th>\n",
              "      <td>1.276821e-07</td>\n",
              "      <td>2.253608e+06</td>\n",
              "      <td>0.00000</td>\n",
              "      <td>0.109860</td>\n",
              "      <td>0.109860</td>\n",
              "      <td>1.000000</td>\n",
              "      <td>0.897633</td>\n",
              "      <td>0.897633</td>\n",
              "      <td>1.0</td>\n",
              "    </tr>\n",
              "    <tr>\n",
              "      <th>14</th>\n",
              "      <td>4.088073e-08</td>\n",
              "      <td>7.831950e+06</td>\n",
              "      <td>0.00000</td>\n",
              "      <td>0.109860</td>\n",
              "      <td>0.109860</td>\n",
              "      <td>1.000000</td>\n",
              "      <td>0.897633</td>\n",
              "      <td>0.897633</td>\n",
              "      <td>1.0</td>\n",
              "    </tr>\n",
              "    <tr>\n",
              "      <th>15</th>\n",
              "      <td>1.205909e-08</td>\n",
              "      <td>2.446140e+07</td>\n",
              "      <td>0.00000</td>\n",
              "      <td>0.109860</td>\n",
              "      <td>0.109860</td>\n",
              "      <td>1.000000</td>\n",
              "      <td>0.897633</td>\n",
              "      <td>0.897633</td>\n",
              "      <td>1.0</td>\n",
              "    </tr>\n",
              "    <tr>\n",
              "      <th>16</th>\n",
              "      <td>3.739606e-09</td>\n",
              "      <td>8.292502e+07</td>\n",
              "      <td>0.00000</td>\n",
              "      <td>0.109860</td>\n",
              "      <td>0.109860</td>\n",
              "      <td>1.000000</td>\n",
              "      <td>0.897633</td>\n",
              "      <td>0.897633</td>\n",
              "      <td>1.0</td>\n",
              "    </tr>\n",
              "    <tr>\n",
              "      <th>17</th>\n",
              "      <td>3.739606e-09</td>\n",
              "      <td>2.674078e+08</td>\n",
              "      <td>0.10986</td>\n",
              "      <td>0.109860</td>\n",
              "      <td>0.109860</td>\n",
              "      <td>0.897633</td>\n",
              "      <td>0.897633</td>\n",
              "      <td>0.897633</td>\n",
              "      <td>1.0</td>\n",
              "    </tr>\n",
              "  </tbody>\n",
              "</table>\n",
              "</div>"
            ],
            "text/plain": [
              "      abs(x3-x2)         Ratio       x1  ...     f(x2)     f(x3)  calculations\n",
              "0   5.000000e-01  5.000000e-01 -0.50000  ...  1.000000  1.343750           3.0\n",
              "1   2.786458e-01  2.000000e+00  0.00000  ...  0.973062  1.343750           1.0\n",
              "2   8.972404e-02  3.588785e+00  0.00000  ...  0.900966  0.973062           1.0\n",
              "3   1.229626e-02  1.114529e+01  0.00000  ...  0.898276  0.900966           1.0\n",
              "4   7.292947e-03  8.132553e+01  0.00000  ...  0.897667  0.898276           1.0\n",
              "5   1.349550e-03  1.371188e+02  0.00000  ...  0.897638  0.897667           1.0\n",
              "6   6.164184e-04  7.409878e+02  0.00000  ...  0.897633  0.897638           1.0\n",
              "7   1.402156e-04  1.622275e+03  0.00000  ...  0.897633  0.897633           1.0\n",
              "8   5.409491e-05  7.131876e+03  0.00000  ...  0.897633  0.897633           1.0\n",
              "9   1.389443e-05  1.848603e+04  0.00000  ...  0.897633  0.897633           1.0\n",
              "10  4.862569e-06  7.197127e+04  0.00000  ...  0.897633  0.897633           1.0\n",
              "11  1.341527e-06  2.056526e+05  0.00000  ...  0.897633  0.897633           1.0\n",
              "12  4.437329e-07  7.454193e+05  0.00000  ...  0.897633  0.897633           1.0\n",
              "13  1.276821e-07  2.253608e+06  0.00000  ...  0.897633  0.897633           1.0\n",
              "14  4.088073e-08  7.831950e+06  0.00000  ...  0.897633  0.897633           1.0\n",
              "15  1.205909e-08  2.446140e+07  0.00000  ...  0.897633  0.897633           1.0\n",
              "16  3.739606e-09  8.292502e+07  0.00000  ...  0.897633  0.897633           1.0\n",
              "17  3.739606e-09  2.674078e+08  0.10986  ...  0.897633  0.897633           1.0\n",
              "\n",
              "[18 rows x 9 columns]"
            ]
          },
          "metadata": {
            "tags": []
          },
          "execution_count": 283
        }
      ]
    },
    {
      "cell_type": "code",
      "metadata": {
        "colab": {
          "base_uri": "https://localhost:8080/",
          "height": 297
        },
        "id": "MezrO6r_yUdO",
        "outputId": "f96bfded-d761-4627-89fc-d61a620354ad"
      },
      "source": [
        "calculations = [3]\n",
        "calculations.extend(np.linspace(4, calc, calc-3))\n",
        "plt.plot(prec, calculations)\n",
        "plt.ylabel(\"calculations\")\n",
        "plt.xlabel(\"log(precision)\")"
      ],
      "execution_count": null,
      "outputs": [
        {
          "output_type": "execute_result",
          "data": {
            "text/plain": [
              "Text(0.5, 0, 'log(precision)')"
            ]
          },
          "metadata": {
            "tags": []
          },
          "execution_count": 284
        },
        {
          "output_type": "display_data",
          "data": {
            "image/png": "[encoded data removed]",
            "text/plain": [
              "<Figure size 432x288 with 1 Axes>"
            ]
          },
          "metadata": {
            "tags": [],
            "needs_background": "light"
          }
        }
      ]
    },
    {
      "cell_type": "markdown",
      "metadata": {
        "id": "KossHmq81lZk"
      },
      "source": [
        "### f2"
      ]
    },
    {
      "cell_type": "code",
      "metadata": {
        "id": "_CjWOTjEgMLU",
        "colab": {
          "base_uri": "https://localhost:8080/",
          "height": 452
        },
        "outputId": "41227928-3d2d-4db7-a813-7f661c3c32a1"
      },
      "source": [
        "df, answer, ans, prec = parabolic(f2, f2_a, f2_b, precision)\n",
        "print(f'x: {answer}')\n",
        "print(f'f(x): {ans}')\n",
        "calc = int(df['calculations'].sum())\n",
        "print(f'Количество вычислений: {calc}')\n",
        "df"
      ],
      "execution_count": null,
      "outputs": [
        {
          "output_type": "stream",
          "text": [
            "x: 8.726906431730821\n",
            "f(x): -0.8460373807219906\n",
            "Количество вычислений: 209\n"
          ],
          "name": "stdout"
        },
        {
          "output_type": "execute_result",
          "data": {
            "text/html": [
              "<div>\n",
              "<style scoped>\n",
              "    .dataframe tbody tr th:only-of-type {\n",
              "        vertical-align: middle;\n",
              "    }\n",
              "\n",
              "    .dataframe tbody tr th {\n",
              "        vertical-align: top;\n",
              "    }\n",
              "\n",
              "    .dataframe thead th {\n",
              "        text-align: right;\n",
              "    }\n",
              "</style>\n",
              "<table border=\"1\" class=\"dataframe\">\n",
              "  <thead>\n",
              "    <tr style=\"text-align: right;\">\n",
              "      <th></th>\n",
              "      <th>abs(x3-x2)</th>\n",
              "      <th>Ratio</th>\n",
              "      <th>x1</th>\n",
              "      <th>x2</th>\n",
              "      <th>x3</th>\n",
              "      <th>f(x1)</th>\n",
              "      <th>f(x2)</th>\n",
              "      <th>f(x3)</th>\n",
              "      <th>calculations</th>\n",
              "    </tr>\n",
              "  </thead>\n",
              "  <tbody>\n",
              "    <tr>\n",
              "      <th>0</th>\n",
              "      <td>1.950000e+00</td>\n",
              "      <td>1.950000</td>\n",
              "      <td>6.000000</td>\n",
              "      <td>7.950000</td>\n",
              "      <td>9.900000</td>\n",
              "      <td>-0.706017</td>\n",
              "      <td>-0.816750</td>\n",
              "      <td>0.224024</td>\n",
              "      <td>3.0</td>\n",
              "    </tr>\n",
              "    <tr>\n",
              "      <th>1</th>\n",
              "      <td>1.950000e+00</td>\n",
              "      <td>2.000000</td>\n",
              "      <td>7.162520</td>\n",
              "      <td>7.950000</td>\n",
              "      <td>9.900000</td>\n",
              "      <td>-0.769243</td>\n",
              "      <td>-0.816750</td>\n",
              "      <td>0.224024</td>\n",
              "      <td>1.0</td>\n",
              "    </tr>\n",
              "    <tr>\n",
              "      <th>2</th>\n",
              "      <td>1.950000e+00</td>\n",
              "      <td>2.000000</td>\n",
              "      <td>7.695259</td>\n",
              "      <td>7.950000</td>\n",
              "      <td>9.900000</td>\n",
              "      <td>-0.801694</td>\n",
              "      <td>-0.816750</td>\n",
              "      <td>0.224024</td>\n",
              "      <td>1.0</td>\n",
              "    </tr>\n",
              "    <tr>\n",
              "      <th>3</th>\n",
              "      <td>1.950000e+00</td>\n",
              "      <td>2.000000</td>\n",
              "      <td>7.932536</td>\n",
              "      <td>7.950000</td>\n",
              "      <td>9.900000</td>\n",
              "      <td>-0.815750</td>\n",
              "      <td>-0.816750</td>\n",
              "      <td>0.224024</td>\n",
              "      <td>1.0</td>\n",
              "    </tr>\n",
              "    <tr>\n",
              "      <th>4</th>\n",
              "      <td>1.863379e+00</td>\n",
              "      <td>2.000000</td>\n",
              "      <td>7.950000</td>\n",
              "      <td>8.036621</td>\n",
              "      <td>9.900000</td>\n",
              "      <td>-0.816750</td>\n",
              "      <td>-0.821611</td>\n",
              "      <td>0.224024</td>\n",
              "      <td>1.0</td>\n",
              "    </tr>\n",
              "    <tr>\n",
              "      <th>...</th>\n",
              "      <td>...</td>\n",
              "      <td>...</td>\n",
              "      <td>...</td>\n",
              "      <td>...</td>\n",
              "      <td>...</td>\n",
              "      <td>...</td>\n",
              "      <td>...</td>\n",
              "      <td>...</td>\n",
              "      <td>...</td>\n",
              "    </tr>\n",
              "    <tr>\n",
              "      <th>202</th>\n",
              "      <td>1.173094e+00</td>\n",
              "      <td>3.324542</td>\n",
              "      <td>8.726906</td>\n",
              "      <td>8.726906</td>\n",
              "      <td>9.900000</td>\n",
              "      <td>-0.846037</td>\n",
              "      <td>-0.846037</td>\n",
              "      <td>0.224024</td>\n",
              "      <td>1.0</td>\n",
              "    </tr>\n",
              "    <tr>\n",
              "      <th>203</th>\n",
              "      <td>1.173094e+00</td>\n",
              "      <td>3.324542</td>\n",
              "      <td>8.726906</td>\n",
              "      <td>8.726906</td>\n",
              "      <td>9.900000</td>\n",
              "      <td>-0.846037</td>\n",
              "      <td>-0.846037</td>\n",
              "      <td>0.224024</td>\n",
              "      <td>1.0</td>\n",
              "    </tr>\n",
              "    <tr>\n",
              "      <th>204</th>\n",
              "      <td>1.173094e+00</td>\n",
              "      <td>3.324542</td>\n",
              "      <td>8.726906</td>\n",
              "      <td>8.726906</td>\n",
              "      <td>9.900000</td>\n",
              "      <td>-0.846037</td>\n",
              "      <td>-0.846037</td>\n",
              "      <td>0.224024</td>\n",
              "      <td>1.0</td>\n",
              "    </tr>\n",
              "    <tr>\n",
              "      <th>205</th>\n",
              "      <td>1.173094e+00</td>\n",
              "      <td>3.324542</td>\n",
              "      <td>8.726906</td>\n",
              "      <td>8.726906</td>\n",
              "      <td>9.900000</td>\n",
              "      <td>-0.846037</td>\n",
              "      <td>-0.846037</td>\n",
              "      <td>0.224024</td>\n",
              "      <td>1.0</td>\n",
              "    </tr>\n",
              "    <tr>\n",
              "      <th>206</th>\n",
              "      <td>9.502574e-07</td>\n",
              "      <td>3.324542</td>\n",
              "      <td>8.726906</td>\n",
              "      <td>8.726906</td>\n",
              "      <td>8.726907</td>\n",
              "      <td>-0.846037</td>\n",
              "      <td>-0.846037</td>\n",
              "      <td>-0.846037</td>\n",
              "      <td>1.0</td>\n",
              "    </tr>\n",
              "  </tbody>\n",
              "</table>\n",
              "<p>207 rows × 9 columns</p>\n",
              "</div>"
            ],
            "text/plain": [
              "       abs(x3-x2)     Ratio        x1  ...     f(x2)     f(x3)  calculations\n",
              "0    1.950000e+00  1.950000  6.000000  ... -0.816750  0.224024           3.0\n",
              "1    1.950000e+00  2.000000  7.162520  ... -0.816750  0.224024           1.0\n",
              "2    1.950000e+00  2.000000  7.695259  ... -0.816750  0.224024           1.0\n",
              "3    1.950000e+00  2.000000  7.932536  ... -0.816750  0.224024           1.0\n",
              "4    1.863379e+00  2.000000  7.950000  ... -0.821611  0.224024           1.0\n",
              "..            ...       ...       ...  ...       ...       ...           ...\n",
              "202  1.173094e+00  3.324542  8.726906  ... -0.846037  0.224024           1.0\n",
              "203  1.173094e+00  3.324542  8.726906  ... -0.846037  0.224024           1.0\n",
              "204  1.173094e+00  3.324542  8.726906  ... -0.846037  0.224024           1.0\n",
              "205  1.173094e+00  3.324542  8.726906  ... -0.846037  0.224024           1.0\n",
              "206  9.502574e-07  3.324542  8.726906  ... -0.846037 -0.846037           1.0\n",
              "\n",
              "[207 rows x 9 columns]"
            ]
          },
          "metadata": {
            "tags": []
          },
          "execution_count": 285
        }
      ]
    },
    {
      "cell_type": "code",
      "metadata": {
        "colab": {
          "base_uri": "https://localhost:8080/",
          "height": 297
        },
        "id": "065tbSGFyhCI",
        "outputId": "fbab559f-3d18-4ac8-c47d-e1278afc787f"
      },
      "source": [
        "calculations = [3]\n",
        "calculations.extend(np.linspace(4, calc, calc-3))\n",
        "plt.plot(prec, calculations)\n",
        "plt.ylabel(\"calculations\")\n",
        "plt.xlabel(\"log(precision)\")"
      ],
      "execution_count": null,
      "outputs": [
        {
          "output_type": "execute_result",
          "data": {
            "text/plain": [
              "Text(0.5, 0, 'log(precision)')"
            ]
          },
          "metadata": {
            "tags": []
          },
          "execution_count": 286
        },
        {
          "output_type": "display_data",
          "data": {
            "image/png": "[encoded data removed]",
            "text/plain": [
              "<Figure size 432x288 with 1 Axes>"
            ]
          },
          "metadata": {
            "tags": [],
            "needs_background": "light"
          }
        }
      ]
    },
    {
      "cell_type": "markdown",
      "metadata": {
        "id": "S7ynB0KM1i_D"
      },
      "source": [
        "### f3"
      ]
    },
    {
      "cell_type": "code",
      "metadata": {
        "id": "UkuG6369gMb3",
        "colab": {
          "base_uri": "https://localhost:8080/",
          "height": 482
        },
        "outputId": "bd745bea-d247-4c05-e212-6e14f15f5565"
      },
      "source": [
        "df, answer, ans, prec = parabolic(f3, f3_a, f3_b, precision)\n",
        "print(f'x: {answer}')\n",
        "print(f'f(x): {ans}')\n",
        "calc = int(df['calculations'].sum())\n",
        "print(f'Количество вычислений: {calc}')\n",
        "df"
      ],
      "execution_count": null,
      "outputs": [
        {
          "output_type": "stream",
          "text": [
            "x: 2.1117551321691295\n",
            "f(x): -2.985098583290432\n",
            "Количество вычислений: 15\n"
          ],
          "name": "stdout"
        },
        {
          "output_type": "execute_result",
          "data": {
            "text/html": [
              "<div>\n",
              "<style scoped>\n",
              "    .dataframe tbody tr th:only-of-type {\n",
              "        vertical-align: middle;\n",
              "    }\n",
              "\n",
              "    .dataframe tbody tr th {\n",
              "        vertical-align: top;\n",
              "    }\n",
              "\n",
              "    .dataframe thead th {\n",
              "        text-align: right;\n",
              "    }\n",
              "</style>\n",
              "<table border=\"1\" class=\"dataframe\">\n",
              "  <thead>\n",
              "    <tr style=\"text-align: right;\">\n",
              "      <th></th>\n",
              "      <th>abs(x3-x2)</th>\n",
              "      <th>Ratio</th>\n",
              "      <th>x1</th>\n",
              "      <th>x2</th>\n",
              "      <th>x3</th>\n",
              "      <th>f(x1)</th>\n",
              "      <th>f(x2)</th>\n",
              "      <th>f(x3)</th>\n",
              "      <th>calculations</th>\n",
              "    </tr>\n",
              "  </thead>\n",
              "  <tbody>\n",
              "    <tr>\n",
              "      <th>0</th>\n",
              "      <td>3.141593e+00</td>\n",
              "      <td>3.141593e+00</td>\n",
              "      <td>0.000000</td>\n",
              "      <td>3.141593</td>\n",
              "      <td>6.283185</td>\n",
              "      <td>1.000000</td>\n",
              "      <td>-2.119453</td>\n",
              "      <td>3.000003</td>\n",
              "      <td>3.0</td>\n",
              "    </tr>\n",
              "    <tr>\n",
              "      <th>1</th>\n",
              "      <td>3.813124e-01</td>\n",
              "      <td>2.000000e+00</td>\n",
              "      <td>0.000000</td>\n",
              "      <td>2.760280</td>\n",
              "      <td>3.141593</td>\n",
              "      <td>1.000000</td>\n",
              "      <td>-2.629587</td>\n",
              "      <td>-2.119453</td>\n",
              "      <td>1.0</td>\n",
              "    </tr>\n",
              "    <tr>\n",
              "      <th>2</th>\n",
              "      <td>6.015227e-01</td>\n",
              "      <td>1.647779e+01</td>\n",
              "      <td>0.000000</td>\n",
              "      <td>2.158758</td>\n",
              "      <td>2.760280</td>\n",
              "      <td>1.000000</td>\n",
              "      <td>-2.983172</td>\n",
              "      <td>-2.629587</td>\n",
              "      <td>1.0</td>\n",
              "    </tr>\n",
              "    <tr>\n",
              "      <th>3</th>\n",
              "      <td>3.269154e-02</td>\n",
              "      <td>1.044547e+01</td>\n",
              "      <td>0.000000</td>\n",
              "      <td>2.126066</td>\n",
              "      <td>2.158758</td>\n",
              "      <td>1.000000</td>\n",
              "      <td>-2.984920</td>\n",
              "      <td>-2.983172</td>\n",
              "      <td>1.0</td>\n",
              "    </tr>\n",
              "    <tr>\n",
              "      <th>4</th>\n",
              "      <td>1.358238e-02</td>\n",
              "      <td>1.921961e+02</td>\n",
              "      <td>0.000000</td>\n",
              "      <td>2.112484</td>\n",
              "      <td>2.126066</td>\n",
              "      <td>1.000000</td>\n",
              "      <td>-2.985098</td>\n",
              "      <td>-2.984920</td>\n",
              "      <td>1.0</td>\n",
              "    </tr>\n",
              "    <tr>\n",
              "      <th>5</th>\n",
              "      <td>5.532236e-04</td>\n",
              "      <td>4.625981e+02</td>\n",
              "      <td>0.000000</td>\n",
              "      <td>2.111930</td>\n",
              "      <td>2.112484</td>\n",
              "      <td>1.000000</td>\n",
              "      <td>-2.985099</td>\n",
              "      <td>-2.985098</td>\n",
              "      <td>1.0</td>\n",
              "    </tr>\n",
              "    <tr>\n",
              "      <th>6</th>\n",
              "      <td>1.648051e-04</td>\n",
              "      <td>1.135741e+04</td>\n",
              "      <td>0.000000</td>\n",
              "      <td>2.111766</td>\n",
              "      <td>2.111930</td>\n",
              "      <td>1.000000</td>\n",
              "      <td>-2.985099</td>\n",
              "      <td>-2.985099</td>\n",
              "      <td>1.0</td>\n",
              "    </tr>\n",
              "    <tr>\n",
              "      <th>7</th>\n",
              "      <td>8.298334e-06</td>\n",
              "      <td>3.812493e+04</td>\n",
              "      <td>0.000000</td>\n",
              "      <td>2.111757</td>\n",
              "      <td>2.111766</td>\n",
              "      <td>1.000000</td>\n",
              "      <td>-2.985099</td>\n",
              "      <td>-2.985099</td>\n",
              "      <td>1.0</td>\n",
              "    </tr>\n",
              "    <tr>\n",
              "      <th>8</th>\n",
              "      <td>1.999838e-06</td>\n",
              "      <td>7.571622e+05</td>\n",
              "      <td>0.000000</td>\n",
              "      <td>2.111755</td>\n",
              "      <td>2.111757</td>\n",
              "      <td>1.000000</td>\n",
              "      <td>-2.985099</td>\n",
              "      <td>-2.985099</td>\n",
              "      <td>1.0</td>\n",
              "    </tr>\n",
              "    <tr>\n",
              "      <th>9</th>\n",
              "      <td>1.189451e-07</td>\n",
              "      <td>3.141848e+06</td>\n",
              "      <td>0.000000</td>\n",
              "      <td>2.111755</td>\n",
              "      <td>2.111755</td>\n",
              "      <td>1.000000</td>\n",
              "      <td>-2.985099</td>\n",
              "      <td>-2.985099</td>\n",
              "      <td>1.0</td>\n",
              "    </tr>\n",
              "    <tr>\n",
              "      <th>10</th>\n",
              "      <td>2.617712e-08</td>\n",
              "      <td>5.282426e+07</td>\n",
              "      <td>0.000000</td>\n",
              "      <td>2.111755</td>\n",
              "      <td>2.111755</td>\n",
              "      <td>1.000000</td>\n",
              "      <td>-2.985099</td>\n",
              "      <td>-2.985099</td>\n",
              "      <td>1.0</td>\n",
              "    </tr>\n",
              "    <tr>\n",
              "      <th>11</th>\n",
              "      <td>3.596374e-09</td>\n",
              "      <td>2.400258e+08</td>\n",
              "      <td>0.000000</td>\n",
              "      <td>2.111755</td>\n",
              "      <td>2.111755</td>\n",
              "      <td>1.000000</td>\n",
              "      <td>-2.985099</td>\n",
              "      <td>-2.985099</td>\n",
              "      <td>1.0</td>\n",
              "    </tr>\n",
              "    <tr>\n",
              "      <th>12</th>\n",
              "      <td>3.596374e-09</td>\n",
              "      <td>1.747089e+09</td>\n",
              "      <td>2.111755</td>\n",
              "      <td>2.111755</td>\n",
              "      <td>2.111755</td>\n",
              "      <td>-2.985099</td>\n",
              "      <td>-2.985099</td>\n",
              "      <td>-2.985099</td>\n",
              "      <td>1.0</td>\n",
              "    </tr>\n",
              "  </tbody>\n",
              "</table>\n",
              "</div>"
            ],
            "text/plain": [
              "      abs(x3-x2)         Ratio        x1  ...     f(x2)     f(x3)  calculations\n",
              "0   3.141593e+00  3.141593e+00  0.000000  ... -2.119453  3.000003           3.0\n",
              "1   3.813124e-01  2.000000e+00  0.000000  ... -2.629587 -2.119453           1.0\n",
              "2   6.015227e-01  1.647779e+01  0.000000  ... -2.983172 -2.629587           1.0\n",
              "3   3.269154e-02  1.044547e+01  0.000000  ... -2.984920 -2.983172           1.0\n",
              "4   1.358238e-02  1.921961e+02  0.000000  ... -2.985098 -2.984920           1.0\n",
              "5   5.532236e-04  4.625981e+02  0.000000  ... -2.985099 -2.985098           1.0\n",
              "6   1.648051e-04  1.135741e+04  0.000000  ... -2.985099 -2.985099           1.0\n",
              "7   8.298334e-06  3.812493e+04  0.000000  ... -2.985099 -2.985099           1.0\n",
              "8   1.999838e-06  7.571622e+05  0.000000  ... -2.985099 -2.985099           1.0\n",
              "9   1.189451e-07  3.141848e+06  0.000000  ... -2.985099 -2.985099           1.0\n",
              "10  2.617712e-08  5.282426e+07  0.000000  ... -2.985099 -2.985099           1.0\n",
              "11  3.596374e-09  2.400258e+08  0.000000  ... -2.985099 -2.985099           1.0\n",
              "12  3.596374e-09  1.747089e+09  2.111755  ... -2.985099 -2.985099           1.0\n",
              "\n",
              "[13 rows x 9 columns]"
            ]
          },
          "metadata": {
            "tags": []
          },
          "execution_count": 287
        }
      ]
    },
    {
      "cell_type": "code",
      "metadata": {
        "colab": {
          "base_uri": "https://localhost:8080/",
          "height": 297
        },
        "id": "ZokevCaHytOQ",
        "outputId": "979d46ae-87b4-40ea-a1f8-8f736159a77c"
      },
      "source": [
        "calculations = [3]\n",
        "calculations.extend(np.linspace(4, calc, calc-3))\n",
        "plt.plot(prec, calculations)\n",
        "plt.ylabel(\"calculations\")\n",
        "plt.xlabel(\"log(precision)\")"
      ],
      "execution_count": null,
      "outputs": [
        {
          "output_type": "execute_result",
          "data": {
            "text/plain": [
              "Text(0.5, 0, 'log(precision)')"
            ]
          },
          "metadata": {
            "tags": []
          },
          "execution_count": 288
        },
        {
          "output_type": "display_data",
          "data": {
            "image/png": "[encoded data removed]",
            "text/plain": [
              "<Figure size 432x288 with 1 Axes>"
            ]
          },
          "metadata": {
            "tags": [],
            "needs_background": "light"
          }
        }
      ]
    },
    {
      "cell_type": "markdown",
      "metadata": {
        "id": "qfrD03FI1giE"
      },
      "source": [
        "### f4"
      ]
    },
    {
      "cell_type": "code",
      "metadata": {
        "id": "y6N89B6mgMTR",
        "colab": {
          "base_uri": "https://localhost:8080/",
          "height": 511
        },
        "outputId": "93d8230f-4abf-4228-a992-af6f48c5664e"
      },
      "source": [
        "df, answer, ans, prec = parabolic(f4, f4_a, f4_b, precision)\n",
        "print(f'x: {answer}')\n",
        "print(f'f(x): {ans}')\n",
        "calc = int(df['calculations'].sum())\n",
        "print(f'Количество вычислений: {calc}')\n",
        "df"
      ],
      "execution_count": null,
      "outputs": [
        {
          "output_type": "stream",
          "text": [
            "x: 0.24079455056853838\n",
            "f(x): 5.148340421395101\n",
            "Количество вычислений: 16\n"
          ],
          "name": "stdout"
        },
        {
          "output_type": "execute_result",
          "data": {
            "text/html": [
              "<div>\n",
              "<style scoped>\n",
              "    .dataframe tbody tr th:only-of-type {\n",
              "        vertical-align: middle;\n",
              "    }\n",
              "\n",
              "    .dataframe tbody tr th {\n",
              "        vertical-align: top;\n",
              "    }\n",
              "\n",
              "    .dataframe thead th {\n",
              "        text-align: right;\n",
              "    }\n",
              "</style>\n",
              "<table border=\"1\" class=\"dataframe\">\n",
              "  <thead>\n",
              "    <tr style=\"text-align: right;\">\n",
              "      <th></th>\n",
              "      <th>abs(x3-x2)</th>\n",
              "      <th>Ratio</th>\n",
              "      <th>x1</th>\n",
              "      <th>x2</th>\n",
              "      <th>x3</th>\n",
              "      <th>f(x1)</th>\n",
              "      <th>f(x2)</th>\n",
              "      <th>f(x3)</th>\n",
              "      <th>calculations</th>\n",
              "    </tr>\n",
              "  </thead>\n",
              "  <tbody>\n",
              "    <tr>\n",
              "      <th>0</th>\n",
              "      <td>5.000000e-01</td>\n",
              "      <td>0.500000</td>\n",
              "      <td>0.000000</td>\n",
              "      <td>0.500000</td>\n",
              "      <td>1.000000</td>\n",
              "      <td>6.000000</td>\n",
              "      <td>6.321086</td>\n",
              "      <td>20.762213</td>\n",
              "      <td>3.0</td>\n",
              "    </tr>\n",
              "    <tr>\n",
              "      <th>1</th>\n",
              "      <td>2.613699e-01</td>\n",
              "      <td>2.000000</td>\n",
              "      <td>0.000000</td>\n",
              "      <td>0.238630</td>\n",
              "      <td>0.500000</td>\n",
              "      <td>6.000000</td>\n",
              "      <td>5.148413</td>\n",
              "      <td>6.321086</td>\n",
              "      <td>1.0</td>\n",
              "    </tr>\n",
              "    <tr>\n",
              "      <th>2</th>\n",
              "      <td>2.613699e-01</td>\n",
              "      <td>3.825996</td>\n",
              "      <td>0.230070</td>\n",
              "      <td>0.238630</td>\n",
              "      <td>0.500000</td>\n",
              "      <td>5.150111</td>\n",
              "      <td>5.148413</td>\n",
              "      <td>6.321086</td>\n",
              "      <td>1.0</td>\n",
              "    </tr>\n",
              "    <tr>\n",
              "      <th>3</th>\n",
              "      <td>2.599359e-01</td>\n",
              "      <td>3.825996</td>\n",
              "      <td>0.238630</td>\n",
              "      <td>0.240064</td>\n",
              "      <td>0.500000</td>\n",
              "      <td>5.148413</td>\n",
              "      <td>5.148349</td>\n",
              "      <td>6.321086</td>\n",
              "      <td>1.0</td>\n",
              "    </tr>\n",
              "    <tr>\n",
              "      <th>4</th>\n",
              "      <td>2.593715e-01</td>\n",
              "      <td>3.847102</td>\n",
              "      <td>0.240064</td>\n",
              "      <td>0.240629</td>\n",
              "      <td>0.500000</td>\n",
              "      <td>5.148349</td>\n",
              "      <td>5.148341</td>\n",
              "      <td>6.321086</td>\n",
              "      <td>1.0</td>\n",
              "    </tr>\n",
              "    <tr>\n",
              "      <th>5</th>\n",
              "      <td>2.592570e-01</td>\n",
              "      <td>3.855474</td>\n",
              "      <td>0.240629</td>\n",
              "      <td>0.240743</td>\n",
              "      <td>0.500000</td>\n",
              "      <td>5.148341</td>\n",
              "      <td>5.148340</td>\n",
              "      <td>6.321086</td>\n",
              "      <td>1.0</td>\n",
              "    </tr>\n",
              "    <tr>\n",
              "      <th>6</th>\n",
              "      <td>2.592180e-01</td>\n",
              "      <td>3.857177</td>\n",
              "      <td>0.240743</td>\n",
              "      <td>0.240782</td>\n",
              "      <td>0.500000</td>\n",
              "      <td>5.148340</td>\n",
              "      <td>5.148340</td>\n",
              "      <td>6.321086</td>\n",
              "      <td>1.0</td>\n",
              "    </tr>\n",
              "    <tr>\n",
              "      <th>7</th>\n",
              "      <td>2.592091e-01</td>\n",
              "      <td>3.857757</td>\n",
              "      <td>0.240782</td>\n",
              "      <td>0.240791</td>\n",
              "      <td>0.500000</td>\n",
              "      <td>5.148340</td>\n",
              "      <td>5.148340</td>\n",
              "      <td>6.321086</td>\n",
              "      <td>1.0</td>\n",
              "    </tr>\n",
              "    <tr>\n",
              "      <th>8</th>\n",
              "      <td>2.592064e-01</td>\n",
              "      <td>3.857889</td>\n",
              "      <td>0.240791</td>\n",
              "      <td>0.240794</td>\n",
              "      <td>0.500000</td>\n",
              "      <td>5.148340</td>\n",
              "      <td>5.148340</td>\n",
              "      <td>6.321086</td>\n",
              "      <td>1.0</td>\n",
              "    </tr>\n",
              "    <tr>\n",
              "      <th>9</th>\n",
              "      <td>2.592057e-01</td>\n",
              "      <td>3.857930</td>\n",
              "      <td>0.240794</td>\n",
              "      <td>0.240794</td>\n",
              "      <td>0.500000</td>\n",
              "      <td>5.148340</td>\n",
              "      <td>5.148340</td>\n",
              "      <td>6.321086</td>\n",
              "      <td>1.0</td>\n",
              "    </tr>\n",
              "    <tr>\n",
              "      <th>10</th>\n",
              "      <td>2.592055e-01</td>\n",
              "      <td>3.857940</td>\n",
              "      <td>0.240794</td>\n",
              "      <td>0.240794</td>\n",
              "      <td>0.500000</td>\n",
              "      <td>5.148340</td>\n",
              "      <td>5.148340</td>\n",
              "      <td>6.321086</td>\n",
              "      <td>1.0</td>\n",
              "    </tr>\n",
              "    <tr>\n",
              "      <th>11</th>\n",
              "      <td>2.592055e-01</td>\n",
              "      <td>3.857943</td>\n",
              "      <td>0.240794</td>\n",
              "      <td>0.240795</td>\n",
              "      <td>0.500000</td>\n",
              "      <td>5.148340</td>\n",
              "      <td>5.148340</td>\n",
              "      <td>6.321086</td>\n",
              "      <td>1.0</td>\n",
              "    </tr>\n",
              "    <tr>\n",
              "      <th>12</th>\n",
              "      <td>2.592054e-01</td>\n",
              "      <td>3.857943</td>\n",
              "      <td>0.240795</td>\n",
              "      <td>0.240795</td>\n",
              "      <td>0.500000</td>\n",
              "      <td>5.148340</td>\n",
              "      <td>5.148340</td>\n",
              "      <td>6.321086</td>\n",
              "      <td>1.0</td>\n",
              "    </tr>\n",
              "    <tr>\n",
              "      <th>13</th>\n",
              "      <td>3.496845e-09</td>\n",
              "      <td>3.857944</td>\n",
              "      <td>0.240795</td>\n",
              "      <td>0.240795</td>\n",
              "      <td>0.240795</td>\n",
              "      <td>5.148340</td>\n",
              "      <td>5.148340</td>\n",
              "      <td>5.148340</td>\n",
              "      <td>1.0</td>\n",
              "    </tr>\n",
              "  </tbody>\n",
              "</table>\n",
              "</div>"
            ],
            "text/plain": [
              "      abs(x3-x2)     Ratio        x1  ...     f(x2)      f(x3)  calculations\n",
              "0   5.000000e-01  0.500000  0.000000  ...  6.321086  20.762213           3.0\n",
              "1   2.613699e-01  2.000000  0.000000  ...  5.148413   6.321086           1.0\n",
              "2   2.613699e-01  3.825996  0.230070  ...  5.148413   6.321086           1.0\n",
              "3   2.599359e-01  3.825996  0.238630  ...  5.148349   6.321086           1.0\n",
              "4   2.593715e-01  3.847102  0.240064  ...  5.148341   6.321086           1.0\n",
              "5   2.592570e-01  3.855474  0.240629  ...  5.148340   6.321086           1.0\n",
              "6   2.592180e-01  3.857177  0.240743  ...  5.148340   6.321086           1.0\n",
              "7   2.592091e-01  3.857757  0.240782  ...  5.148340   6.321086           1.0\n",
              "8   2.592064e-01  3.857889  0.240791  ...  5.148340   6.321086           1.0\n",
              "9   2.592057e-01  3.857930  0.240794  ...  5.148340   6.321086           1.0\n",
              "10  2.592055e-01  3.857940  0.240794  ...  5.148340   6.321086           1.0\n",
              "11  2.592055e-01  3.857943  0.240794  ...  5.148340   6.321086           1.0\n",
              "12  2.592054e-01  3.857943  0.240795  ...  5.148340   6.321086           1.0\n",
              "13  3.496845e-09  3.857944  0.240795  ...  5.148340   5.148340           1.0\n",
              "\n",
              "[14 rows x 9 columns]"
            ]
          },
          "metadata": {
            "tags": []
          },
          "execution_count": 289
        }
      ]
    },
    {
      "cell_type": "code",
      "metadata": {
        "colab": {
          "base_uri": "https://localhost:8080/",
          "height": 297
        },
        "id": "3zXjGGm_yyek",
        "outputId": "f8ab945f-e7e0-4693-b354-c91a2a9c3730"
      },
      "source": [
        "calculations = [3]\n",
        "calculations.extend(np.linspace(4, calc, calc-3))\n",
        "plt.plot(prec, calculations)\n",
        "plt.ylabel(\"calculations\")\n",
        "plt.xlabel(\"log(precision)\")"
      ],
      "execution_count": null,
      "outputs": [
        {
          "output_type": "execute_result",
          "data": {
            "text/plain": [
              "Text(0.5, 0, 'log(precision)')"
            ]
          },
          "metadata": {
            "tags": []
          },
          "execution_count": 290
        },
        {
          "output_type": "display_data",
          "data": {
            "image/png": "[encoded data removed]",
            "text/plain": [
              "<Figure size 432x288 with 1 Axes>"
            ]
          },
          "metadata": {
            "tags": [],
            "needs_background": "light"
          }
        }
      ]
    },
    {
      "cell_type": "markdown",
      "metadata": {
        "id": "sO5U2cnS1avb"
      },
      "source": [
        "### f5"
      ]
    },
    {
      "cell_type": "code",
      "metadata": {
        "id": "0fWKxRy9gMEU",
        "colab": {
          "base_uri": "https://localhost:8080/",
          "height": 218
        },
        "outputId": "8bc615c5-8772-48cd-f5eb-fea3a34e478b"
      },
      "source": [
        "df, answer, ans, prec = parabolic(f5, f5_a, f5_b, precision)\n",
        "print(f'x: {answer}')\n",
        "print(f'f(x): {ans}')\n",
        "calc = int(df['calculations'].sum())\n",
        "print(f'Количество вычислений: {calc}')\n",
        "df"
      ],
      "execution_count": null,
      "outputs": [
        {
          "output_type": "stream",
          "text": [
            "x: 2.124170028935798\n",
            "f(x): 0.35097811118534683\n",
            "Количество вычислений: 6\n"
          ],
          "name": "stdout"
        },
        {
          "output_type": "execute_result",
          "data": {
            "text/html": [
              "<div>\n",
              "<style scoped>\n",
              "    .dataframe tbody tr th:only-of-type {\n",
              "        vertical-align: middle;\n",
              "    }\n",
              "\n",
              "    .dataframe tbody tr th {\n",
              "        vertical-align: top;\n",
              "    }\n",
              "\n",
              "    .dataframe thead th {\n",
              "        text-align: right;\n",
              "    }\n",
              "</style>\n",
              "<table border=\"1\" class=\"dataframe\">\n",
              "  <thead>\n",
              "    <tr style=\"text-align: right;\">\n",
              "      <th></th>\n",
              "      <th>abs(x3-x2)</th>\n",
              "      <th>Ratio</th>\n",
              "      <th>x1</th>\n",
              "      <th>x2</th>\n",
              "      <th>x3</th>\n",
              "      <th>f(x1)</th>\n",
              "      <th>f(x2)</th>\n",
              "      <th>f(x3)</th>\n",
              "      <th>calculations</th>\n",
              "    </tr>\n",
              "  </thead>\n",
              "  <tbody>\n",
              "    <tr>\n",
              "      <th>0</th>\n",
              "      <td>1.000000</td>\n",
              "      <td>1.000000</td>\n",
              "      <td>0.50000</td>\n",
              "      <td>1.500000</td>\n",
              "      <td>2.500000</td>\n",
              "      <td>3.170685</td>\n",
              "      <td>0.761640</td>\n",
              "      <td>0.498145</td>\n",
              "      <td>3.0</td>\n",
              "    </tr>\n",
              "    <tr>\n",
              "      <th>1</th>\n",
              "      <td>0.377190</td>\n",
              "      <td>2.000000</td>\n",
              "      <td>1.50000</td>\n",
              "      <td>2.122810</td>\n",
              "      <td>2.500000</td>\n",
              "      <td>0.761640</td>\n",
              "      <td>0.350981</td>\n",
              "      <td>0.498145</td>\n",
              "      <td>1.0</td>\n",
              "    </tr>\n",
              "    <tr>\n",
              "      <th>2</th>\n",
              "      <td>0.374469</td>\n",
              "      <td>5.302361</td>\n",
              "      <td>2.12281</td>\n",
              "      <td>2.125531</td>\n",
              "      <td>2.500000</td>\n",
              "      <td>0.350981</td>\n",
              "      <td>0.350979</td>\n",
              "      <td>0.498145</td>\n",
              "      <td>1.0</td>\n",
              "    </tr>\n",
              "    <tr>\n",
              "      <th>3</th>\n",
              "      <td>0.000890</td>\n",
              "      <td>5.340889</td>\n",
              "      <td>2.12281</td>\n",
              "      <td>2.124641</td>\n",
              "      <td>2.125531</td>\n",
              "      <td>0.350981</td>\n",
              "      <td>0.350978</td>\n",
              "      <td>0.350979</td>\n",
              "      <td>1.0</td>\n",
              "    </tr>\n",
              "  </tbody>\n",
              "</table>\n",
              "</div>"
            ],
            "text/plain": [
              "   abs(x3-x2)     Ratio       x1  ...     f(x2)     f(x3)  calculations\n",
              "0    1.000000  1.000000  0.50000  ...  0.761640  0.498145           3.0\n",
              "1    0.377190  2.000000  1.50000  ...  0.350981  0.498145           1.0\n",
              "2    0.374469  5.302361  2.12281  ...  0.350979  0.498145           1.0\n",
              "3    0.000890  5.340889  2.12281  ...  0.350978  0.350979           1.0\n",
              "\n",
              "[4 rows x 9 columns]"
            ]
          },
          "metadata": {
            "tags": []
          },
          "execution_count": 291
        }
      ]
    },
    {
      "cell_type": "code",
      "metadata": {
        "colab": {
          "base_uri": "https://localhost:8080/",
          "height": 297
        },
        "id": "40xFTWCPy7sF",
        "outputId": "526281ed-ff6d-4d40-b8a3-b5366c4bd6a4"
      },
      "source": [
        "calculations = [3]\n",
        "calculations.extend(np.linspace(4, calc, calc-3))\n",
        "plt.plot(prec, calculations)\n",
        "plt.ylabel(\"calculations\")\n",
        "plt.xlabel(\"log(precision)\")"
      ],
      "execution_count": null,
      "outputs": [
        {
          "output_type": "execute_result",
          "data": {
            "text/plain": [
              "Text(0.5, 0, 'log(precision)')"
            ]
          },
          "metadata": {
            "tags": []
          },
          "execution_count": 292
        },
        {
          "output_type": "display_data",
          "data": {
            "image/png": "[encoded data removed]",
            "text/plain": [
              "<Figure size 432x288 with 1 Axes>"
            ]
          },
          "metadata": {
            "tags": [],
            "needs_background": "light"
          }
        }
      ]
    },
    {
      "cell_type": "markdown",
      "metadata": {
        "id": "g1JEDozqbvvT"
      },
      "source": [
        "## Комбинированный метод Брента"
      ]
    },
    {
      "cell_type": "markdown",
      "metadata": {
        "id": "quEYM8Ez10PO"
      },
      "source": [
        "### f1"
      ]
    },
    {
      "cell_type": "code",
      "metadata": {
        "id": "beWU_m45cMfN",
        "colab": {
          "base_uri": "https://localhost:8080/",
          "height": 247
        },
        "outputId": "6edc9367-9812-426e-f2a8-5252701ee387"
      },
      "source": [
        "df, answer, ans, prec = brent(f1, f1_a, f1_b, precision)\n",
        "print(f'x: {answer}')\n",
        "print(f'f(x): {ans}')\n",
        "calc = int(df['calculations'].sum())\n",
        "print(f'Количество вычислений: {calc}')\n",
        "df"
      ],
      "execution_count": null,
      "outputs": [
        {
          "output_type": "stream",
          "text": [
            "x: 0.10965227039930578\n",
            "f(x): 0.897633285380253\n",
            "Количество вычислений: 7\n"
          ],
          "name": "stdout"
        },
        {
          "output_type": "execute_result",
          "data": {
            "text/html": [
              "<div>\n",
              "<style scoped>\n",
              "    .dataframe tbody tr th:only-of-type {\n",
              "        vertical-align: middle;\n",
              "    }\n",
              "\n",
              "    .dataframe tbody tr th {\n",
              "        vertical-align: top;\n",
              "    }\n",
              "\n",
              "    .dataframe thead th {\n",
              "        text-align: right;\n",
              "    }\n",
              "</style>\n",
              "<table border=\"1\" class=\"dataframe\">\n",
              "  <thead>\n",
              "    <tr style=\"text-align: right;\">\n",
              "      <th></th>\n",
              "      <th>Interval</th>\n",
              "      <th>Ratio</th>\n",
              "      <th>a</th>\n",
              "      <th>b</th>\n",
              "      <th>x</th>\n",
              "      <th>w</th>\n",
              "      <th>v</th>\n",
              "      <th>u</th>\n",
              "      <th>f(x)</th>\n",
              "      <th>f(w)</th>\n",
              "      <th>f(v)</th>\n",
              "      <th>f(u)</th>\n",
              "      <th>calculations</th>\n",
              "    </tr>\n",
              "  </thead>\n",
              "  <tbody>\n",
              "    <tr>\n",
              "      <th>0</th>\n",
              "      <td>1.000000</td>\n",
              "      <td>1.000000</td>\n",
              "      <td>-0.500000</td>\n",
              "      <td>0.500000</td>\n",
              "      <td>0.000000</td>\n",
              "      <td>0.000000</td>\n",
              "      <td>0.000000</td>\n",
              "      <td>0.000000</td>\n",
              "      <td>1.000000</td>\n",
              "      <td>1.000000</td>\n",
              "      <td>1.00000</td>\n",
              "      <td>0.000000</td>\n",
              "      <td>3.0</td>\n",
              "    </tr>\n",
              "    <tr>\n",
              "      <th>1</th>\n",
              "      <td>0.690983</td>\n",
              "      <td>0.690983</td>\n",
              "      <td>-0.190983</td>\n",
              "      <td>0.500000</td>\n",
              "      <td>0.000000</td>\n",
              "      <td>-0.190983</td>\n",
              "      <td>0.000000</td>\n",
              "      <td>-0.190983</td>\n",
              "      <td>1.000000</td>\n",
              "      <td>1.873370</td>\n",
              "      <td>1.00000</td>\n",
              "      <td>1.873370</td>\n",
              "      <td>1.0</td>\n",
              "    </tr>\n",
              "    <tr>\n",
              "      <th>2</th>\n",
              "      <td>0.500000</td>\n",
              "      <td>0.723607</td>\n",
              "      <td>0.000000</td>\n",
              "      <td>0.500000</td>\n",
              "      <td>0.190983</td>\n",
              "      <td>0.000000</td>\n",
              "      <td>-0.190983</td>\n",
              "      <td>0.190983</td>\n",
              "      <td>0.939713</td>\n",
              "      <td>1.000000</td>\n",
              "      <td>1.87337</td>\n",
              "      <td>0.939713</td>\n",
              "      <td>1.0</td>\n",
              "    </tr>\n",
              "    <tr>\n",
              "      <th>3</th>\n",
              "      <td>0.190983</td>\n",
              "      <td>0.381966</td>\n",
              "      <td>0.000000</td>\n",
              "      <td>0.190983</td>\n",
              "      <td>0.109652</td>\n",
              "      <td>0.190983</td>\n",
              "      <td>0.000000</td>\n",
              "      <td>0.109652</td>\n",
              "      <td>0.897633</td>\n",
              "      <td>0.939713</td>\n",
              "      <td>1.00000</td>\n",
              "      <td>0.897633</td>\n",
              "      <td>1.0</td>\n",
              "    </tr>\n",
              "    <tr>\n",
              "      <th>4</th>\n",
              "      <td>0.181331</td>\n",
              "      <td>0.949460</td>\n",
              "      <td>0.009652</td>\n",
              "      <td>0.190983</td>\n",
              "      <td>0.109652</td>\n",
              "      <td>0.190983</td>\n",
              "      <td>0.009652</td>\n",
              "      <td>0.009652</td>\n",
              "      <td>0.897633</td>\n",
              "      <td>0.939713</td>\n",
              "      <td>0.98171</td>\n",
              "      <td>0.981710</td>\n",
              "      <td>1.0</td>\n",
              "    </tr>\n",
              "  </tbody>\n",
              "</table>\n",
              "</div>"
            ],
            "text/plain": [
              "   Interval     Ratio         a  ...     f(v)      f(u)  calculations\n",
              "0  1.000000  1.000000 -0.500000  ...  1.00000  0.000000           3.0\n",
              "1  0.690983  0.690983 -0.190983  ...  1.00000  1.873370           1.0\n",
              "2  0.500000  0.723607  0.000000  ...  1.87337  0.939713           1.0\n",
              "3  0.190983  0.381966  0.000000  ...  1.00000  0.897633           1.0\n",
              "4  0.181331  0.949460  0.009652  ...  0.98171  0.981710           1.0\n",
              "\n",
              "[5 rows x 13 columns]"
            ]
          },
          "metadata": {
            "tags": []
          },
          "execution_count": 8
        }
      ]
    },
    {
      "cell_type": "code",
      "metadata": {
        "colab": {
          "base_uri": "https://localhost:8080/",
          "height": 297
        },
        "id": "v3y6KVKMzStM",
        "outputId": "88c6fd4a-cd58-4f78-c155-6282fbffe2c6"
      },
      "source": [
        "calculations = [3]\n",
        "calculations.extend(np.linspace(4, calc, calc-3))\n",
        "plt.plot(prec, calculations)\n",
        "plt.ylabel(\"calculations\")\n",
        "plt.xlabel(\"log(precision)\")"
      ],
      "execution_count": null,
      "outputs": [
        {
          "output_type": "execute_result",
          "data": {
            "text/plain": [
              "Text(0.5, 0, 'log(precision)')"
            ]
          },
          "metadata": {
            "tags": []
          },
          "execution_count": 9
        },
        {
          "output_type": "display_data",
          "data": {
            "image/png": "[encoded data removed]",
            "text/plain": [
              "<Figure size 432x288 with 1 Axes>"
            ]
          },
          "metadata": {
            "tags": [],
            "needs_background": "light"
          }
        }
      ]
    },
    {
      "cell_type": "markdown",
      "metadata": {
        "id": "63ZylUAc1yHU"
      },
      "source": [
        "### f2"
      ]
    },
    {
      "cell_type": "code",
      "metadata": {
        "id": "tHPplTh5gf-U",
        "colab": {
          "base_uri": "https://localhost:8080/",
          "height": 335
        },
        "outputId": "d6e04c55-6876-423e-8a2f-d741d9604701"
      },
      "source": [
        "df, answer, ans, prec = brent(f2, f2_a, f2_b, precision)\n",
        "print(f'x: {answer}')\n",
        "print(f'f(x): {ans}')\n",
        "calc = int(df['calculations'].sum())\n",
        "print(f'Количество вычислений: {calc}')\n",
        "df"
      ],
      "execution_count": null,
      "outputs": [
        {
          "output_type": "stream",
          "text": [
            "x: 8.69525579850973\n",
            "f(x): -0.8459534909785202\n",
            "Количество вычислений: 10\n"
          ],
          "name": "stdout"
        },
        {
          "output_type": "execute_result",
          "data": {
            "text/html": [
              "<div>\n",
              "<style scoped>\n",
              "    .dataframe tbody tr th:only-of-type {\n",
              "        vertical-align: middle;\n",
              "    }\n",
              "\n",
              "    .dataframe tbody tr th {\n",
              "        vertical-align: top;\n",
              "    }\n",
              "\n",
              "    .dataframe thead th {\n",
              "        text-align: right;\n",
              "    }\n",
              "</style>\n",
              "<table border=\"1\" class=\"dataframe\">\n",
              "  <thead>\n",
              "    <tr style=\"text-align: right;\">\n",
              "      <th></th>\n",
              "      <th>Interval</th>\n",
              "      <th>Ratio</th>\n",
              "      <th>a</th>\n",
              "      <th>b</th>\n",
              "      <th>x</th>\n",
              "      <th>w</th>\n",
              "      <th>v</th>\n",
              "      <th>u</th>\n",
              "      <th>f(x)</th>\n",
              "      <th>f(w)</th>\n",
              "      <th>f(v)</th>\n",
              "      <th>f(u)</th>\n",
              "      <th>calculations</th>\n",
              "    </tr>\n",
              "  </thead>\n",
              "  <tbody>\n",
              "    <tr>\n",
              "      <th>0</th>\n",
              "      <td>3.900000</td>\n",
              "      <td>3.900000</td>\n",
              "      <td>6.000000</td>\n",
              "      <td>9.900000</td>\n",
              "      <td>7.950000</td>\n",
              "      <td>7.950000</td>\n",
              "      <td>7.950000</td>\n",
              "      <td>0.000000</td>\n",
              "      <td>-0.816750</td>\n",
              "      <td>-0.816750</td>\n",
              "      <td>-0.816750</td>\n",
              "      <td>0.000000</td>\n",
              "      <td>3.0</td>\n",
              "    </tr>\n",
              "    <tr>\n",
              "      <th>1</th>\n",
              "      <td>2.694834</td>\n",
              "      <td>0.690983</td>\n",
              "      <td>7.205166</td>\n",
              "      <td>9.900000</td>\n",
              "      <td>7.950000</td>\n",
              "      <td>7.205166</td>\n",
              "      <td>7.950000</td>\n",
              "      <td>7.205166</td>\n",
              "      <td>-0.816750</td>\n",
              "      <td>-0.771812</td>\n",
              "      <td>-0.816750</td>\n",
              "      <td>-0.771812</td>\n",
              "      <td>1.0</td>\n",
              "    </tr>\n",
              "    <tr>\n",
              "      <th>2</th>\n",
              "      <td>1.950000</td>\n",
              "      <td>0.723607</td>\n",
              "      <td>7.950000</td>\n",
              "      <td>9.900000</td>\n",
              "      <td>8.694834</td>\n",
              "      <td>7.950000</td>\n",
              "      <td>7.205166</td>\n",
              "      <td>8.694834</td>\n",
              "      <td>-0.845951</td>\n",
              "      <td>-0.816750</td>\n",
              "      <td>-0.771812</td>\n",
              "      <td>-0.845951</td>\n",
              "      <td>1.0</td>\n",
              "    </tr>\n",
              "    <tr>\n",
              "      <th>3</th>\n",
              "      <td>1.205166</td>\n",
              "      <td>0.618034</td>\n",
              "      <td>7.950000</td>\n",
              "      <td>9.155166</td>\n",
              "      <td>8.694834</td>\n",
              "      <td>9.155166</td>\n",
              "      <td>7.950000</td>\n",
              "      <td>9.155166</td>\n",
              "      <td>-0.845951</td>\n",
              "      <td>-0.821423</td>\n",
              "      <td>-0.816750</td>\n",
              "      <td>-0.821423</td>\n",
              "      <td>1.0</td>\n",
              "    </tr>\n",
              "    <tr>\n",
              "      <th>4</th>\n",
              "      <td>0.577323</td>\n",
              "      <td>0.479040</td>\n",
              "      <td>8.577843</td>\n",
              "      <td>9.155166</td>\n",
              "      <td>8.694834</td>\n",
              "      <td>8.577843</td>\n",
              "      <td>9.155166</td>\n",
              "      <td>8.577843</td>\n",
              "      <td>-0.845951</td>\n",
              "      <td>-0.844353</td>\n",
              "      <td>-0.821423</td>\n",
              "      <td>-0.844353</td>\n",
              "      <td>1.0</td>\n",
              "    </tr>\n",
              "    <tr>\n",
              "      <th>5</th>\n",
              "      <td>0.460333</td>\n",
              "      <td>0.797357</td>\n",
              "      <td>8.694834</td>\n",
              "      <td>9.155166</td>\n",
              "      <td>8.695256</td>\n",
              "      <td>8.694834</td>\n",
              "      <td>8.577843</td>\n",
              "      <td>8.695256</td>\n",
              "      <td>-0.845953</td>\n",
              "      <td>-0.845951</td>\n",
              "      <td>-0.844353</td>\n",
              "      <td>-0.845953</td>\n",
              "      <td>1.0</td>\n",
              "    </tr>\n",
              "    <tr>\n",
              "      <th>6</th>\n",
              "      <td>0.176092</td>\n",
              "      <td>0.382533</td>\n",
              "      <td>8.694834</td>\n",
              "      <td>8.870926</td>\n",
              "      <td>8.695256</td>\n",
              "      <td>8.694834</td>\n",
              "      <td>8.577843</td>\n",
              "      <td>8.870926</td>\n",
              "      <td>-0.845953</td>\n",
              "      <td>-0.845951</td>\n",
              "      <td>-0.844353</td>\n",
              "      <td>-0.843994</td>\n",
              "      <td>1.0</td>\n",
              "    </tr>\n",
              "    <tr>\n",
              "      <th>7</th>\n",
              "      <td>0.100422</td>\n",
              "      <td>0.570281</td>\n",
              "      <td>8.694834</td>\n",
              "      <td>8.795256</td>\n",
              "      <td>8.695256</td>\n",
              "      <td>8.694834</td>\n",
              "      <td>8.795256</td>\n",
              "      <td>8.795256</td>\n",
              "      <td>-0.845953</td>\n",
              "      <td>-0.845951</td>\n",
              "      <td>-0.845609</td>\n",
              "      <td>-0.845609</td>\n",
              "      <td>1.0</td>\n",
              "    </tr>\n",
              "  </tbody>\n",
              "</table>\n",
              "</div>"
            ],
            "text/plain": [
              "   Interval     Ratio         a  ...      f(v)      f(u)  calculations\n",
              "0  3.900000  3.900000  6.000000  ... -0.816750  0.000000           3.0\n",
              "1  2.694834  0.690983  7.205166  ... -0.816750 -0.771812           1.0\n",
              "2  1.950000  0.723607  7.950000  ... -0.771812 -0.845951           1.0\n",
              "3  1.205166  0.618034  7.950000  ... -0.816750 -0.821423           1.0\n",
              "4  0.577323  0.479040  8.577843  ... -0.821423 -0.844353           1.0\n",
              "5  0.460333  0.797357  8.694834  ... -0.844353 -0.845953           1.0\n",
              "6  0.176092  0.382533  8.694834  ... -0.844353 -0.843994           1.0\n",
              "7  0.100422  0.570281  8.694834  ... -0.845609 -0.845609           1.0\n",
              "\n",
              "[8 rows x 13 columns]"
            ]
          },
          "metadata": {
            "tags": []
          },
          "execution_count": 18
        }
      ]
    },
    {
      "cell_type": "code",
      "metadata": {
        "colab": {
          "base_uri": "https://localhost:8080/",
          "height": 297
        },
        "id": "DNyyWQNrzWyD",
        "outputId": "4f0184fe-bc05-4cb0-c617-041b8f1f431c"
      },
      "source": [
        "calculations = [3]\n",
        "calculations.extend(np.linspace(4, calc, calc-3))\n",
        "plt.plot(prec, calculations)\n",
        "plt.ylabel(\"calculations\")\n",
        "plt.xlabel(\"log(precision)\")"
      ],
      "execution_count": null,
      "outputs": [
        {
          "output_type": "execute_result",
          "data": {
            "text/plain": [
              "Text(0.5, 0, 'log(precision)')"
            ]
          },
          "metadata": {
            "tags": []
          },
          "execution_count": 19
        },
        {
          "output_type": "display_data",
          "data": {
            "image/png": "[encoded data removed]",
            "text/plain": [
              "<Figure size 432x288 with 1 Axes>"
            ]
          },
          "metadata": {
            "tags": [],
            "needs_background": "light"
          }
        }
      ]
    },
    {
      "cell_type": "markdown",
      "metadata": {
        "id": "ecMd0Bch1wTu"
      },
      "source": [
        "### f3"
      ]
    },
    {
      "cell_type": "code",
      "metadata": {
        "id": "_80TTJEpggRJ",
        "colab": {
          "base_uri": "https://localhost:8080/",
          "height": 276
        },
        "outputId": "3d707474-82a7-4a8c-f631-b8848689c458"
      },
      "source": [
        "df, answer, ans, prec = brent(f3, f3_a, f3_b, precision)\n",
        "print(f'x: {answer}')\n",
        "print(f'f(x): {ans}')\n",
        "calc = int(df['calculations'].sum())\n",
        "print(f'Количество вычислений: {calc}')\n",
        "df"
      ],
      "execution_count": null,
      "outputs": [
        {
          "output_type": "stream",
          "text": [
            "x: 2.112054477260801\n",
            "f(x): -2.985098505082629\n",
            "Количество вычислений: 8\n"
          ],
          "name": "stdout"
        },
        {
          "output_type": "execute_result",
          "data": {
            "text/html": [
              "<div>\n",
              "<style scoped>\n",
              "    .dataframe tbody tr th:only-of-type {\n",
              "        vertical-align: middle;\n",
              "    }\n",
              "\n",
              "    .dataframe tbody tr th {\n",
              "        vertical-align: top;\n",
              "    }\n",
              "\n",
              "    .dataframe thead th {\n",
              "        text-align: right;\n",
              "    }\n",
              "</style>\n",
              "<table border=\"1\" class=\"dataframe\">\n",
              "  <thead>\n",
              "    <tr style=\"text-align: right;\">\n",
              "      <th></th>\n",
              "      <th>Interval</th>\n",
              "      <th>Ratio</th>\n",
              "      <th>a</th>\n",
              "      <th>b</th>\n",
              "      <th>x</th>\n",
              "      <th>w</th>\n",
              "      <th>v</th>\n",
              "      <th>u</th>\n",
              "      <th>f(x)</th>\n",
              "      <th>f(w)</th>\n",
              "      <th>f(v)</th>\n",
              "      <th>f(u)</th>\n",
              "      <th>calculations</th>\n",
              "    </tr>\n",
              "  </thead>\n",
              "  <tbody>\n",
              "    <tr>\n",
              "      <th>0</th>\n",
              "      <td>6.283185</td>\n",
              "      <td>6.283185</td>\n",
              "      <td>0.000000</td>\n",
              "      <td>6.283185</td>\n",
              "      <td>3.141593</td>\n",
              "      <td>3.141593</td>\n",
              "      <td>3.141593</td>\n",
              "      <td>0.000000</td>\n",
              "      <td>-2.119453</td>\n",
              "      <td>-2.119453</td>\n",
              "      <td>-2.119453</td>\n",
              "      <td>0.000000</td>\n",
              "      <td>3.0</td>\n",
              "    </tr>\n",
              "    <tr>\n",
              "      <th>1</th>\n",
              "      <td>3.141593</td>\n",
              "      <td>0.500000</td>\n",
              "      <td>0.000000</td>\n",
              "      <td>3.141593</td>\n",
              "      <td>1.941611</td>\n",
              "      <td>3.141593</td>\n",
              "      <td>3.141593</td>\n",
              "      <td>1.941611</td>\n",
              "      <td>-2.959742</td>\n",
              "      <td>-2.119453</td>\n",
              "      <td>-2.119453</td>\n",
              "      <td>-2.959742</td>\n",
              "      <td>1.0</td>\n",
              "    </tr>\n",
              "    <tr>\n",
              "      <th>2</th>\n",
              "      <td>1.941611</td>\n",
              "      <td>0.618034</td>\n",
              "      <td>1.199982</td>\n",
              "      <td>3.141593</td>\n",
              "      <td>1.941611</td>\n",
              "      <td>1.199982</td>\n",
              "      <td>3.141593</td>\n",
              "      <td>1.199982</td>\n",
              "      <td>-2.959742</td>\n",
              "      <td>-2.259234</td>\n",
              "      <td>-2.119453</td>\n",
              "      <td>-2.259234</td>\n",
              "      <td>1.0</td>\n",
              "    </tr>\n",
              "    <tr>\n",
              "      <th>3</th>\n",
              "      <td>1.199982</td>\n",
              "      <td>0.618034</td>\n",
              "      <td>1.941611</td>\n",
              "      <td>3.141593</td>\n",
              "      <td>2.128295</td>\n",
              "      <td>1.941611</td>\n",
              "      <td>1.199982</td>\n",
              "      <td>2.128295</td>\n",
              "      <td>-2.984860</td>\n",
              "      <td>-2.959742</td>\n",
              "      <td>-2.259234</td>\n",
              "      <td>-2.984860</td>\n",
              "      <td>1.0</td>\n",
              "    </tr>\n",
              "    <tr>\n",
              "      <th>4</th>\n",
              "      <td>0.186684</td>\n",
              "      <td>0.155573</td>\n",
              "      <td>1.941611</td>\n",
              "      <td>2.128295</td>\n",
              "      <td>2.112054</td>\n",
              "      <td>2.128295</td>\n",
              "      <td>1.941611</td>\n",
              "      <td>2.112054</td>\n",
              "      <td>-2.985099</td>\n",
              "      <td>-2.984860</td>\n",
              "      <td>-2.959742</td>\n",
              "      <td>-2.985099</td>\n",
              "      <td>1.0</td>\n",
              "    </tr>\n",
              "    <tr>\n",
              "      <th>5</th>\n",
              "      <td>0.116241</td>\n",
              "      <td>0.622660</td>\n",
              "      <td>2.012054</td>\n",
              "      <td>2.128295</td>\n",
              "      <td>2.112054</td>\n",
              "      <td>2.128295</td>\n",
              "      <td>2.012054</td>\n",
              "      <td>2.012054</td>\n",
              "      <td>-2.985099</td>\n",
              "      <td>-2.984860</td>\n",
              "      <td>-2.976402</td>\n",
              "      <td>-2.976402</td>\n",
              "      <td>1.0</td>\n",
              "    </tr>\n",
              "  </tbody>\n",
              "</table>\n",
              "</div>"
            ],
            "text/plain": [
              "   Interval     Ratio         a  ...      f(v)      f(u)  calculations\n",
              "0  6.283185  6.283185  0.000000  ... -2.119453  0.000000           3.0\n",
              "1  3.141593  0.500000  0.000000  ... -2.119453 -2.959742           1.0\n",
              "2  1.941611  0.618034  1.199982  ... -2.119453 -2.259234           1.0\n",
              "3  1.199982  0.618034  1.941611  ... -2.259234 -2.984860           1.0\n",
              "4  0.186684  0.155573  1.941611  ... -2.959742 -2.985099           1.0\n",
              "5  0.116241  0.622660  2.012054  ... -2.976402 -2.976402           1.0\n",
              "\n",
              "[6 rows x 13 columns]"
            ]
          },
          "metadata": {
            "tags": []
          },
          "execution_count": 12
        }
      ]
    },
    {
      "cell_type": "code",
      "metadata": {
        "colab": {
          "base_uri": "https://localhost:8080/",
          "height": 297
        },
        "id": "JffeArHrzfV-",
        "outputId": "adb5c3df-66ec-4bdb-aab0-969ec9101186"
      },
      "source": [
        "calculations = [3]\n",
        "calculations.extend(np.linspace(4, calc, calc-3))\n",
        "plt.plot(prec, calculations)\n",
        "plt.ylabel(\"calculations\")\n",
        "plt.xlabel(\"log(precision)\")"
      ],
      "execution_count": null,
      "outputs": [
        {
          "output_type": "execute_result",
          "data": {
            "text/plain": [
              "Text(0.5, 0, 'log(precision)')"
            ]
          },
          "metadata": {
            "tags": []
          },
          "execution_count": 13
        },
        {
          "output_type": "display_data",
          "data": {
            "image/png": "[encoded data removed]",
            "text/plain": [
              "<Figure size 432x288 with 1 Axes>"
            ]
          },
          "metadata": {
            "tags": [],
            "needs_background": "light"
          }
        }
      ]
    },
    {
      "cell_type": "markdown",
      "metadata": {
        "id": "Hk9nD3Vu1un8"
      },
      "source": [
        "### f4"
      ]
    },
    {
      "cell_type": "code",
      "metadata": {
        "id": "bi7D6-RVggIu",
        "colab": {
          "base_uri": "https://localhost:8080/",
          "height": 247
        },
        "outputId": "2c5b5097-2294-4652-8057-e784facf4b8a"
      },
      "source": [
        "df, answer, ans, prec = brent(f4, f4_a, f4_b, precision)\n",
        "print(f'x: {answer}')\n",
        "print(f'f(x): {ans}')\n",
        "calc = int(df['calculations'].sum())\n",
        "print(f'Количество вычислений: {calc}')\n",
        "df"
      ],
      "execution_count": null,
      "outputs": [
        {
          "output_type": "stream",
          "text": [
            "x: 0.1909830056250526\n",
            "f(x): 5.186080651183068\n",
            "Количество вычислений: 7\n"
          ],
          "name": "stdout"
        },
        {
          "output_type": "execute_result",
          "data": {
            "text/html": [
              "<div>\n",
              "<style scoped>\n",
              "    .dataframe tbody tr th:only-of-type {\n",
              "        vertical-align: middle;\n",
              "    }\n",
              "\n",
              "    .dataframe tbody tr th {\n",
              "        vertical-align: top;\n",
              "    }\n",
              "\n",
              "    .dataframe thead th {\n",
              "        text-align: right;\n",
              "    }\n",
              "</style>\n",
              "<table border=\"1\" class=\"dataframe\">\n",
              "  <thead>\n",
              "    <tr style=\"text-align: right;\">\n",
              "      <th></th>\n",
              "      <th>Interval</th>\n",
              "      <th>Ratio</th>\n",
              "      <th>a</th>\n",
              "      <th>b</th>\n",
              "      <th>x</th>\n",
              "      <th>w</th>\n",
              "      <th>v</th>\n",
              "      <th>u</th>\n",
              "      <th>f(x)</th>\n",
              "      <th>f(w)</th>\n",
              "      <th>f(v)</th>\n",
              "      <th>f(u)</th>\n",
              "      <th>calculations</th>\n",
              "    </tr>\n",
              "  </thead>\n",
              "  <tbody>\n",
              "    <tr>\n",
              "      <th>0</th>\n",
              "      <td>1.000000</td>\n",
              "      <td>1.000000</td>\n",
              "      <td>0.000000</td>\n",
              "      <td>1.000000</td>\n",
              "      <td>0.500000</td>\n",
              "      <td>0.500000</td>\n",
              "      <td>0.500000</td>\n",
              "      <td>0.000000</td>\n",
              "      <td>6.321086</td>\n",
              "      <td>6.321086</td>\n",
              "      <td>6.321086</td>\n",
              "      <td>0.000000</td>\n",
              "      <td>3.0</td>\n",
              "    </tr>\n",
              "    <tr>\n",
              "      <th>1</th>\n",
              "      <td>0.500000</td>\n",
              "      <td>0.500000</td>\n",
              "      <td>0.000000</td>\n",
              "      <td>0.500000</td>\n",
              "      <td>0.309017</td>\n",
              "      <td>0.500000</td>\n",
              "      <td>0.500000</td>\n",
              "      <td>0.309017</td>\n",
              "      <td>5.222061</td>\n",
              "      <td>6.321086</td>\n",
              "      <td>6.321086</td>\n",
              "      <td>5.222061</td>\n",
              "      <td>1.0</td>\n",
              "    </tr>\n",
              "    <tr>\n",
              "      <th>2</th>\n",
              "      <td>0.309017</td>\n",
              "      <td>0.618034</td>\n",
              "      <td>0.000000</td>\n",
              "      <td>0.309017</td>\n",
              "      <td>0.190983</td>\n",
              "      <td>0.309017</td>\n",
              "      <td>0.500000</td>\n",
              "      <td>0.190983</td>\n",
              "      <td>5.186081</td>\n",
              "      <td>5.222061</td>\n",
              "      <td>6.321086</td>\n",
              "      <td>5.186081</td>\n",
              "      <td>1.0</td>\n",
              "    </tr>\n",
              "    <tr>\n",
              "      <th>3</th>\n",
              "      <td>0.218034</td>\n",
              "      <td>0.705573</td>\n",
              "      <td>0.090983</td>\n",
              "      <td>0.309017</td>\n",
              "      <td>0.190983</td>\n",
              "      <td>0.309017</td>\n",
              "      <td>0.090983</td>\n",
              "      <td>0.090983</td>\n",
              "      <td>5.186081</td>\n",
              "      <td>5.222061</td>\n",
              "      <td>5.481982</td>\n",
              "      <td>5.481982</td>\n",
              "      <td>1.0</td>\n",
              "    </tr>\n",
              "    <tr>\n",
              "      <th>4</th>\n",
              "      <td>0.200000</td>\n",
              "      <td>0.917288</td>\n",
              "      <td>0.090983</td>\n",
              "      <td>0.290983</td>\n",
              "      <td>0.190983</td>\n",
              "      <td>0.290983</td>\n",
              "      <td>0.309017</td>\n",
              "      <td>0.290983</td>\n",
              "      <td>5.186081</td>\n",
              "      <td>5.187954</td>\n",
              "      <td>5.222061</td>\n",
              "      <td>5.187954</td>\n",
              "      <td>1.0</td>\n",
              "    </tr>\n",
              "  </tbody>\n",
              "</table>\n",
              "</div>"
            ],
            "text/plain": [
              "   Interval     Ratio         a  ...      f(v)      f(u)  calculations\n",
              "0  1.000000  1.000000  0.000000  ...  6.321086  0.000000           3.0\n",
              "1  0.500000  0.500000  0.000000  ...  6.321086  5.222061           1.0\n",
              "2  0.309017  0.618034  0.000000  ...  6.321086  5.186081           1.0\n",
              "3  0.218034  0.705573  0.090983  ...  5.481982  5.481982           1.0\n",
              "4  0.200000  0.917288  0.090983  ...  5.222061  5.187954           1.0\n",
              "\n",
              "[5 rows x 13 columns]"
            ]
          },
          "metadata": {
            "tags": []
          },
          "execution_count": 16
        }
      ]
    },
    {
      "cell_type": "code",
      "metadata": {
        "colab": {
          "base_uri": "https://localhost:8080/",
          "height": 297
        },
        "id": "JeznhggyzpAa",
        "outputId": "00683fd1-dd8e-4e00-fab4-55a7ed2e988b"
      },
      "source": [
        "calculations = [3]\n",
        "calculations.extend(np.linspace(4, calc, calc-3))\n",
        "plt.plot(prec, calculations)\n",
        "plt.ylabel(\"calculations\")\n",
        "plt.xlabel(\"log(precision)\")"
      ],
      "execution_count": null,
      "outputs": [
        {
          "output_type": "execute_result",
          "data": {
            "text/plain": [
              "Text(0.5, 0, 'log(precision)')"
            ]
          },
          "metadata": {
            "tags": []
          },
          "execution_count": 17
        },
        {
          "output_type": "display_data",
          "data": {
            "image/png": "[encoded data removed]",
            "text/plain": [
              "<Figure size 432x288 with 1 Axes>"
            ]
          },
          "metadata": {
            "tags": [],
            "needs_background": "light"
          }
        }
      ]
    },
    {
      "cell_type": "markdown",
      "metadata": {
        "id": "06DD-NrD1sXa"
      },
      "source": [
        "### f5"
      ]
    },
    {
      "cell_type": "code",
      "metadata": {
        "id": "pfSItyazgf2u",
        "colab": {
          "base_uri": "https://localhost:8080/",
          "height": 306
        },
        "outputId": "b77e3835-55d8-432c-ee8c-3d41b15d55a4"
      },
      "source": [
        "df, answer, ans, prec = brent(f5, f5_a, f5_b, precision)\n",
        "print(f'x: {answer}')\n",
        "print(f'f(x): {ans}')\n",
        "calc = int(df['calculations'].sum())\n",
        "print(f'Количество вычислений: {calc}')\n",
        "df"
      ],
      "execution_count": null,
      "outputs": [
        {
          "output_type": "stream",
          "text": [
            "x: 2.1239521058020547\n",
            "f(x): 0.35097837528520137\n",
            "Количество вычислений: 9\n"
          ],
          "name": "stdout"
        },
        {
          "output_type": "execute_result",
          "data": {
            "text/html": [
              "<div>\n",
              "<style scoped>\n",
              "    .dataframe tbody tr th:only-of-type {\n",
              "        vertical-align: middle;\n",
              "    }\n",
              "\n",
              "    .dataframe tbody tr th {\n",
              "        vertical-align: top;\n",
              "    }\n",
              "\n",
              "    .dataframe thead th {\n",
              "        text-align: right;\n",
              "    }\n",
              "</style>\n",
              "<table border=\"1\" class=\"dataframe\">\n",
              "  <thead>\n",
              "    <tr style=\"text-align: right;\">\n",
              "      <th></th>\n",
              "      <th>Interval</th>\n",
              "      <th>Ratio</th>\n",
              "      <th>a</th>\n",
              "      <th>b</th>\n",
              "      <th>x</th>\n",
              "      <th>w</th>\n",
              "      <th>v</th>\n",
              "      <th>u</th>\n",
              "      <th>f(x)</th>\n",
              "      <th>f(w)</th>\n",
              "      <th>f(v)</th>\n",
              "      <th>f(u)</th>\n",
              "      <th>calculations</th>\n",
              "    </tr>\n",
              "  </thead>\n",
              "  <tbody>\n",
              "    <tr>\n",
              "      <th>0</th>\n",
              "      <td>2.000000</td>\n",
              "      <td>2.000000</td>\n",
              "      <td>0.500000</td>\n",
              "      <td>2.500000</td>\n",
              "      <td>1.500000</td>\n",
              "      <td>1.500000</td>\n",
              "      <td>1.500000</td>\n",
              "      <td>0.000000</td>\n",
              "      <td>0.761640</td>\n",
              "      <td>0.761640</td>\n",
              "      <td>0.761640</td>\n",
              "      <td>0.000000</td>\n",
              "      <td>3.0</td>\n",
              "    </tr>\n",
              "    <tr>\n",
              "      <th>1</th>\n",
              "      <td>1.381966</td>\n",
              "      <td>0.690983</td>\n",
              "      <td>1.118034</td>\n",
              "      <td>2.500000</td>\n",
              "      <td>1.500000</td>\n",
              "      <td>1.118034</td>\n",
              "      <td>1.500000</td>\n",
              "      <td>1.118034</td>\n",
              "      <td>0.761640</td>\n",
              "      <td>1.421992</td>\n",
              "      <td>0.761640</td>\n",
              "      <td>1.421992</td>\n",
              "      <td>1.0</td>\n",
              "    </tr>\n",
              "    <tr>\n",
              "      <th>2</th>\n",
              "      <td>1.000000</td>\n",
              "      <td>0.723607</td>\n",
              "      <td>1.500000</td>\n",
              "      <td>2.500000</td>\n",
              "      <td>1.881966</td>\n",
              "      <td>1.500000</td>\n",
              "      <td>1.118034</td>\n",
              "      <td>1.881966</td>\n",
              "      <td>0.412752</td>\n",
              "      <td>0.761640</td>\n",
              "      <td>1.421992</td>\n",
              "      <td>0.412752</td>\n",
              "      <td>1.0</td>\n",
              "    </tr>\n",
              "    <tr>\n",
              "      <th>3</th>\n",
              "      <td>0.618034</td>\n",
              "      <td>0.618034</td>\n",
              "      <td>1.881966</td>\n",
              "      <td>2.500000</td>\n",
              "      <td>2.118842</td>\n",
              "      <td>1.881966</td>\n",
              "      <td>1.500000</td>\n",
              "      <td>2.118842</td>\n",
              "      <td>0.351013</td>\n",
              "      <td>0.412752</td>\n",
              "      <td>0.761640</td>\n",
              "      <td>0.351013</td>\n",
              "      <td>1.0</td>\n",
              "    </tr>\n",
              "    <tr>\n",
              "      <th>4</th>\n",
              "      <td>0.381158</td>\n",
              "      <td>0.616727</td>\n",
              "      <td>2.118842</td>\n",
              "      <td>2.500000</td>\n",
              "      <td>2.123952</td>\n",
              "      <td>2.118842</td>\n",
              "      <td>1.881966</td>\n",
              "      <td>2.123952</td>\n",
              "      <td>0.350978</td>\n",
              "      <td>0.351013</td>\n",
              "      <td>0.412752</td>\n",
              "      <td>0.350978</td>\n",
              "      <td>1.0</td>\n",
              "    </tr>\n",
              "    <tr>\n",
              "      <th>5</th>\n",
              "      <td>0.148748</td>\n",
              "      <td>0.390252</td>\n",
              "      <td>2.118842</td>\n",
              "      <td>2.267590</td>\n",
              "      <td>2.123952</td>\n",
              "      <td>2.118842</td>\n",
              "      <td>2.267590</td>\n",
              "      <td>2.267590</td>\n",
              "      <td>0.350978</td>\n",
              "      <td>0.351013</td>\n",
              "      <td>0.372353</td>\n",
              "      <td>0.372353</td>\n",
              "      <td>1.0</td>\n",
              "    </tr>\n",
              "    <tr>\n",
              "      <th>6</th>\n",
              "      <td>0.105110</td>\n",
              "      <td>0.706634</td>\n",
              "      <td>2.118842</td>\n",
              "      <td>2.223952</td>\n",
              "      <td>2.123952</td>\n",
              "      <td>2.118842</td>\n",
              "      <td>2.223952</td>\n",
              "      <td>2.223952</td>\n",
              "      <td>0.350978</td>\n",
              "      <td>0.351013</td>\n",
              "      <td>0.361298</td>\n",
              "      <td>0.361298</td>\n",
              "      <td>1.0</td>\n",
              "    </tr>\n",
              "  </tbody>\n",
              "</table>\n",
              "</div>"
            ],
            "text/plain": [
              "   Interval     Ratio         a  ...      f(v)      f(u)  calculations\n",
              "0  2.000000  2.000000  0.500000  ...  0.761640  0.000000           3.0\n",
              "1  1.381966  0.690983  1.118034  ...  0.761640  1.421992           1.0\n",
              "2  1.000000  0.723607  1.500000  ...  1.421992  0.412752           1.0\n",
              "3  0.618034  0.618034  1.881966  ...  0.761640  0.351013           1.0\n",
              "4  0.381158  0.616727  2.118842  ...  0.412752  0.350978           1.0\n",
              "5  0.148748  0.390252  2.118842  ...  0.372353  0.372353           1.0\n",
              "6  0.105110  0.706634  2.118842  ...  0.361298  0.361298           1.0\n",
              "\n",
              "[7 rows x 13 columns]"
            ]
          },
          "metadata": {
            "tags": []
          },
          "execution_count": 14
        }
      ]
    },
    {
      "cell_type": "code",
      "metadata": {
        "colab": {
          "base_uri": "https://localhost:8080/",
          "height": 297
        },
        "id": "m7es16ybztYD",
        "outputId": "d86a8bbe-ba90-46f3-aab7-53d6a58bd018"
      },
      "source": [
        "calculations = [3]\n",
        "calculations.extend(np.linspace(4, calc, calc-3))\n",
        "plt.plot(prec, calculations)\n",
        "plt.ylabel(\"calculations\")\n",
        "plt.xlabel(\"log(precision)\")"
      ],
      "execution_count": null,
      "outputs": [
        {
          "output_type": "execute_result",
          "data": {
            "text/plain": [
              "Text(0.5, 0, 'log(precision)')"
            ]
          },
          "metadata": {
            "tags": []
          },
          "execution_count": 15
        },
        {
          "output_type": "display_data",
          "data": {
            "image/png": "[encoded data removed]",
            "text/plain": [
              "<Figure size 432x288 with 1 Axes>"
            ]
          },
          "metadata": {
            "tags": [],
            "needs_background": "light"
          }
        }
      ]
    },
    {
      "cell_type": "markdown",
      "metadata": {
        "id": "hP0E76bfaRLN"
      },
      "source": [
        "# Графики исходных функций"
      ]
    },
    {
      "cell_type": "code",
      "metadata": {
        "id": "DIIxbs2meJ8Z",
        "colab": {
          "base_uri": "https://localhost:8080/",
          "height": 297
        },
        "outputId": "660f8c8f-fa31-49c7-f0d9-a19146be561d"
      },
      "source": [
        "x = np.linspace(-0.5, 0.5, 40)\n",
        "y = list(map(f1, x))\n",
        "\n",
        "plt.plot(x, y)\n",
        "plt.ylabel(\"f1(x)\")\n",
        "plt.xlabel(\"x\")"
      ],
      "execution_count": null,
      "outputs": [
        {
          "output_type": "execute_result",
          "data": {
            "text/plain": [
              "Text(0.5, 0, 'x')"
            ]
          },
          "metadata": {
            "tags": []
          },
          "execution_count": 303
        },
        {
          "output_type": "display_data",
          "data": {
            "image/png": "[encoded data removed]",
            "text/plain": [
              "<Figure size 432x288 with 1 Axes>"
            ]
          },
          "metadata": {
            "tags": [],
            "needs_background": "light"
          }
        }
      ]
    },
    {
      "cell_type": "code",
      "metadata": {
        "id": "vah8LUbz_mnB",
        "colab": {
          "base_uri": "https://localhost:8080/",
          "height": 297
        },
        "outputId": "9204daf4-709f-4f87-c8ad-738c9782c732"
      },
      "source": [
        "x = np.linspace(6, 9.9, 40)\n",
        "y = list(map(f2, x))\n",
        "\n",
        "plt.plot(x, y)\n",
        "plt.ylabel(\"f2(x)\")\n",
        "plt.xlabel(\"x\")"
      ],
      "execution_count": null,
      "outputs": [
        {
          "output_type": "execute_result",
          "data": {
            "text/plain": [
              "Text(0.5, 0, 'x')"
            ]
          },
          "metadata": {
            "tags": []
          },
          "execution_count": 304
        },
        {
          "output_type": "display_data",
          "data": {
            "image/png": "[encoded data removed]",
            "text/plain": [
              "<Figure size 432x288 with 1 Axes>"
            ]
          },
          "metadata": {
            "tags": [],
            "needs_background": "light"
          }
        }
      ]
    },
    {
      "cell_type": "code",
      "metadata": {
        "id": "R7gOSemgBi6T",
        "colab": {
          "base_uri": "https://localhost:8080/",
          "height": 297
        },
        "outputId": "971d00f2-cdbb-428a-f43c-9d8540bb216e"
      },
      "source": [
        "x = np.linspace(0, 2*m.pi, 40)\n",
        "y = list(map(f3, x))\n",
        "\n",
        "plt.plot(x, y)\n",
        "plt.ylabel(\"f3(x)\")\n",
        "plt.xlabel(\"x\")"
      ],
      "execution_count": null,
      "outputs": [
        {
          "output_type": "execute_result",
          "data": {
            "text/plain": [
              "Text(0.5, 0, 'x')"
            ]
          },
          "metadata": {
            "tags": []
          },
          "execution_count": 305
        },
        {
          "output_type": "display_data",
          "data": {
            "image/png": "[encoded data removed]",
            "text/plain": [
              "<Figure size 432x288 with 1 Axes>"
            ]
          },
          "metadata": {
            "tags": [],
            "needs_background": "light"
          }
        }
      ]
    },
    {
      "cell_type": "code",
      "metadata": {
        "id": "FMKvfLt_E9q5",
        "colab": {
          "base_uri": "https://localhost:8080/",
          "height": 297
        },
        "outputId": "ac67e859-27b7-4edb-ec44-1ed29e511db4"
      },
      "source": [
        "x = np.linspace(0, 1, 40)\n",
        "y = list(map(f4, x))\n",
        "\n",
        "plt.plot(x, y)\n",
        "plt.ylabel(\"f4(x)\")\n",
        "plt.xlabel(\"x\")"
      ],
      "execution_count": null,
      "outputs": [
        {
          "output_type": "execute_result",
          "data": {
            "text/plain": [
              "Text(0.5, 0, 'x')"
            ]
          },
          "metadata": {
            "tags": []
          },
          "execution_count": 306
        },
        {
          "output_type": "display_data",
          "data": {
            "image/png": "[encoded data removed]",
            "text/plain": [
              "<Figure size 432x288 with 1 Axes>"
            ]
          },
          "metadata": {
            "tags": [],
            "needs_background": "light"
          }
        }
      ]
    },
    {
      "cell_type": "code",
      "metadata": {
        "id": "_c2PNOS7FnW7",
        "colab": {
          "base_uri": "https://localhost:8080/",
          "height": 297
        },
        "outputId": "cb0c4eaa-2ef4-4485-cf76-b0d3715de356"
      },
      "source": [
        "x = np.linspace(0.5, 2.5, 40)\n",
        "y = list(map(f5, x))\n",
        "\n",
        "plt.plot(x, y)\n",
        "plt.ylabel(\"f5(x)\")\n",
        "plt.xlabel(\"x\")"
      ],
      "execution_count": null,
      "outputs": [
        {
          "output_type": "execute_result",
          "data": {
            "text/plain": [
              "Text(0.5, 0, 'x')"
            ]
          },
          "metadata": {
            "tags": []
          },
          "execution_count": 307
        },
        {
          "output_type": "display_data",
          "data": {
            "image/png": "[encoded data removed]",
            "text/plain": [
              "<Figure size 432x288 with 1 Axes>"
            ]
          },
          "metadata": {
            "tags": [],
            "needs_background": "light"
          }
        }
      ]
    },
    {
      "cell_type": "markdown",
      "metadata": {
        "id": "pYoejYQurpmw"
      },
      "source": [
        "# Мультимодальные функции"
      ]
    },
    {
      "cell_type": "markdown",
      "metadata": {
        "id": "vOReb-vo-Dn0"
      },
      "source": [
        "# Новый раздел"
      ]
    },
    {
      "cell_type": "code",
      "metadata": {
        "id": "sj4B8emQrwGd"
      },
      "source": [
        "def f6(x):\n",
        "    return 0.007 * x ** 6 - 0.15 * x ** 5 + 1.14 * x ** 4 - 3.5 * x ** 3 + 2.9 * x ** 2 + 2.95 * x + 2.25\n",
        "f6_a = -1\n",
        "f6_b = 6.5"
      ],
      "execution_count": null,
      "outputs": []
    },
    {
      "cell_type": "code",
      "metadata": {
        "colab": {
          "base_uri": "https://localhost:8080/",
          "height": 298
        },
        "id": "SXpDREeesM2C",
        "outputId": "e8651341-18b4-4be1-b8f9-091822e7868f"
      },
      "source": [
        "x = np.linspace(f6_a, f6_b, 40)\n",
        "y = list(map(f6, x))\n",
        "\n",
        "plt.plot(x, y)\n",
        "plt.ylabel(\"f1(x)\")\n",
        "plt.xlabel(\"x\")"
      ],
      "execution_count": null,
      "outputs": [
        {
          "output_type": "execute_result",
          "data": {
            "text/plain": [
              "Text(0.5, 0, 'x')"
            ]
          },
          "metadata": {
            "tags": []
          },
          "execution_count": 3
        },
        {
          "output_type": "display_data",
          "data": {
            "image/png": "[encoded data removed]",
            "text/plain": [
              "<Figure size 432x288 with 1 Axes>"
            ]
          },
          "metadata": {
            "tags": [],
            "needs_background": "light"
          }
        }
      ]
    },
    {
      "cell_type": "code",
      "metadata": {
        "id": "VpIzeEChtB4f"
      },
      "source": [
        "_, answer, ans, _ = goldenRatio(f6, f6_a, f6_b, precision)"
      ],
      "execution_count": null,
      "outputs": []
    },
    {
      "cell_type": "code",
      "metadata": {
        "colab": {
          "base_uri": "https://localhost:8080/",
          "height": 298
        },
        "id": "1XQPyhgcti-B",
        "outputId": "81f6bd4a-7f18-4d60-f336-595e3304f2d3"
      },
      "source": [
        "x = np.linspace(f6_a, f6_b, 40)\n",
        "y = list(map(f6, x))\n",
        "\n",
        "plt.plot(x, y)\n",
        "plt.plot(answer, ans, 'go') \n",
        "plt.ylabel(\"f1(x)\")\n",
        "plt.xlabel(\"x\")"
      ],
      "execution_count": null,
      "outputs": [
        {
          "output_type": "execute_result",
          "data": {
            "text/plain": [
              "Text(0.5, 0, 'x')"
            ]
          },
          "metadata": {
            "tags": []
          },
          "execution_count": 18
        },
        {
          "output_type": "display_data",
          "data": {
            "image/png": "[encoded data removed]",
            "text/plain": [
              "<Figure size 432x288 with 1 Axes>"
            ]
          },
          "metadata": {
            "tags": [],
            "needs_background": "light"
          }
        }
      ]
    },
    {
      "cell_type": "code",
      "metadata": {
        "id": "0GLD5dEbuSUQ"
      },
      "source": [
        "_, answer, ans, _ = brent(f6, f6_a, f6_b, precision)"
      ],
      "execution_count": null,
      "outputs": []
    },
    {
      "cell_type": "code",
      "metadata": {
        "colab": {
          "base_uri": "https://localhost:8080/",
          "height": 298
        },
        "id": "oBqJjkIsvBTL",
        "outputId": "a6a16240-9cb3-4f5c-bd4d-44346646d8bf"
      },
      "source": [
        "x = np.linspace(f6_a, f6_b, 40)\n",
        "y = list(map(f6, x))\n",
        "\n",
        "plt.plot(x, y)\n",
        "plt.plot(answer, ans, 'go')\n",
        "plt.ylabel(\"f1(x)\")\n",
        "plt.xlabel(\"x\")"
      ],
      "execution_count": null,
      "outputs": [
        {
          "output_type": "execute_result",
          "data": {
            "text/plain": [
              "Text(0.5, 0, 'x')"
            ]
          },
          "metadata": {
            "tags": []
          },
          "execution_count": 23
        },
        {
          "output_type": "display_data",
          "data": {
            "image/png": "[encoded data removed]",
            "text/plain": [
              "<Figure size 432x288 with 1 Axes>"
            ]
          },
          "metadata": {
            "tags": [],
            "needs_background": "light"
          }
        }
      ]
    },
    {
      "cell_type": "markdown",
      "metadata": {
        "id": "6qqj0Z-kvCc6"
      },
      "source": [
        "На примере выше видно, что методы золотого сечения и Брента не смогли найти правильный минимум мультимодальной функции. Необходимое условие для корректной работы вышеописанных алгоритмов -- унимодальность функции на интересующем отрезке, поскольку сразу же в рассматриваемом интервале мы берем некоторые точки по середине и делаем сравнение значений функции на краях и в середине интервала. Такой подход не преподлагает наличие более одного минимума (или максимума)"
      ]
    }
  ]
}